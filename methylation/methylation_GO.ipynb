{
 "cells": [
  {
   "cell_type": "code",
   "execution_count": null,
   "metadata": {
    "colab": {
     "base_uri": "https://localhost:8080/"
    },
    "id": "pMbcq1MjhwHB",
    "outputId": "8627f1de-8b1c-42d0-e59c-a5b5f63ad33c"
   },
   "outputs": [],
   "source": [
    "install.packages(\"BiocManager\")\n",
    "BiocManager::install(\"missMethyl\")\n",
    "library(missMethyl)"
   ]
  },
  {
   "cell_type": "code",
   "execution_count": null,
   "metadata": {
    "colab": {
     "base_uri": "https://localhost:8080/"
    },
    "id": "9OXdSXSTfyhX",
    "outputId": "51fae702-ed4b-4680-dafc-9460d40f0c09"
   },
   "outputs": [],
   "source": [
    "BiocManager::install(\"clusterProfiler\")\n",
    "BiocManager::install(\"org.Mm.eg.db\")\n",
    "\n",
    "library(clusterProfiler)\n",
    "library(org.Mm.eg.db)"
   ]
  },
  {
   "cell_type": "markdown",
   "metadata": {
    "id": "Vi0_TWlnfYT8"
   },
   "source": [
    "More on GO analysis:\n",
    "\n",
    "https://yulab-smu.top/biomedical-knowledge-mining-book/enrichment-overview.html\n",
    "\n",
    "https://yulab-smu.top/biomedical-knowledge-mining-book/clusterprofiler-go.html"
   ]
  },
  {
   "cell_type": "markdown",
   "metadata": {
    "id": "tHfUMHXPiqme"
   },
   "source": [
    "We can understand which biological processes, molecular functions and cell components can be influenced by differences in methylation level"
   ]
  },
  {
   "cell_type": "code",
   "execution_count": null,
   "metadata": {
    "colab": {
     "base_uri": "https://localhost:8080/"
    },
    "id": "EPvezxo84piR",
    "outputId": "182b3a44-1e0f-43a1-8841-e875971fb9e0"
   },
   "outputs": [],
   "source": [
    "BiocManager::install(c(\"GenomicRanges\", \"rtracklayer\", \"biomaRt\"))"
   ]
  },
  {
   "cell_type": "code",
   "execution_count": 12,
   "metadata": {
    "colab": {
     "base_uri": "https://localhost:8080/",
     "height": 150
    },
    "id": "2_1CRJ4H41Qo",
    "outputId": "20cb6cc5-cbc1-479f-caf7-815f6ef561d1"
   },
   "outputs": [
    {
     "name": "stderr",
     "output_type": "stream",
     "text": [
      "Warning message in .merge_two_Seqinfo_objects(x, y):\n",
      "“The 2 combined objects have no sequence levels in common. (Use\n",
      "  suppressWarnings() to suppress this warning.)”\n"
     ]
    },
    {
     "data": {
      "text/html": [
       "<table class=\"dataframe\">\n",
       "<caption>A data.frame: 0 × 5</caption>\n",
       "<thead>\n",
       "\t<tr><th scope=col>chr</th><th scope=col>start</th><th scope=col>end</th><th scope=col>gene_id</th><th scope=col>gene_name</th></tr>\n",
       "\t<tr><th scope=col>&lt;fct&gt;</th><th scope=col>&lt;int&gt;</th><th scope=col>&lt;int&gt;</th><th scope=col>&lt;chr&gt;</th><th scope=col>&lt;chr&gt;</th></tr>\n",
       "</thead>\n",
       "<tbody>\n",
       "</tbody>\n",
       "</table>\n"
      ],
      "text/latex": [
       "A data.frame: 0 × 5\n",
       "\\begin{tabular}{lllll}\n",
       " chr & start & end & gene\\_id & gene\\_name\\\\\n",
       " <fct> & <int> & <int> & <chr> & <chr>\\\\\n",
       "\\hline\n",
       "\\end{tabular}\n"
      ],
      "text/markdown": [
       "\n",
       "A data.frame: 0 × 5\n",
       "\n",
       "| chr &lt;fct&gt; | start &lt;int&gt; | end &lt;int&gt; | gene_id &lt;chr&gt; | gene_name &lt;chr&gt; |\n",
       "|---|---|---|---|---|\n",
       "\n"
      ],
      "text/plain": [
       "     chr start end gene_id gene_name"
      ]
     },
     "metadata": {},
     "output_type": "display_data"
    }
   ],
   "source": [
    "dmr_data <- read.table(\"denovo_qval.0.05.out\", header = FALSE)\n",
    "\n",
    "library(GenomicRanges)\n",
    "\n",
    "dmr_gr <- GRanges(seqnames = dmr_data$V1,\n",
    "                  ranges = IRanges(start = dmr_data$V2, end = dmr_data$V3))\n",
    "library(biomaRt)\n",
    "\n",
    "ensembl <- useMart(\"ensembl\")\n",
    "mouse <- useDataset(\"mmusculus_gene_ensembl\", mart = ensembl)\n",
    "\n",
    "gene_annotation <- getBM(attributes = c(\"ensembl_gene_id\", \"external_gene_name\", \"chromosome_name\", \"start_position\", \"end_position\"),\n",
    "                         mart = mouse)\n",
    "\n",
    "gene_gr <- GRanges(seqnames = gene_annotation$chromosome_name,\n",
    "                   ranges = IRanges(start = gene_annotation$start_position, end = gene_annotation$end_position),\n",
    "                   gene_id = gene_annotation$ensembl_gene_id,\n",
    "                   gene_name = gene_annotation$external_gene_name)\n",
    "annotated_genes <- findOverlaps(dmr_gr, gene_gr)\n",
    "\n",
    "gene_ids <- gene_gr$gene_id[subjectHits(annotated_genes)]\n",
    "gene_names <- gene_gr$gene_name[subjectHits(annotated_genes)]\n",
    "\n",
    "annotated_dmr <- data.frame(\n",
    "  chr = seqnames(dmr_gr)[queryHits(annotated_genes)],\n",
    "  start = start(dmr_gr)[queryHits(annotated_genes)],\n",
    "  end = end(dmr_gr)[queryHits(annotated_genes)],\n",
    "  gene_id = gene_ids,\n",
    "  gene_name = gene_names\n",
    ")\n",
    "\n",
    "head(annotated_dmr)\n"
   ]
  },
  {
   "cell_type": "markdown",
   "metadata": {
    "id": "wBaFCR5h7xUZ"
   },
   "source": [
    "TODO: fix this"
   ]
  },
  {
   "cell_type": "code",
   "execution_count": 20,
   "metadata": {
    "colab": {
     "base_uri": "https://localhost:8080/",
     "height": 72
    },
    "id": "pjy9zGLXfY3P",
    "outputId": "1e69de8a-9ab3-4187-8bda-598793424e27"
   },
   "outputs": [
    {
     "ename": "ERROR",
     "evalue": "Error in annotateRegions(DMRs, genome = \"mm39\", feature = \"gene\"): could not find function \"annotateRegions\"\n",
     "output_type": "error",
     "traceback": [
      "Error in annotateRegions(DMRs, genome = \"mm39\", feature = \"gene\"): could not find function \"annotateRegions\"\nTraceback:\n"
     ]
    }
   ],
   "source": [
    "DMRs <- read.table(\"denovo_qval.0.05.out\", header = TRUE)\n",
    "annotated_DMRs <- annotateRegions(DMRs,\n",
    "                                  genome = \"mm39\",\n",
    "                                  feature = \"gene\")\n",
    "gene_info <- unique(annotated_DMRs$gene)\n",
    "write.table(gene_info, \"dmr_genes.txt\", row.names = FALSE, col.names = TRUE)\n",
    "gene_list <- read.table(\"dmr_genes.txt\", header = TRUE)\n",
    "ego <- enrichGO(gene = gene_list$gene,\n",
    "                OrgDb = org.Mm.eg.db,\n",
    "                keyType = \"SYMBOL\",\n",
    "                ont = \"BP\",\n",
    "                pAdjustMethod = \"BH\",\n",
    "                qvalueCutoff = 0.05)\n",
    "barplot(ego, showCategory=10)\n",
    "enrichMap(go_results)\n"
   ]
  },
  {
   "cell_type": "code",
   "execution_count": null,
   "metadata": {
    "id": "wOrqrHRV0rRx"
   },
   "outputs": [],
   "source": []
  }
 ],
 "metadata": {
  "colab": {
   "provenance": []
  },
  "kernelspec": {
   "display_name": "R",
   "name": "ir"
  },
  "language_info": {
   "name": "R"
  }
 },
 "nbformat": 4,
 "nbformat_minor": 4
}

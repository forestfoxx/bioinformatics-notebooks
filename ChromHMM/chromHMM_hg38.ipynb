{
 "cells": [
  {
   "cell_type": "markdown",
   "metadata": {
    "id": "vRciyzvPEDLD"
   },
   "source": [
    "# Install java and ChromHmm"
   ]
  },
  {
   "cell_type": "code",
   "execution_count": null,
   "metadata": {
    "colab": {
     "base_uri": "https://localhost:8080/"
    },
    "id": "1O3GJ3Gys7Tm",
    "outputId": "86b33c48-1b00-4ce3-bea2-988c3987f327"
   },
   "outputs": [],
   "source": [
    "#!curl -O https://raw.githubusercontent.com/deepjavalibrary/d2l-java/master/tools/fix-colab-gpu.sh && bash fix-colab-gpu.sh"
   ]
  },
  {
   "cell_type": "code",
   "execution_count": null,
   "metadata": {
    "colab": {
     "base_uri": "https://localhost:8080/"
    },
    "id": "NxS1Mv5WquOV",
    "outputId": "ba17eab7-b4c3-42f7-b5ae-f57ea1f46783"
   },
   "outputs": [],
   "source": [
    "!curl -O https://raw.githubusercontent.com/deepjavalibrary/d2l-java/master/tools/colab_build.sh && bash colab_build.sh"
   ]
  },
  {
   "cell_type": "code",
   "execution_count": null,
   "metadata": {
    "colab": {
     "base_uri": "https://localhost:8080/"
    },
    "id": "_NrPS924rQFX",
    "outputId": "3f4b8301-b835-4dac-b257-0eb6393aaa46"
   },
   "outputs": [
    {
     "name": "stdout",
     "output_type": "stream",
     "text": [
      "jdk.jshell@11.0.26\n"
     ]
    }
   ],
   "source": [
    "!java --list-modules | grep \"jdk.jshell\"\n"
   ]
  },
  {
   "cell_type": "code",
   "execution_count": null,
   "metadata": {
    "colab": {
     "base_uri": "https://localhost:8080/"
    },
    "id": "zCdYYvCJrpRt",
    "outputId": "bca3f835-5607-4be6-a4d8-8907f52e8e4b"
   },
   "outputs": [],
   "source": [
    "! wget http://compbio.mit.edu/ChromHMM/ChromHMM.zip"
   ]
  },
  {
   "cell_type": "code",
   "execution_count": null,
   "metadata": {
    "colab": {
     "base_uri": "https://localhost:8080/"
    },
    "id": "gF4uI2bvvEN2",
    "outputId": "271eaaee-76ed-4e16-c0b9-c35d1e846e62"
   },
   "outputs": [],
   "source": [
    "!unzip /content/ChromHMM.zip"
   ]
  },
  {
   "cell_type": "code",
   "execution_count": null,
   "metadata": {
    "colab": {
     "base_uri": "https://localhost:8080/"
    },
    "id": "nueossvqhfIa",
    "outputId": "69361564-cc9c-4e05-eb6d-96b80403e790"
   },
   "outputs": [],
   "source": [
    "!wget https://www.encodeproject.org/files/ENCFF889KHZ/@@download/ENCFF889KHZ.bam -O BLaER1H4K20me1.bam"
   ]
  },
  {
   "cell_type": "code",
   "execution_count": null,
   "metadata": {
    "colab": {
     "base_uri": "https://localhost:8080/"
    },
    "id": "d2sD38P0h8ik",
    "outputId": "5f7803c2-d4c4-47d1-ee9c-038028fe1fb0"
   },
   "outputs": [],
   "source": [
    "!wget https://www.encodeproject.org/files/ENCFF926ZUY/@@download/ENCFF926ZUY.bam -O h3K4me3.bam"
   ]
  },
  {
   "cell_type": "code",
   "execution_count": null,
   "metadata": {
    "colab": {
     "base_uri": "https://localhost:8080/"
    },
    "id": "wbfOAjMBiI_o",
    "outputId": "bf059426-e644-4b40-e155-95e0e0b75df1"
   },
   "outputs": [],
   "source": [
    "!wget https://www.encodeproject.org/files/ENCFF092GQO/@@download/ENCFF092GQO.bam -O h3k27ac.bam"
   ]
  },
  {
   "cell_type": "code",
   "execution_count": null,
   "metadata": {
    "colab": {
     "base_uri": "https://localhost:8080/"
    },
    "id": "tOoLU5PniUuI",
    "outputId": "6f071b07-91b5-4660-a8dc-7276aac5b3ae"
   },
   "outputs": [],
   "source": [
    "!wget https://www.encodeproject.org/files/ENCFF097JLA/@@download/ENCFF097JLA.bam -O h3k27me3.bam"
   ]
  },
  {
   "cell_type": "code",
   "execution_count": null,
   "metadata": {
    "colab": {
     "base_uri": "https://localhost:8080/"
    },
    "id": "Iri6O0WMinds",
    "outputId": "3df38aaa-a4cb-4a0d-c11f-63757977bed2"
   },
   "outputs": [],
   "source": [
    "!wget https://www.encodeproject.org/files/ENCFF466XGN/@@download/ENCFF466XGN.bam -O h3k4me1.bam"
   ]
  },
  {
   "cell_type": "code",
   "execution_count": null,
   "metadata": {
    "colab": {
     "base_uri": "https://localhost:8080/"
    },
    "id": "HXJy_jG8iuju",
    "outputId": "da0874c2-53cd-4fee-a96f-ab242be7acfd"
   },
   "outputs": [],
   "source": [
    "!wget https://www.encodeproject.org/files/ENCFF557NQH/@@download/ENCFF557NQH.bam -O h3k36me3.bam"
   ]
  },
  {
   "cell_type": "code",
   "execution_count": null,
   "metadata": {
    "colab": {
     "base_uri": "https://localhost:8080/"
    },
    "id": "XfwK4FVAi11s",
    "outputId": "c53a76d6-211d-4dbe-8e03-0cb1e858e5f3"
   },
   "outputs": [],
   "source": [
    "!wget https://www.encodeproject.org/files/ENCFF013PNZ/@@download/ENCFF013PNZ.bam -O h3k9me3.bam"
   ]
  },
  {
   "cell_type": "code",
   "execution_count": null,
   "metadata": {
    "colab": {
     "base_uri": "https://localhost:8080/"
    },
    "id": "5HMUVhWsjEYd",
    "outputId": "0a4cbe8e-63b7-4e83-9ce7-baf24fac1c0a"
   },
   "outputs": [],
   "source": [
    "!wget https://www.encodeproject.org/files/ENCFF658PDT/@@download/ENCFF658PDT.bam -O h3k9ac.bam"
   ]
  },
  {
   "cell_type": "code",
   "execution_count": null,
   "metadata": {
    "colab": {
     "base_uri": "https://localhost:8080/"
    },
    "id": "ddY86j3yjG3E",
    "outputId": "77cc09e0-097f-4091-816e-c2b48979dea7"
   },
   "outputs": [],
   "source": [
    "!wget https://www.encodeproject.org/files/ENCFF254GAU/@@download/ENCFF254GAU.bam -O h3k4me2.bam"
   ]
  },
  {
   "cell_type": "code",
   "execution_count": null,
   "metadata": {
    "colab": {
     "base_uri": "https://localhost:8080/"
    },
    "id": "fvekXkiUj5Ec",
    "outputId": "dfd7c546-2a2e-4ef5-bc5b-70cbcce9526f"
   },
   "outputs": [],
   "source": [
    "!wget https://www.encodeproject.org/files/ENCFF476KDC/@@download/ENCFF476KDC.bam -O Control.bam"
   ]
  },
  {
   "cell_type": "markdown",
   "metadata": {
    "id": "asjMJ26h79SY"
   },
   "source": [
    "* Manually create a text file cellmarkfiletable.txt, in which we specify the name of the cell type, different histone marks, as well as the corresponding .bam files for the experiment and control. The same control .bam file can be used for all experiments.\n",
    "\n",
    "* More details about the contents of the cellmarkfiletable.txt file can be found in the ChromHMM user manual"
   ]
  },
  {
   "cell_type": "markdown",
   "metadata": {
    "id": "WeoRL3rp728b"
   },
   "source": [
    "Run ChromHMM with the BinarizeBam option to convert profiles from ChIP-seq experiments (bam files) into a table of 0 and 1, i.e. to split the genome into conditional intervals (bins) of 200 bp in length."
   ]
  },
  {
   "cell_type": "code",
   "execution_count": null,
   "metadata": {
    "colab": {
     "base_uri": "https://localhost:8080/"
    },
    "id": "GcVBvuQZfzb8",
    "outputId": "d9e54f0b-b962-4a3f-a53c-b4f1e17e849e"
   },
   "outputs": [
    {
     "name": "stdout",
     "output_type": "stream",
     "text": [
      "Writing to file binarizedData/BLaER1_chr1_binary.txt\n",
      "Writing to file binarizedData/BLaER1_chr2_binary.txt\n",
      "Writing to file binarizedData/BLaER1_chr3_binary.txt\n",
      "Writing to file binarizedData/BLaER1_chr4_binary.txt\n",
      "Writing to file binarizedData/BLaER1_chr5_binary.txt\n",
      "Writing to file binarizedData/BLaER1_chr6_binary.txt\n",
      "Writing to file binarizedData/BLaER1_chr7_binary.txt\n",
      "Writing to file binarizedData/BLaER1_chrX_binary.txt\n",
      "Writing to file binarizedData/BLaER1_chr8_binary.txt\n",
      "Writing to file binarizedData/BLaER1_chr9_binary.txt\n",
      "Writing to file binarizedData/BLaER1_chr11_binary.txt\n",
      "Writing to file binarizedData/BLaER1_chr10_binary.txt\n",
      "Writing to file binarizedData/BLaER1_chr12_binary.txt\n",
      "Writing to file binarizedData/BLaER1_chr13_binary.txt\n",
      "Writing to file binarizedData/BLaER1_chr14_binary.txt\n",
      "Writing to file binarizedData/BLaER1_chr15_binary.txt\n",
      "Writing to file binarizedData/BLaER1_chr16_binary.txt\n",
      "Writing to file binarizedData/BLaER1_chr17_binary.txt\n",
      "Writing to file binarizedData/BLaER1_chr18_binary.txt\n",
      "Writing to file binarizedData/BLaER1_chr20_binary.txt\n",
      "Writing to file binarizedData/BLaER1_chr19_binary.txt\n",
      "Writing to file binarizedData/BLaER1_chrY_binary.txt\n",
      "Writing to file binarizedData/BLaER1_chr22_binary.txt\n",
      "Writing to file binarizedData/BLaER1_chr21_binary.txt\n",
      "Writing to file binarizedData/BLaER1_chr16_KI270728v1_random_binary.txt\n",
      "Writing to file binarizedData/BLaER1_chr15_KI270727v1_random_binary.txt\n",
      "Writing to file binarizedData/BLaER1_chrUn_KI270442v1_binary.txt\n",
      "Writing to file binarizedData/BLaER1_chr17_KI270729v1_random_binary.txt\n",
      "Writing to file binarizedData/BLaER1_chr14_GL000225v1_random_binary.txt\n",
      "Writing to file binarizedData/BLaER1_chrUn_KI270743v1_binary.txt\n",
      "Writing to file binarizedData/BLaER1_chr4_GL000008v2_random_binary.txt\n",
      "Writing to file binarizedData/BLaER1_chr14_GL000009v2_random_binary.txt\n",
      "Writing to file binarizedData/BLaER1_chrUn_KI270747v1_binary.txt\n",
      "Writing to file binarizedData/BLaER1_chr14_KI270722v1_random_binary.txt\n",
      "Writing to file binarizedData/BLaER1_chr14_GL000194v1_random_binary.txt\n",
      "Writing to file binarizedData/BLaER1_chrUn_KI270742v1_binary.txt\n",
      "Writing to file binarizedData/BLaER1_chr17_GL000205v2_random_binary.txt\n",
      "Writing to file binarizedData/BLaER1_chrUn_GL000195v1_binary.txt\n",
      "Writing to file binarizedData/BLaER1_chr22_KI270736v1_random_binary.txt\n",
      "Writing to file binarizedData/BLaER1_chr22_KI270733v1_random_binary.txt\n",
      "Writing to file binarizedData/BLaER1_chrUn_GL000224v1_binary.txt\n",
      "Writing to file binarizedData/BLaER1_chrUn_GL000219v1_binary.txt\n",
      "Writing to file binarizedData/BLaER1_chr9_KI270719v1_random_binary.txt\n",
      "Writing to file binarizedData/BLaER1_chrUn_GL000216v2_binary.txt\n",
      "Writing to file binarizedData/BLaER1_chr1_KI270712v1_random_binary.txt\n",
      "Writing to file binarizedData/BLaER1_chr1_KI270706v1_random_binary.txt\n",
      "Writing to file binarizedData/BLaER1_chr14_KI270725v1_random_binary.txt\n",
      "Writing to file binarizedData/BLaER1_chrUn_KI270744v1_binary.txt\n",
      "Writing to file binarizedData/BLaER1_chr22_KI270734v1_random_binary.txt\n",
      "Writing to file binarizedData/BLaER1_chrUn_GL000213v1_binary.txt\n",
      "Writing to file binarizedData/BLaER1_chrUn_GL000220v1_binary.txt\n",
      "Writing to file binarizedData/BLaER1_chr2_KI270715v1_random_binary.txt\n",
      "Writing to file binarizedData/BLaER1_chrUn_GL000218v1_binary.txt\n",
      "Writing to file binarizedData/BLaER1_chrUn_KI270749v1_binary.txt\n",
      "Writing to file binarizedData/BLaER1_chrUn_KI270741v1_binary.txt\n",
      "Writing to file binarizedData/BLaER1_chr3_GL000221v1_random_binary.txt\n",
      "Writing to file binarizedData/BLaER1_chr2_KI270716v1_random_binary.txt\n",
      "Writing to file binarizedData/BLaER1_chr22_KI270731v1_random_binary.txt\n",
      "Writing to file binarizedData/BLaER1_chrUn_KI270751v1_binary.txt\n",
      "Writing to file binarizedData/BLaER1_chrUn_KI270750v1_binary.txt\n",
      "Writing to file binarizedData/BLaER1_chrUn_KI270519v1_binary.txt\n",
      "Writing to file binarizedData/BLaER1_chrUn_GL000214v1_binary.txt\n",
      "Writing to file binarizedData/BLaER1_chr1_KI270708v1_random_binary.txt\n",
      "Writing to file binarizedData/BLaER1_chr17_KI270730v1_random_binary.txt\n",
      "Writing to file binarizedData/BLaER1_chrUn_KI270438v1_binary.txt\n",
      "Writing to file binarizedData/BLaER1_chr22_KI270737v1_random_binary.txt\n",
      "Writing to file binarizedData/BLaER1_chr11_KI270721v1_random_binary.txt\n",
      "Writing to file binarizedData/BLaER1_chr22_KI270738v1_random_binary.txt\n",
      "Writing to file binarizedData/BLaER1_chrUn_KI270748v1_binary.txt\n",
      "Writing to file binarizedData/BLaER1_chrUn_KI270435v1_binary.txt\n",
      "Writing to file binarizedData/BLaER1_chr5_GL000208v1_random_binary.txt\n",
      "Writing to file binarizedData/BLaER1_chrUn_KI270538v1_binary.txt\n",
      "Writing to file binarizedData/BLaER1_chrUn_KI270756v1_binary.txt\n",
      "Writing to file binarizedData/BLaER1_chr22_KI270739v1_random_binary.txt\n",
      "Writing to file binarizedData/BLaER1_chrUn_KI270757v1_binary.txt\n",
      "Writing to file binarizedData/BLaER1_chr1_KI270709v1_random_binary.txt\n",
      "Writing to file binarizedData/BLaER1_chrUn_KI270746v1_binary.txt\n",
      "Writing to file binarizedData/BLaER1_chrUn_KI270753v1_binary.txt\n",
      "Writing to file binarizedData/BLaER1_chrUn_KI270589v1_binary.txt\n",
      "Writing to file binarizedData/BLaER1_chr14_KI270726v1_random_binary.txt\n",
      "Writing to file binarizedData/BLaER1_chr22_KI270735v1_random_binary.txt\n",
      "Writing to file binarizedData/BLaER1_chr1_KI270711v1_random_binary.txt\n",
      "Writing to file binarizedData/BLaER1_chrUn_KI270745v1_binary.txt\n",
      "Writing to file binarizedData/BLaER1_chr1_KI270714v1_random_binary.txt\n",
      "Writing to file binarizedData/BLaER1_chr22_KI270732v1_random_binary.txt\n",
      "Writing to file binarizedData/BLaER1_chr1_KI270713v1_random_binary.txt\n",
      "Writing to file binarizedData/BLaER1_chrUn_KI270754v1_binary.txt\n",
      "Writing to file binarizedData/BLaER1_chr1_KI270710v1_random_binary.txt\n",
      "Writing to file binarizedData/BLaER1_chr9_KI270717v1_random_binary.txt\n",
      "Writing to file binarizedData/BLaER1_chr14_KI270724v1_random_binary.txt\n",
      "Writing to file binarizedData/BLaER1_chr9_KI270720v1_random_binary.txt\n",
      "Writing to file binarizedData/BLaER1_chr14_KI270723v1_random_binary.txt\n",
      "Writing to file binarizedData/BLaER1_chr9_KI270718v1_random_binary.txt\n",
      "Writing to file binarizedData/BLaER1_chrUn_KI270317v1_binary.txt\n",
      "Writing to file binarizedData/BLaER1_chrUn_KI270755v1_binary.txt\n",
      "Writing to file binarizedData/BLaER1_chr1_KI270707v1_random_binary.txt\n",
      "Writing to file binarizedData/BLaER1_chrUn_KI270579v1_binary.txt\n",
      "Writing to file binarizedData/BLaER1_chrUn_KI270752v1_binary.txt\n",
      "Writing to file binarizedData/BLaER1_chrUn_KI270512v1_binary.txt\n",
      "Writing to file binarizedData/BLaER1_chrUn_KI270322v1_binary.txt\n",
      "Writing to file binarizedData/BLaER1_chrM_binary.txt\n",
      "Writing to file binarizedData/BLaER1_chrUn_GL000226v1_binary.txt\n",
      "Writing to file binarizedData/BLaER1_chrUn_KI270311v1_binary.txt\n",
      "Writing to file binarizedData/BLaER1_chrUn_KI270366v1_binary.txt\n",
      "Writing to file binarizedData/BLaER1_chrUn_KI270511v1_binary.txt\n",
      "Writing to file binarizedData/BLaER1_chrUn_KI270448v1_binary.txt\n",
      "Writing to file binarizedData/BLaER1_chrUn_KI270521v1_binary.txt\n",
      "Writing to file binarizedData/BLaER1_chrUn_KI270581v1_binary.txt\n",
      "Writing to file binarizedData/BLaER1_chrUn_KI270582v1_binary.txt\n",
      "Writing to file binarizedData/BLaER1_chrUn_KI270515v1_binary.txt\n",
      "Writing to file binarizedData/BLaER1_chrUn_KI270588v1_binary.txt\n",
      "Writing to file binarizedData/BLaER1_chrUn_KI270591v1_binary.txt\n",
      "Writing to file binarizedData/BLaER1_chrUn_KI270522v1_binary.txt\n",
      "Writing to file binarizedData/BLaER1_chrUn_KI270507v1_binary.txt\n",
      "Writing to file binarizedData/BLaER1_chrUn_KI270590v1_binary.txt\n",
      "Writing to file binarizedData/BLaER1_chrUn_KI270584v1_binary.txt\n",
      "Writing to file binarizedData/BLaER1_chrUn_KI270320v1_binary.txt\n",
      "Writing to file binarizedData/BLaER1_chrUn_KI270382v1_binary.txt\n",
      "Writing to file binarizedData/BLaER1_chrUn_KI270468v1_binary.txt\n",
      "Writing to file binarizedData/BLaER1_chrUn_KI270467v1_binary.txt\n",
      "Writing to file binarizedData/BLaER1_chrUn_KI270362v1_binary.txt\n",
      "Writing to file binarizedData/BLaER1_chrUn_KI270517v1_binary.txt\n",
      "Writing to file binarizedData/BLaER1_chrUn_KI270593v1_binary.txt\n",
      "Writing to file binarizedData/BLaER1_chrUn_KI270528v1_binary.txt\n",
      "Writing to file binarizedData/BLaER1_chrUn_KI270587v1_binary.txt\n",
      "Writing to file binarizedData/BLaER1_chrUn_KI270364v1_binary.txt\n",
      "Writing to file binarizedData/BLaER1_chrUn_KI270371v1_binary.txt\n",
      "Writing to file binarizedData/BLaER1_chrUn_KI270333v1_binary.txt\n",
      "WARNING for BLaER1 chrUn_KI270374v1 control data is found but not regular data\n",
      "Writing to file binarizedData/BLaER1_chrUn_KI270411v1_binary.txt\n",
      "Writing to file binarizedData/BLaER1_chrUn_KI270414v1_binary.txt\n",
      "Writing to file binarizedData/BLaER1_chrUn_KI270510v1_binary.txt\n",
      "Writing to file binarizedData/BLaER1_chrUn_KI270390v1_binary.txt\n",
      "WARNING for BLaER1 chrUn_KI270375v1 control data is found but not regular data\n",
      "Writing to file binarizedData/BLaER1_chrUn_KI270420v1_binary.txt\n",
      "Writing to file binarizedData/BLaER1_chrUn_KI270509v1_binary.txt\n",
      "Writing to file binarizedData/BLaER1_chrUn_KI270315v1_binary.txt\n",
      "Writing to file binarizedData/BLaER1_chrUn_KI270302v1_binary.txt\n",
      "Writing to file binarizedData/BLaER1_chrUn_KI270518v1_binary.txt\n",
      "Writing to file binarizedData/BLaER1_chrUn_KI270530v1_binary.txt\n",
      "Writing to file binarizedData/BLaER1_chrUn_KI270304v1_binary.txt\n",
      "Writing to file binarizedData/BLaER1_chrUn_KI270418v1_binary.txt\n",
      "Writing to file binarizedData/BLaER1_chrUn_KI270424v1_binary.txt\n",
      "Writing to file binarizedData/BLaER1_chrUn_KI270417v1_binary.txt\n",
      "Writing to file binarizedData/BLaER1_chrUn_KI270508v1_binary.txt\n",
      "Writing to file binarizedData/BLaER1_chrUn_KI270303v1_binary.txt\n",
      "WARNING for BLaER1 chrUn_KI270381v1 control data is found but not regular data\n",
      "Writing to file binarizedData/BLaER1_chrUn_KI270529v1_binary.txt\n",
      "Writing to file binarizedData/BLaER1_chrUn_KI270425v1_binary.txt\n",
      "WARNING for BLaER1 chrUn_KI270396v1 control data is found but not regular data\n",
      "Writing to file binarizedData/BLaER1_chrUn_KI270363v1_binary.txt\n",
      "Writing to file binarizedData/BLaER1_chrUn_KI270386v1_binary.txt\n",
      "Writing to file binarizedData/BLaER1_chrUn_KI270465v1_binary.txt\n",
      "Writing to file binarizedData/BLaER1_chrUn_KI270383v1_binary.txt\n",
      "Writing to file binarizedData/BLaER1_chrUn_KI270384v1_binary.txt\n",
      "Writing to file binarizedData/BLaER1_chrUn_KI270330v1_binary.txt\n",
      "WARNING for BLaER1 chrUn_KI270372v1 control data is found but not regular data\n",
      "WARNING for BLaER1 chrUn_KI270548v1 control data is found but not regular data\n",
      "Writing to file binarizedData/BLaER1_chrUn_KI270580v1_binary.txt\n",
      "WARNING for BLaER1 chrUn_KI270387v1 control data is found but not regular data\n",
      "Writing to file binarizedData/BLaER1_chrUn_KI270391v1_binary.txt\n",
      "Writing to file binarizedData/BLaER1_chrUn_KI270305v1_binary.txt\n",
      "Writing to file binarizedData/BLaER1_chrUn_KI270422v1_binary.txt\n",
      "Writing to file binarizedData/BLaER1_chrUn_KI270316v1_binary.txt\n",
      "WARNING for BLaER1 chrUn_KI270338v1 control data is found but not regular data\n",
      "WARNING for BLaER1 chrUn_KI270340v1 control data is found but not regular data\n",
      "Writing to file binarizedData/BLaER1_chrUn_KI270583v1_binary.txt\n",
      "WARNING for BLaER1 chrUn_KI270334v1 control data is found but not regular data\n",
      "Writing to file binarizedData/BLaER1_chrUn_KI270429v1_binary.txt\n",
      "Writing to file binarizedData/BLaER1_chrUn_KI270393v1_binary.txt\n",
      "Writing to file binarizedData/BLaER1_chrUn_KI270516v1_binary.txt\n",
      "Writing to file binarizedData/BLaER1_chrUn_KI270389v1_binary.txt\n",
      "Writing to file binarizedData/BLaER1_chrUn_KI270466v1_binary.txt\n",
      "WARNING for BLaER1 chrUn_KI270388v1 control data is found but not regular data\n",
      "Writing to file binarizedData/BLaER1_chrUn_KI270544v1_binary.txt\n",
      "Writing to file binarizedData/BLaER1_chrUn_KI270310v1_binary.txt\n",
      "Writing to file binarizedData/BLaER1_chrUn_KI270412v1_binary.txt\n",
      "Writing to file binarizedData/BLaER1_chrUn_KI270395v1_binary.txt\n",
      "WARNING for BLaER1 chrUn_KI270376v1 control data is found but not regular data\n",
      "Writing to file binarizedData/BLaER1_chrUn_KI270337v1_binary.txt\n",
      "WARNING for BLaER1 chrUn_KI270335v1 control data is found but not regular data\n",
      "Writing to file binarizedData/BLaER1_chrUn_KI270378v1_binary.txt\n",
      "WARNING for BLaER1 chrUn_KI270329v1 control data is found but not regular data\n",
      "Writing to file binarizedData/BLaER1_chrUn_KI270419v1_binary.txt\n",
      "Writing to file binarizedData/BLaER1_chrUn_KI270336v1_binary.txt\n",
      "Writing to file binarizedData/BLaER1_chrUn_KI270312v1_binary.txt\n",
      "Writing to file binarizedData/BLaER1_chrUn_KI270539v1_binary.txt\n",
      "Writing to file binarizedData/BLaER1_chrUn_KI270385v1_binary.txt\n",
      "Writing to file binarizedData/BLaER1_chrUn_KI270423v1_binary.txt\n",
      "Writing to file binarizedData/BLaER1_chrUn_KI270392v1_binary.txt\n",
      "WARNING for BLaER1 chrUn_KI270394v1 regular data is found but not control data\n"
     ]
    }
   ],
   "source": [
    "!java -mx9500M -jar /content/ChromHMM/ChromHMM.jar BinarizeBam -b 200  /content/ChromHMM/CHROMSIZES/hg38.txt /content/ cellmarkfiletable.txt   binarizedData\n"
   ]
  },
  {
   "cell_type": "markdown",
   "metadata": {
    "id": "MNAxD6ODzD4j"
   },
   "source": [
    "More on chrUn:\n",
    "\n",
    "https://hgdownload.cse.ucsc.edu/goldenpath/hg38/chromosomes/\n",
    "\n",
    "https://www.biostars.org/p/267351/\n"
   ]
  },
  {
   "cell_type": "code",
   "execution_count": null,
   "metadata": {
    "colab": {
     "base_uri": "https://localhost:8080/"
    },
    "id": "kh909fe1zqJ3",
    "outputId": "e075a1be-4e52-4b2c-9390-13b321a4b116"
   },
   "outputs": [
    {
     "name": "stdout",
     "output_type": "stream",
     "text": [
      "Using 2 threads for Baum-Welch training\n",
      "Writing to file Output/transitions_9.txt\n",
      "Writing to file Output/emissions_9.txt\n",
      "Writing to file Output/emissions_9.svg\n",
      "Writing to file Output/emissions_9.png\n",
      "Writing to file Output/transitions_9.png\n",
      "Writing to file Output/transitions_9.svg\n",
      "Writing to file Output/model_9.txt\n",
      " Iteration  Estimated Log Likelihood     Change    Total Time (secs)\n",
      "         1             -10318830.032          -                 11.7\n",
      "         2              -9233072.014 1085758.018                 20.8\n",
      "         3              -8823046.515 410025.499                 29.4\n",
      "         4              -8592504.060 230542.454                 39.5\n",
      "         5              -8481765.281 110738.779                 48.5\n",
      "         6              -8427379.278  54386.003                 59.1\n",
      "         7              -8399607.012  27772.266                 68.7\n",
      "         8              -8382277.250  17329.762                 77.7\n",
      "         9              -8362813.242  19464.008                 85.6\n",
      "        10              -8339624.167  23189.075                 94.0\n",
      "        11              -8328208.832  11415.335                103.1\n",
      "        12              -8323229.727   4979.105                110.6\n",
      "        13              -8320330.458   2899.269                119.4\n",
      "        14              -8318300.016   2030.442                128.1\n",
      "        15              -8316734.985   1565.031                135.7\n",
      "        16              -8315465.157   1269.828                144.8\n",
      "        17              -8314395.678   1069.479                152.4\n",
      "        18              -8313472.418    923.259                161.1\n",
      "        19              -8312659.134    813.284                169.9\n",
      "        20              -8311929.050    730.084                177.4\n",
      "        21              -8311262.183    666.867                186.2\n",
      "        22              -8310642.794    619.389                194.1\n",
      "        23              -8310065.240    577.554                204.2\n",
      "        24              -8309528.981    536.259                213.0\n",
      "        25              -8309020.950    508.032                220.7\n",
      "        26              -8308520.557    500.392                229.3\n",
      "        27              -8308005.376    515.182                238.2\n",
      "        28              -8307453.399    551.977                245.6\n",
      "        29              -8306848.853    604.546                254.5\n",
      "        30              -8306187.367    661.486                262.4\n",
      "        31              -8305476.542    710.825                270.7\n",
      "        32              -8304729.507    747.035                279.5\n",
      "        33              -8303952.165    777.342                287.0\n",
      "        34              -8303125.118    827.047                295.8\n",
      "        35              -8302183.932    941.186                303.9\n",
      "        36              -8301018.028   1165.904                312.0\n",
      "        37              -8299572.419   1445.609                320.9\n",
      "        38              -8298041.053   1531.366                328.3\n",
      "        39              -8296742.575   1298.478                337.1\n",
      "        40              -8295782.738    959.836                345.2\n",
      "        41              -8295087.761    694.977                353.5\n",
      "        42              -8294561.897    525.864                362.3\n",
      "        43              -8294137.834    424.064                369.7\n",
      "        44              -8293774.574    363.260                378.7\n",
      "        45              -8293447.564    327.010                387.3\n",
      "        46              -8293141.863    305.700                395.0\n",
      "        47              -8292849.190    292.673                403.9\n",
      "        48              -8292566.317    282.873                411.4\n",
      "        49              -8292293.059    273.258                420.2\n",
      "        50              -8292031.113    261.946                429.1\n",
      "        51              -8291783.458    247.655                436.5\n",
      "        52              -8291552.662    230.796                445.4\n",
      "        53              -8291339.645    213.017                453.1\n",
      "        54              -8291143.818    195.828                461.8\n",
      "        55              -8290963.752    180.065                470.6\n",
      "        56              -8290797.660    166.092                478.4\n",
      "        57              -8290643.581    154.079                487.3\n",
      "        58              -8290499.422    144.159                495.5\n",
      "        59              -8290362.798    136.624                503.6\n",
      "        60              -8290230.951    131.848                512.4\n",
      "        61              -8290100.910    130.041                519.9\n",
      "        62              -8289970.060    130.850                531.2\n",
      "        63              -8289836.128    133.933                541.2\n",
      "        64              -8289695.161    140.967                550.9\n",
      "        65              -8289540.002    155.159                560.0\n",
      "        66              -8289362.284    177.718                570.2\n",
      "        67              -8289157.149    205.135                580.2\n",
      "        68              -8288927.268    229.880                588.9\n",
      "        69              -8288682.691    244.577                599.0\n",
      "        70              -8288436.056    246.635                609.2\n",
      "        71              -8288196.941    239.115                618.3\n",
      "        72              -8287969.436    227.505                627.9\n",
      "        73              -8287753.222    216.214                637.9\n",
      "        74              -8287545.799    207.423                647.9\n",
      "        75              -8287344.121    201.677                656.6\n",
      "        76              -8287145.395    198.727                666.6\n",
      "        77              -8286947.408    197.987                676.7\n",
      "        78              -8286748.721    198.686                685.6\n",
      "        79              -8286548.833    199.888                695.5\n",
      "        80              -8286348.307    200.526                705.7\n",
      "        81              -8286148.796    199.511                715.6\n",
      "        82              -8285952.873    195.924                724.5\n",
      "        83              -8285763.627    189.245                735.0\n",
      "        84              -8285584.104    179.523                745.2\n",
      "        85              -8285416.696    167.409                754.1\n",
      "        86              -8285262.685    154.011                764.0\n",
      "        87              -8285122.043    140.642                774.2\n",
      "        88              -8284993.498    128.545                784.0\n",
      "        89              -8284874.792    118.706                793.0\n",
      "        90              -8284762.985    111.807                803.1\n",
      "        91              -8284654.675    108.311                813.3\n",
      "        92              -8284546.027    108.648                822.1\n",
      "        93              -8284432.572    113.455                832.1\n",
      "        94              -8284308.669    123.902                842.2\n",
      "        95              -8284166.413    142.256                852.1\n",
      "        96              -8283993.477    172.936                861.4\n",
      "        97              -8283768.586    224.892                871.5\n",
      "        98              -8283451.012    317.574                881.6\n",
      "        99              -8282951.547    499.465                890.3\n",
      "       100              -8282032.177    919.370                900.4\n",
      "       101              -8279850.747   2181.430                910.5\n",
      "       102              -8272332.680   7518.067                920.3\n",
      "       103              -8255659.683  16672.997                929.4\n",
      "       104              -8251985.904   3673.779                939.5\n",
      "       105              -8250967.828   1018.077                949.6\n",
      "       106              -8250575.948    391.879                958.4\n",
      "       107              -8250402.275    173.674                968.5\n",
      "       108              -8250304.224     98.051                978.5\n",
      "       109              -8250237.266     66.958                988.3\n",
      "       110              -8250186.182     51.084                997.4\n",
      "       111              -8250144.868     41.314               1007.4\n",
      "       112              -8250110.460     34.409               1017.6\n",
      "       113              -8250081.376     29.083               1026.3\n",
      "       114              -8250056.607     24.770               1036.4\n",
      "       115              -8250035.421     21.186               1046.5\n",
      "       116              -8250017.248     18.173               1056.2\n",
      "       117              -8250001.624     15.624               1065.2\n",
      "       118              -8249988.163     13.461               1075.4\n",
      "       119              -8249976.541     11.621               1085.4\n",
      "       120              -8249966.488     10.053               1094.2\n",
      "       121              -8249957.776      8.712               1104.3\n",
      "       122              -8249950.213      7.564               1114.3\n",
      "       123              -8249943.635      6.578               1124.1\n",
      "       124              -8249937.904      5.730               1133.3\n",
      "       125              -8249932.903      5.001               1143.4\n",
      "       126              -8249928.530      4.373               1153.5\n",
      "       127              -8249924.698      3.832               1162.3\n",
      "       128              -8249921.332      3.366               1172.4\n",
      "       129              -8249918.367      2.965               1182.9\n",
      "       130              -8249915.747      2.620               1192.9\n",
      "       131              -8249913.424      2.323               1201.9\n",
      "       132              -8249911.358      2.066               1212.1\n",
      "       133              -8249909.513      1.845               1222.3\n",
      "       134              -8249907.861      1.652               1231.4\n",
      "       135              -8249906.378      1.484               1241.4\n",
      "       136              -8249905.043      1.335               1251.5\n",
      "       137              -8249903.841      1.202               1261.7\n",
      "       138              -8249902.759      1.082               1270.6\n",
      "       139              -8249901.787      0.972               1280.7\n",
      "       140              -8249900.915      0.872               1291.0\n",
      "       141              -8249900.137      0.778               1300.6\n",
      "       142              -8249899.444      0.692               1310.1\n",
      "       143              -8249898.832      0.612               1320.3\n",
      "       144              -8249898.293      0.539               1330.5\n",
      "       145              -8249897.821      0.472               1339.4\n",
      "       146              -8249897.410      0.411               1349.6\n",
      "       147              -8249897.053      0.357               1359.8\n",
      "       148              -8249896.745      0.309               1369.6\n",
      "       149              -8249896.479      0.266               1378.8\n",
      "       150              -8249896.250      0.229               1389.0\n",
      "       151              -8249896.053      0.197               1399.2\n",
      "       152              -8249895.884      0.169               1408.1\n",
      "       153              -8249895.739      0.145               1418.3\n",
      "       154              -8249895.615      0.125               1428.5\n",
      "       155              -8249895.507      0.107               1438.6\n",
      "       156              -8249895.415      0.093               1447.5\n",
      "       157              -8249895.334      0.080               1457.7\n",
      "       158              -8249895.265      0.069               1468.0\n",
      "       159              -8249895.205      0.060               1477.0\n",
      "       160              -8249895.152      0.053               1487.0\n",
      "       161              -8249895.106      0.046               1497.2\n",
      "       162              -8249895.066      0.040               1507.3\n",
      "       163              -8249895.030      0.036               1516.2\n",
      "       164              -8249894.999      0.032               1526.4\n",
      "       165              -8249894.971      0.028               1536.8\n",
      "       166              -8249894.946      0.025               1546.2\n",
      "       167              -8249894.923      0.022               1555.9\n",
      "       168              -8249894.903      0.020               1566.0\n",
      "       169              -8249894.885      0.018               1576.2\n",
      "       170              -8249894.868      0.017               1585.0\n",
      "       171              -8249894.853      0.015               1595.2\n",
      "       172              -8249894.839      0.014               1605.5\n",
      "       173              -8249894.827      0.013               1615.1\n",
      "       174              -8249894.815      0.012               1625.1\n",
      "       175              -8249894.804      0.011               1635.2\n",
      "       176              -8249894.793      0.010               1647.8\n",
      "       177              -8249894.784      0.010               1657.2\n",
      "       178              -8249894.775      0.009               1667.0\n",
      "       179              -8249894.766      0.009               1677.3\n",
      "       180              -8249894.757      0.008               1687.8\n",
      "       181              -8249894.749      0.008               1696.8\n",
      "       182              -8249894.742      0.008               1707.0\n",
      "       183              -8249894.734      0.007               1717.3\n",
      "       184              -8249894.727      0.007               1727.1\n",
      "       185              -8249894.720      0.007               1736.5\n",
      "       186              -8249894.713      0.007               1746.7\n",
      "       187              -8249894.706      0.007               1757.0\n",
      "       188              -8249894.699      0.007               1766.1\n",
      "       189              -8249894.693      0.007               1776.3\n",
      "       190              -8249894.686      0.007               1786.6\n",
      "       191              -8249894.679      0.007               1796.8\n",
      "       192              -8249894.673      0.007               1805.8\n",
      "       193              -8249894.666      0.007               1816.2\n",
      "       194              -8249894.660      0.007               1826.5\n",
      "       195              -8249894.653      0.007               1836.1\n",
      "       196              -8249894.647      0.006               1845.8\n",
      "       197              -8249894.640      0.007               1856.0\n",
      "       198              -8249894.633      0.007               1866.3\n",
      "       199              -8249894.627      0.007               1875.2\n",
      "       200              -8249894.620      0.007               1885.3\n",
      "Writing to file Output/BLaER1_9_segments.bed\n",
      "Writing to file Output/BLaER1_9_dense.bed\n",
      "Writing to file Output/BLaER1_9_expanded.bed\n",
      "Writing to file Output/BLaER1_9_overlap.txt\n",
      "Writing to file Output/BLaER1_9_overlap.png\n",
      "Writing to file Output/BLaER1_9_overlap.svg\n",
      "Writing to file Output/BLaER1_9_RefSeqTES_neighborhood.txt\n",
      "Writing to file Output/BLaER1_9_RefSeqTES_neighborhood.png\n",
      "Writing to file Output/BLaER1_9_RefSeqTES_neighborhood.svg\n",
      "Writing to file Output/BLaER1_9_RefSeqTSS_neighborhood.txt\n",
      "Writing to file Output/BLaER1_9_RefSeqTSS_neighborhood.png\n",
      "Writing to file Output/BLaER1_9_RefSeqTSS_neighborhood.svg\n",
      "Warning could not automatically open in a browser Output/webpage_9.html\n"
     ]
    }
   ],
   "source": [
    "!java -mx5200M -jar /content/ChromHMM/ChromHMM.jar LearnModel -p 2 binarizedData Output 9 hg38\n"
   ]
  },
  {
   "cell_type": "markdown",
   "metadata": {
    "id": "Yo11TtNG8SXU"
   },
   "source": [
    "Run ChromHMM with the LearnModel option (see the user manual), which will automatically determine the parameters of N different epigenetic types with the most pronounced sets of histone marks and assign a specific epigenetic type to each genomic interval. You choose the number of different epigenetic types (or states) yourself (for example, 10)."
   ]
  },
  {
   "cell_type": "markdown",
   "metadata": {
    "id": "7yuCmmw-gsFC"
   },
   "source": [
    "As a result of executing the LearnModel command, a set of files (including an HTML page) will be created in the output folder that was specified during program execution."
   ]
  },
  {
   "cell_type": "markdown",
   "metadata": {
    "id": "1GkrnDY8dJan"
   },
   "source": [
    "Since it is not possible to add panels with histone modification profiles in the UCSC browser if the hg38 assembly was used, we use LiftOver from UCSC to convert to hg19, and from the resulting .bed file we will generate new *expanded.bed and *dense.bed files for display in the genome browser."
   ]
  },
  {
   "cell_type": "code",
   "execution_count": null,
   "metadata": {
    "colab": {
     "base_uri": "https://localhost:8080/"
    },
    "id": "maxSkfq_bwzq",
    "outputId": "c9b57dd7-25ed-421f-aac2-1eefecf4b5ed"
   },
   "outputs": [
    {
     "name": "stdout",
     "output_type": "stream",
     "text": [
      "Writing to file BLaER1_hg19_dense.bed\n",
      "Writing to file BLaER1_hg19_expanded.bed\n"
     ]
    }
   ],
   "source": [
    "!java -mx5200M -jar /content/ChromHMM/ChromHMM.jar  MakeBrowserFiles hglft_genome_2b8209_a90030.bed newsegm BLaER1_hg19\n"
   ]
  },
  {
   "cell_type": "code",
   "execution_count": null,
   "metadata": {
    "colab": {
     "base_uri": "https://localhost:8080/"
    },
    "id": "szyHkHgG9Yyz",
    "outputId": "8ab2cf8e-3682-4407-959a-1c820e3e1cee"
   },
   "outputs": [
    {
     "name": "stdout",
     "output_type": "stream",
     "text": [
      "Output/\n",
      "Output/BLaER1_9_RefSeqTES_neighborhood.svg\n",
      "Output/BLaER1_9_RefSeqTES_neighborhood.txt\n",
      "Output/BLaER1_9_overlap.svg\n",
      "Output/BLaER1_9_RefSeqTSS_neighborhood.svg\n",
      "Output/BLaER1_9_RefSeqTSS_neighborhood.txt\n",
      "Output/BLaER1_9_dense.bed\n",
      "Output/BLaER1_9_overlap.txt\n",
      "Output/transitions_9.txt\n",
      "Output/emissions_9.txt\n",
      "Output/emissions_9.svg\n",
      "Output/BLaER1_9_expanded.bed\n",
      "Output/emissions_9.png\n",
      "Output/BLaER1_9_RefSeqTSS_neighborhood.png\n",
      "Output/BLaER1_9_overlap.png\n",
      "Output/transitions_9.png\n",
      "Output/BLaER1_9_segments.bed\n",
      "Output/model_9.txt\n",
      "Output/BLaER1_9_RefSeqTES_neighborhood.png\n",
      "Output/webpage_9.html\n",
      "Output/transitions_9.svg\n"
     ]
    }
   ],
   "source": [
    "!tar -cvf output.tar.gz Output"
   ]
  },
  {
   "cell_type": "code",
   "execution_count": null,
   "metadata": {
    "id": "fJGaUFWK9uE1"
   },
   "outputs": [],
   "source": []
  }
 ],
 "metadata": {
  "colab": {
   "provenance": []
  },
  "kernelspec": {
   "display_name": "Python 3 (ipykernel)",
   "language": "python",
   "name": "python3"
  },
  "language_info": {
   "codemirror_mode": {
    "name": "ipython",
    "version": 3
   },
   "file_extension": ".py",
   "mimetype": "text/x-python",
   "name": "python",
   "nbconvert_exporter": "python",
   "pygments_lexer": "ipython3",
   "version": "3.10.6"
  }
 },
 "nbformat": 4,
 "nbformat_minor": 4
}

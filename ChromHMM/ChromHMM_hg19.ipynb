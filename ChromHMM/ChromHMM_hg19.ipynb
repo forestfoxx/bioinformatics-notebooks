{
 "cells": [
  {
   "cell_type": "markdown",
   "metadata": {
    "id": "vRciyzvPEDLD"
   },
   "source": [
    "# Install java and ChromHmm"
   ]
  },
  {
   "cell_type": "code",
   "execution_count": null,
   "metadata": {
    "colab": {
     "base_uri": "https://localhost:8080/"
    },
    "id": "1O3GJ3Gys7Tm",
    "outputId": "86b33c48-1b00-4ce3-bea2-988c3987f327"
   },
   "outputs": [],
   "source": [
    "#!curl -O https://raw.githubusercontent.com/deepjavalibrary/d2l-java/master/tools/fix-colab-gpu.sh && bash fix-colab-gpu.sh"
   ]
  },
  {
   "cell_type": "code",
   "execution_count": null,
   "metadata": {
    "colab": {
     "base_uri": "https://localhost:8080/"
    },
    "id": "NxS1Mv5WquOV",
    "outputId": "4a28b356-efe4-4132-db3f-ec2d403c8cc1"
   },
   "outputs": [],
   "source": [
    "!curl -O https://raw.githubusercontent.com/deepjavalibrary/d2l-java/master/tools/colab_build.sh && bash colab_build.sh"
   ]
  },
  {
   "cell_type": "code",
   "execution_count": null,
   "metadata": {
    "colab": {
     "base_uri": "https://localhost:8080/"
    },
    "id": "_NrPS924rQFX",
    "outputId": "0e144a82-6133-4b5e-bcb0-d6d7bd30b382"
   },
   "outputs": [
    {
     "name": "stdout",
     "output_type": "stream",
     "text": [
      "jdk.jshell@11.0.26\n"
     ]
    }
   ],
   "source": [
    "!java --list-modules | grep \"jdk.jshell\"\n"
   ]
  },
  {
   "cell_type": "code",
   "execution_count": null,
   "metadata": {
    "colab": {
     "base_uri": "https://localhost:8080/"
    },
    "id": "zCdYYvCJrpRt",
    "outputId": "9040e399-4d14-412e-9508-78eff9e42c26"
   },
   "outputs": [],
   "source": [
    "! wget http://compbio.mit.edu/ChromHMM/ChromHMM.zip"
   ]
  },
  {
   "cell_type": "code",
   "execution_count": null,
   "metadata": {
    "colab": {
     "base_uri": "https://localhost:8080/"
    },
    "id": "gF4uI2bvvEN2",
    "outputId": "2b7f6478-9131-472c-b8c3-84096e61b218"
   },
   "outputs": [],
   "source": [
    "!unzip /content/ChromHMM.zip"
   ]
  },
  {
   "cell_type": "code",
   "execution_count": null,
   "metadata": {
    "colab": {
     "base_uri": "https://localhost:8080/"
    },
    "id": "nueossvqhfIa",
    "outputId": "b3b9c7c8-eb1f-4d5d-a7b5-c37b29dafe3b"
   },
   "outputs": [],
   "source": [
    "!wget http://hgdownload.cse.ucsc.edu/goldenPath/hg19/encodeDCC/wgEncodeBroadHistone/wgEncodeBroadHistoneGm12878ControlStdAlnRep1.bam"
   ]
  },
  {
   "cell_type": "code",
   "execution_count": null,
   "metadata": {
    "colab": {
     "base_uri": "https://localhost:8080/"
    },
    "id": "d2sD38P0h8ik",
    "outputId": "72e99e72-77dd-4cea-ea17-9183a4118fe7"
   },
   "outputs": [],
   "source": [
    "!wget http://hgdownload.cse.ucsc.edu/goldenPath/hg19/encodeDCC/wgEncodeBroadHistone/wgEncodeBroadHistoneGm12878H4k20me1StdAlnRep1.bam"
   ]
  },
  {
   "cell_type": "code",
   "execution_count": null,
   "metadata": {
    "colab": {
     "base_uri": "https://localhost:8080/"
    },
    "id": "wbfOAjMBiI_o",
    "outputId": "880f0d6a-2edf-4ae5-ffa7-db859257499b"
   },
   "outputs": [],
   "source": [
    "!wget http://hgdownload.cse.ucsc.edu/goldenPath/hg19/encodeDCC/wgEncodeBroadHistone/wgEncodeBroadHistoneGm12878H3k79me2StdAlnRep1.bam"
   ]
  },
  {
   "cell_type": "code",
   "execution_count": null,
   "metadata": {
    "colab": {
     "base_uri": "https://localhost:8080/"
    },
    "id": "tOoLU5PniUuI",
    "outputId": "dc86bbcf-5416-4566-af33-1c0914dc1cd4"
   },
   "outputs": [],
   "source": [
    "!wget http://hgdownload.cse.ucsc.edu/goldenPath/hg19/encodeDCC/wgEncodeBroadHistone/wgEncodeBroadHistoneGm12878H3k36me3StdAlnRep1.bam"
   ]
  },
  {
   "cell_type": "code",
   "execution_count": null,
   "metadata": {
    "colab": {
     "base_uri": "https://localhost:8080/"
    },
    "id": "Iri6O0WMinds",
    "outputId": "54428a39-985c-499f-a81d-ce6adc09c62d"
   },
   "outputs": [],
   "source": [
    "!wget http://hgdownload.cse.ucsc.edu/goldenPath/hg19/encodeDCC/wgEncodeBroadHistone/wgEncodeBroadHistoneGm12878H3k27me3StdAlnRep1.bam"
   ]
  },
  {
   "cell_type": "code",
   "execution_count": null,
   "metadata": {
    "colab": {
     "base_uri": "https://localhost:8080/"
    },
    "id": "HXJy_jG8iuju",
    "outputId": "ccfbe0c1-d19c-4817-e5ca-1fd63083ed91"
   },
   "outputs": [],
   "source": [
    "!wget http://hgdownload.cse.ucsc.edu/goldenPath/hg19/encodeDCC/wgEncodeBroadHistone/wgEncodeBroadHistoneGm12878H3k27acStdAlnRep1.bam"
   ]
  },
  {
   "cell_type": "code",
   "execution_count": null,
   "metadata": {
    "colab": {
     "base_uri": "https://localhost:8080/"
    },
    "id": "XfwK4FVAi11s",
    "outputId": "e988a91e-54ad-47b2-a63f-4d47c2bd530c"
   },
   "outputs": [],
   "source": [
    "!wget http://hgdownload.cse.ucsc.edu/goldenPath/hg19/encodeDCC/wgEncodeBroadHistone/wgEncodeBroadHistoneGm12878H3k4me1StdAlnRep1.bam"
   ]
  },
  {
   "cell_type": "code",
   "execution_count": null,
   "metadata": {
    "colab": {
     "base_uri": "https://localhost:8080/"
    },
    "id": "5HMUVhWsjEYd",
    "outputId": "4bd9f11d-a312-4eed-bce8-b1f0a9807cb7"
   },
   "outputs": [],
   "source": [
    "!wget http://hgdownload.cse.ucsc.edu/goldenPath/hg19/encodeDCC/wgEncodeBroadHistone/wgEncodeBroadHistoneGm12878H3k4me2StdAlnRep1.bam"
   ]
  },
  {
   "cell_type": "code",
   "execution_count": null,
   "metadata": {
    "colab": {
     "base_uri": "https://localhost:8080/"
    },
    "id": "ddY86j3yjG3E",
    "outputId": "d0e87e16-1ffd-4577-ffe2-1cb743f7edd4"
   },
   "outputs": [],
   "source": [
    "!wget http://hgdownload.cse.ucsc.edu/goldenPath/hg19/encodeDCC/wgEncodeBroadHistone/wgEncodeBroadHistoneGm12878H3k4me3StdAlnRep1.bam"
   ]
  },
  {
   "cell_type": "code",
   "execution_count": null,
   "metadata": {
    "colab": {
     "base_uri": "https://localhost:8080/"
    },
    "id": "fvekXkiUj5Ec",
    "outputId": "7d58e421-1727-42bc-8462-5561de2164fd"
   },
   "outputs": [],
   "source": [
    "!wget http://hgdownload.cse.ucsc.edu/goldenPath/hg19/encodeDCC/wgEncodeBroadHistone/wgEncodeBroadHistoneGm12878H3k9acStdAlnRep1.bam"
   ]
  },
  {
   "cell_type": "code",
   "execution_count": null,
   "metadata": {
    "colab": {
     "base_uri": "https://localhost:8080/"
    },
    "id": "iq5W_9_9Klll",
    "outputId": "a51872df-f3b9-4f07-a14a-c9d3d6ffe82d"
   },
   "outputs": [],
   "source": [
    "!wget http://hgdownload.cse.ucsc.edu/goldenPath/hg19/encodeDCC/wgEncodeBroadHistone/wgEncodeBroadHistoneGm12878H3k9me3StdAlnRep1.bam"
   ]
  },
  {
   "cell_type": "markdown",
   "metadata": {
    "id": "asjMJ26h79SY"
   },
   "source": [
    "* Manually create a text file cellmarkfiletable.txt, in which we specify the name of the cell type, different histone marks, as well as the corresponding .bam files for the experiment and control. The same control .bam file can be used for all experiments.\n",
    "\n",
    "* More details about the contents of the cellmarkfiletable.txt file can be found in the ChromHMM user manual"
   ]
  },
  {
   "cell_type": "markdown",
   "metadata": {
    "id": "WeoRL3rp728b"
   },
   "source": [
    "Run ChromHMM with the BinarizeBam option to convert profiles from ChIP-seq experiments (bam files) into a table of 0 and 1, i.e. to split the genome into conditional intervals (bins) of 200 bp in length."
   ]
  },
  {
   "cell_type": "code",
   "execution_count": null,
   "metadata": {
    "colab": {
     "base_uri": "https://localhost:8080/"
    },
    "id": "GcVBvuQZfzb8",
    "outputId": "21c9a046-2a10-4422-846a-fcd80dca801e"
   },
   "outputs": [
    {
     "name": "stdout",
     "output_type": "stream",
     "text": [
      "Writing to file binarizedData/GM12878_chr1_binary.txt\n",
      "Writing to file binarizedData/GM12878_chr2_binary.txt\n",
      "Writing to file binarizedData/GM12878_chr3_binary.txt\n",
      "Writing to file binarizedData/GM12878_chr4_binary.txt\n",
      "Writing to file binarizedData/GM12878_chr5_binary.txt\n",
      "Writing to file binarizedData/GM12878_chr6_binary.txt\n",
      "Writing to file binarizedData/GM12878_chr7_binary.txt\n",
      "Writing to file binarizedData/GM12878_chrX_binary.txt\n",
      "Writing to file binarizedData/GM12878_chr8_binary.txt\n",
      "Writing to file binarizedData/GM12878_chr9_binary.txt\n",
      "Writing to file binarizedData/GM12878_chr10_binary.txt\n",
      "Writing to file binarizedData/GM12878_chr11_binary.txt\n",
      "Writing to file binarizedData/GM12878_chr12_binary.txt\n",
      "Writing to file binarizedData/GM12878_chr13_binary.txt\n",
      "Writing to file binarizedData/GM12878_chr14_binary.txt\n",
      "Writing to file binarizedData/GM12878_chr15_binary.txt\n",
      "Writing to file binarizedData/GM12878_chr16_binary.txt\n",
      "Writing to file binarizedData/GM12878_chr17_binary.txt\n",
      "Writing to file binarizedData/GM12878_chr18_binary.txt\n",
      "Writing to file binarizedData/GM12878_chr20_binary.txt\n",
      "Writing to file binarizedData/GM12878_chr19_binary.txt\n",
      "Writing to file binarizedData/GM12878_chr22_binary.txt\n",
      "Writing to file binarizedData/GM12878_chr21_binary.txt\n",
      "Writing to file binarizedData/GM12878_chrM_binary.txt\n"
     ]
    }
   ],
   "source": [
    "!java -mx9500M -jar /content/ChromHMM/ChromHMM.jar BinarizeBam -b 200  /content/ChromHMM/CHROMSIZES/hg19.txt /content/ cellmarkfiletable.txt   binarizedData\n"
   ]
  },
  {
   "cell_type": "code",
   "execution_count": null,
   "metadata": {
    "colab": {
     "base_uri": "https://localhost:8080/"
    },
    "id": "kh909fe1zqJ3",
    "outputId": "3e40e8f6-610c-485b-b5e3-d274d28e92f6"
   },
   "outputs": [
    {
     "name": "stdout",
     "output_type": "stream",
     "text": [
      "Using 2 threads for Baum-Welch training\n",
      "Writing to file Output/transitions_10.txt\n",
      "Writing to file Output/emissions_10.txt\n",
      "Writing to file Output/emissions_10.svg\n",
      "Writing to file Output/emissions_10.png\n",
      "Writing to file Output/transitions_10.png\n",
      "Writing to file Output/transitions_10.svg\n",
      "Writing to file Output/model_10.txt\n",
      " Iteration  Estimated Log Likelihood     Change    Total Time (secs)\n",
      "         1              -8398623.753          -                 14.0\n",
      "         2              -7284186.503 1114437.250                 24.5\n",
      "         3              -7052481.097 231705.406                 34.9\n",
      "         4              -6904610.809 147870.288                 45.0\n",
      "         5              -6789248.166 115362.643                 64.5\n",
      "         6              -6698143.022  91105.144                 77.3\n",
      "         7              -6622756.822  75386.200                 87.1\n",
      "         8              -6563805.361  58951.461                 97.9\n",
      "         9              -6524220.755  39584.606                109.8\n",
      "        10              -6500691.162  23529.592                120.6\n",
      "        11              -6487508.944  13182.219                130.1\n",
      "        12              -6480071.345   7437.599                141.7\n",
      "        13              -6475554.841   4516.503                155.0\n",
      "        14              -6472527.598   3027.243                166.0\n",
      "        15              -6470306.521   2221.077                177.0\n",
      "        16              -6468555.524   1750.997                187.2\n",
      "        17              -6467101.750   1453.774                197.6\n",
      "        18              -6465853.732   1248.018                208.6\n",
      "        19              -6464760.546   1093.185                219.9\n",
      "        20              -6463793.771    966.776                230.7\n",
      "        21              -6462939.016    854.754                240.5\n",
      "        22              -6462189.813    749.203                251.6\n",
      "        23              -6461542.454    647.359                262.6\n",
      "        24              -6460991.794    550.660                273.6\n",
      "        25              -6460529.287    462.507                283.4\n",
      "        26              -6460143.794    385.493                294.2\n",
      "        27              -6459823.441    320.353                305.2\n",
      "        28              -6459557.006    266.435                316.2\n",
      "        29              -6459334.641    222.365                326.9\n",
      "        30              -6459148.133    186.509                336.8\n",
      "        31              -6458990.856    157.277                347.8\n",
      "        32              -6458857.562    133.294                358.8\n",
      "        33              -6458744.092    113.470                369.9\n",
      "        34              -6458647.106     96.986                379.8\n",
      "        35              -6458563.880     83.226                390.8\n",
      "        36              -6458492.167     71.713                401.8\n",
      "        37              -6458430.107     62.060                412.9\n",
      "        38              -6458376.163     53.944                423.8\n",
      "        39              -6458329.068     47.095                433.6\n",
      "        40              -6458287.779     41.288                444.9\n",
      "        41              -6458251.436     36.343                456.0\n",
      "        42              -6458219.325     32.111                467.0\n",
      "        43              -6458190.849     28.476                477.1\n",
      "        44              -6458165.505     25.344                487.8\n",
      "        45              -6458142.868     22.637                498.8\n",
      "        46              -6458122.571     20.296                509.8\n",
      "        47              -6458104.301     18.270                520.5\n",
      "        48              -6458087.783     16.518                530.7\n",
      "        49              -6458072.779     15.005                541.9\n",
      "        50              -6458059.075     13.704                552.9\n",
      "        51              -6458046.485     12.590                563.8\n",
      "        52              -6458034.841     11.644                573.5\n",
      "        53              -6458023.991     10.850                584.6\n",
      "        54              -6458013.797     10.194                595.6\n",
      "        55              -6458004.131      9.665                606.7\n",
      "        56              -6457994.875      9.256                617.3\n",
      "        57              -6457985.916      8.959                627.4\n",
      "        58              -6457977.143      8.773                638.5\n",
      "        59              -6457968.446      8.697                649.6\n",
      "        60              -6457959.701      8.745                660.7\n",
      "        61              -6457950.811      8.890                670.3\n",
      "        62              -6457941.632      9.178                681.4\n",
      "        63              -6457932.023      9.609                692.4\n",
      "        64              -6457921.831     10.192                703.7\n",
      "        65              -6457910.909     10.922                714.4\n",
      "        66              -6457899.139     11.770                724.7\n",
      "        67              -6457886.452     12.687                735.9\n",
      "        68              -6457872.819     13.632                746.9\n",
      "        69              -6457858.234     14.585                758.1\n",
      "        70              -6457842.697     15.538                767.8\n",
      "        71              -6457826.225     16.472                778.8\n",
      "        72              -6457808.873     17.352                790.0\n",
      "        73              -6457790.756     18.118                801.0\n",
      "        74              -6457772.090     18.666                811.2\n",
      "        75              -6457753.241     18.849                821.8\n",
      "        76              -6457734.682     18.559                832.8\n",
      "        77              -6457716.825     17.858                844.1\n",
      "        78              -6457699.855     16.969                855.6\n",
      "        79              -6457683.809     16.046                865.4\n",
      "        80              -6457668.958     14.851                876.4\n",
      "        81              -6457655.988     12.969                887.5\n",
      "        82              -6457645.460     10.529                898.6\n",
      "        83              -6457637.411      8.049                908.9\n",
      "        84              -6457631.518      5.893                919.3\n",
      "        85              -6457627.331      4.187                930.2\n",
      "        86              -6457624.416      2.914                941.3\n",
      "        87              -6457622.415      2.002                952.0\n",
      "        88              -6457621.050      1.365                961.9\n",
      "        89              -6457620.122      0.928                973.2\n",
      "        90              -6457619.489      0.633                984.2\n",
      "        91              -6457619.054      0.434                995.3\n",
      "        92              -6457618.753      0.301               1005.3\n",
      "        93              -6457618.541      0.212               1016.0\n",
      "        94              -6457618.388      0.152               1027.1\n",
      "        95              -6457618.276      0.112               1038.0\n",
      "        96              -6457618.192      0.084               1048.4\n",
      "        97              -6457618.127      0.065               1058.6\n",
      "        98              -6457618.075      0.052               1069.6\n",
      "        99              -6457618.032      0.042               1080.7\n",
      "       100              -6457617.997      0.035               1091.7\n",
      "       101              -6457617.968      0.030               1101.3\n",
      "       102              -6457617.942      0.026               1112.5\n",
      "       103              -6457617.920      0.022               1123.4\n",
      "       104              -6457617.900      0.020               1134.5\n",
      "       105              -6457617.883      0.017               1145.1\n",
      "       106              -6457617.868      0.015               1155.0\n",
      "       107              -6457617.854      0.014               1166.1\n",
      "       108              -6457617.842      0.012               1177.1\n",
      "       109              -6457617.831      0.011               1188.2\n",
      "       110              -6457617.821      0.010               1198.1\n",
      "       111              -6457617.812      0.009               1208.8\n",
      "       112              -6457617.804      0.008               1219.7\n",
      "       113              -6457617.797      0.007               1230.6\n",
      "       114              -6457617.790      0.007               1241.2\n",
      "       115              -6457617.784      0.006               1251.2\n",
      "       116              -6457617.779      0.005               1262.1\n",
      "       117              -6457617.774      0.005               1273.1\n",
      "       118              -6457617.770      0.004               1284.0\n",
      "       119              -6457617.766      0.004               1293.7\n",
      "       120              -6457617.762      0.004               1304.7\n",
      "       121              -6457617.759      0.003               1315.8\n",
      "       122              -6457617.756      0.003               1326.9\n",
      "       123              -6457617.754      0.003               1337.7\n",
      "       124              -6457617.751      0.002               1347.6\n",
      "       125              -6457617.749      0.002               1359.4\n",
      "       126              -6457617.747      0.002               1370.4\n",
      "       127              -6457617.746      0.002               1381.6\n",
      "       128              -6457617.744      0.002               1392.0\n",
      "       129              -6457617.743      0.001               1402.3\n",
      "       130              -6457617.741      0.001               1413.2\n",
      "       131              -6457617.740      0.001               1424.3\n",
      "       132              -6457617.739      0.001               1435.3\n",
      "       133              -6457617.738      0.001               1444.9\n",
      "Writing to file Output/GM12878_10_segments.bed\n",
      "Writing to file Output/GM12878_10_dense.bed\n",
      "Writing to file Output/GM12878_10_expanded.bed\n",
      "Writing to file Output/GM12878_10_overlap.txt\n",
      "Writing to file Output/GM12878_10_overlap.png\n",
      "Writing to file Output/GM12878_10_overlap.svg\n",
      "Writing to file Output/GM12878_10_RefSeqTSS_neighborhood.txt\n",
      "Writing to file Output/GM12878_10_RefSeqTSS_neighborhood.png\n",
      "Writing to file Output/GM12878_10_RefSeqTSS_neighborhood.svg\n",
      "Writing to file Output/GM12878_10_RefSeqTES_neighborhood.txt\n",
      "Writing to file Output/GM12878_10_RefSeqTES_neighborhood.png\n",
      "Writing to file Output/GM12878_10_RefSeqTES_neighborhood.svg\n",
      "Warning could not automatically open in a browser Output/webpage_10.html\n"
     ]
    }
   ],
   "source": [
    "!java -mx5200M -jar /content/ChromHMM/ChromHMM.jar LearnModel -p 2 binarizedData Output 10 hg19\n"
   ]
  },
  {
   "cell_type": "markdown",
   "metadata": {
    "id": "Yo11TtNG8SXU"
   },
   "source": [
    "Run ChromHMM with the LearnModel option (see the user manual), which will automatically determine the parameters of N different epigenetic types with the most pronounced sets of histone marks and assign a specific epigenetic type to each genomic interval. You choose the number of different epigenetic types (or states) yourself (for example, 10)."
   ]
  },
  {
   "cell_type": "markdown",
   "metadata": {
    "id": "7yuCmmw-gsFC"
   },
   "source": [
    "As a result of executing the LearnModel command, a set of files (including an HTML page) will be created in the output folder that was specified during program execution."
   ]
  },
  {
   "cell_type": "code",
   "execution_count": null,
   "metadata": {
    "colab": {
     "base_uri": "https://localhost:8080/"
    },
    "id": "Q7gD4f__VYlj",
    "outputId": "7d8bf2c7-4503-4afe-9047-da47d3da0042"
   },
   "outputs": [
    {
     "name": "stdout",
     "output_type": "stream",
     "text": [
      "Output/\n",
      "Output/GM12878_10_RefSeqTES_neighborhood.svg\n",
      "Output/model_10.txt\n",
      "Output/GM12878_10_RefSeqTES_neighborhood.png\n",
      "Output/GM12878_10_RefSeqTSS_neighborhood.png\n",
      "Output/GM12878_10_RefSeqTSS_neighborhood.svg\n",
      "Output/GM12878_10_overlap.txt\n",
      "Output/GM12878_10_RefSeqTSS_neighborhood.txt\n",
      "Output/GM12878_10_segments.bed\n",
      "Output/transitions_10.svg\n",
      "Output/GM12878_10_overlap.svg\n",
      "Output/emissions_10.txt\n",
      "Output/emissions_10.png\n",
      "Output/transitions_10.png\n",
      "Output/webpage_10.html\n",
      "Output/GM12878_10_overlap.png\n",
      "Output/emissions_10.svg\n",
      "Output/GM12878_10_expanded.bed\n",
      "Output/transitions_10.txt\n",
      "Output/GM12878_10_dense.bed\n",
      "Output/GM12878_10_RefSeqTES_neighborhood.txt\n"
     ]
    }
   ],
   "source": [
    "!tar -cvf output.tar.gz Output"
   ]
  },
  {
   "cell_type": "code",
   "execution_count": null,
   "metadata": {
    "id": "fJGaUFWK9uE1"
   },
   "outputs": [],
   "source": []
  }
 ],
 "metadata": {
  "colab": {
   "provenance": []
  },
  "kernelspec": {
   "display_name": "Python 3 (ipykernel)",
   "language": "python",
   "name": "python3"
  },
  "language_info": {
   "codemirror_mode": {
    "name": "ipython",
    "version": 3
   },
   "file_extension": ".py",
   "mimetype": "text/x-python",
   "name": "python",
   "nbconvert_exporter": "python",
   "pygments_lexer": "ipython3",
   "version": "3.10.6"
  }
 },
 "nbformat": 4,
 "nbformat_minor": 4
}

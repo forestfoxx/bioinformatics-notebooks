{
 "cells": [
  {
   "cell_type": "markdown",
   "metadata": {
    "id": "7DFpK_Pf1hAX"
   },
   "source": [
    "## Install HISAT2 for mapping RNA-seq reads to genome"
   ]
  },
  {
   "cell_type": "code",
   "execution_count": 3,
   "metadata": {
    "colab": {
     "base_uri": "https://localhost:8080/"
    },
    "id": "WS21uIX63ehw",
    "outputId": "87099a01-7600-4719-b7dc-b9fb07b732fc"
   },
   "outputs": [
    {
     "name": "stdout",
     "output_type": "stream",
     "text": [
      "\r",
      "0% [Working]\r",
      "            \r",
      "Get:1 http://security.ubuntu.com/ubuntu jammy-security InRelease [129 kB]\n",
      "\r",
      "0% [Connecting to archive.ubuntu.com] [1 InRelease 2,588 B/129 kB 2%] [Connected to cloud.r-project.\r",
      "                                                                                                    \r",
      "Get:2 https://cloud.r-project.org/bin/linux/ubuntu jammy-cran40/ InRelease [3,626 B]\n",
      "\r",
      "0% [Waiting for headers] [1 InRelease 43.1 kB/129 kB 33%] [2 InRelease 3,626 B/3,626 B 100%] [Connec\r",
      "0% [Waiting for headers] [1 InRelease 70.6 kB/129 kB 55%] [Connected to r2u.stat.illinois.edu (192.1\r",
      "                                                                                                    \r",
      "Hit:3 http://archive.ubuntu.com/ubuntu jammy InRelease\n",
      "\r",
      "0% [Waiting for headers] [1 InRelease 75.0 kB/129 kB 58%] [Waiting for headers] [Waiting for headers\r",
      "0% [Waiting for headers] [Waiting for headers] [Waiting for headers] [Connected to ppa.launchpadcont\r",
      "                                                                                                    \r",
      "Get:4 http://archive.ubuntu.com/ubuntu jammy-updates InRelease [128 kB]\n",
      "Get:5 https://developer.download.nvidia.com/compute/cuda/repos/ubuntu2204/x86_64  InRelease [1,581 B]\n",
      "Get:6 https://r2u.stat.illinois.edu/ubuntu jammy InRelease [6,555 B]\n",
      "Get:7 http://archive.ubuntu.com/ubuntu jammy-backports InRelease [127 kB]\n",
      "Hit:8 https://ppa.launchpadcontent.net/deadsnakes/ppa/ubuntu jammy InRelease\n",
      "Hit:9 https://ppa.launchpadcontent.net/graphics-drivers/ppa/ubuntu jammy InRelease\n",
      "Hit:10 https://ppa.launchpadcontent.net/ubuntugis/ppa/ubuntu jammy InRelease\n",
      "Get:11 http://security.ubuntu.com/ubuntu jammy-security/main amd64 Packages [2,425 kB]\n",
      "Get:12 https://developer.download.nvidia.com/compute/cuda/repos/ubuntu2204/x86_64  Packages [1,110 kB]\n",
      "Get:13 http://security.ubuntu.com/ubuntu jammy-security/universe amd64 Packages [1,164 kB]\n",
      "Get:14 https://r2u.stat.illinois.edu/ubuntu jammy/main all Packages [8,482 kB]\n",
      "Get:15 http://archive.ubuntu.com/ubuntu jammy-updates/universe amd64 Packages [1,453 kB]\n",
      "Get:16 http://archive.ubuntu.com/ubuntu jammy-updates/main amd64 Packages [2,701 kB]\n",
      "Get:17 https://r2u.stat.illinois.edu/ubuntu jammy/main amd64 Packages [2,616 kB]\n",
      "Fetched 20.3 MB in 3s (7,854 kB/s)\n",
      "Reading package lists... Done\n",
      "W: Skipping acquire of configured file 'main/source/Sources' as repository 'https://r2u.stat.illinois.edu/ubuntu jammy InRelease' does not seem to provide it (sources.list entry misspelt?)\n"
     ]
    }
   ],
   "source": [
    "!apt-get update"
   ]
  },
  {
   "cell_type": "code",
   "execution_count": 4,
   "metadata": {
    "colab": {
     "base_uri": "https://localhost:8080/"
    },
    "id": "3md6cslv3is6",
    "outputId": "ef3a6f9e-6e7a-4fd6-e5b5-b40f09f42015"
   },
   "outputs": [
    {
     "name": "stdout",
     "output_type": "stream",
     "text": [
      "Reading package lists... Done\n",
      "Building dependency tree... Done\n",
      "Reading state information... Done\n",
      "The following additional packages will be installed:\n",
      "  bcftools libhts3 libhtscodecs2 python3-hisat2 samtools\n",
      "Suggested packages:\n",
      "  python3-numpy python3-matplotlib texlive-latex-recommended cwltool\n",
      "The following NEW packages will be installed:\n",
      "  bcftools hisat2 libhts3 libhtscodecs2 python3-hisat2 samtools\n",
      "0 upgraded, 6 newly installed, 0 to remove and 55 not upgraded.\n",
      "Need to get 5,505 kB of archives.\n",
      "After this operation, 17.1 MB of additional disk space will be used.\n",
      "Get:1 http://archive.ubuntu.com/ubuntu jammy/universe amd64 libhtscodecs2 amd64 1.1.1-3 [53.2 kB]\n",
      "Get:2 http://archive.ubuntu.com/ubuntu jammy/universe amd64 libhts3 amd64 1.13+ds-2build1 [390 kB]\n",
      "Get:3 http://archive.ubuntu.com/ubuntu jammy/universe amd64 bcftools amd64 1.13-1 [697 kB]\n",
      "Get:4 http://archive.ubuntu.com/ubuntu jammy/universe amd64 hisat2 amd64 2.2.1-3 [3,832 kB]\n",
      "Get:5 http://archive.ubuntu.com/ubuntu jammy/universe amd64 python3-hisat2 all 2.2.1-3 [12.7 kB]\n",
      "Get:6 http://archive.ubuntu.com/ubuntu jammy/universe amd64 samtools amd64 1.13-4 [520 kB]\n",
      "Fetched 5,505 kB in 0s (13.5 MB/s)\n",
      "Selecting previously unselected package libhtscodecs2:amd64.\n",
      "(Reading database ... 123629 files and directories currently installed.)\n",
      "Preparing to unpack .../0-libhtscodecs2_1.1.1-3_amd64.deb ...\n",
      "Unpacking libhtscodecs2:amd64 (1.1.1-3) ...\n",
      "Selecting previously unselected package libhts3:amd64.\n",
      "Preparing to unpack .../1-libhts3_1.13+ds-2build1_amd64.deb ...\n",
      "Unpacking libhts3:amd64 (1.13+ds-2build1) ...\n",
      "Selecting previously unselected package bcftools.\n",
      "Preparing to unpack .../2-bcftools_1.13-1_amd64.deb ...\n",
      "Unpacking bcftools (1.13-1) ...\n",
      "Selecting previously unselected package hisat2.\n",
      "Preparing to unpack .../3-hisat2_2.2.1-3_amd64.deb ...\n",
      "Unpacking hisat2 (2.2.1-3) ...\n",
      "Selecting previously unselected package python3-hisat2.\n",
      "Preparing to unpack .../4-python3-hisat2_2.2.1-3_all.deb ...\n",
      "Unpacking python3-hisat2 (2.2.1-3) ...\n",
      "Selecting previously unselected package samtools.\n",
      "Preparing to unpack .../5-samtools_1.13-4_amd64.deb ...\n",
      "Unpacking samtools (1.13-4) ...\n",
      "Setting up libhtscodecs2:amd64 (1.1.1-3) ...\n",
      "Setting up libhts3:amd64 (1.13+ds-2build1) ...\n",
      "Setting up bcftools (1.13-1) ...\n",
      "Setting up samtools (1.13-4) ...\n",
      "Setting up hisat2 (2.2.1-3) ...\n",
      "Setting up python3-hisat2 (2.2.1-3) ...\n",
      "Processing triggers for man-db (2.10.2-1) ...\n",
      "Processing triggers for libc-bin (2.35-0ubuntu3.4) ...\n",
      "/sbin/ldconfig.real: /usr/local/lib/libtbbbind_2_5.so.3 is not a symbolic link\n",
      "\n",
      "/sbin/ldconfig.real: /usr/local/lib/libtbbmalloc.so.2 is not a symbolic link\n",
      "\n",
      "/sbin/ldconfig.real: /usr/local/lib/libtbb.so.12 is not a symbolic link\n",
      "\n",
      "/sbin/ldconfig.real: /usr/local/lib/libtbbmalloc_proxy.so.2 is not a symbolic link\n",
      "\n",
      "/sbin/ldconfig.real: /usr/local/lib/libur_adapter_opencl.so.0 is not a symbolic link\n",
      "\n",
      "/sbin/ldconfig.real: /usr/local/lib/libur_loader.so.0 is not a symbolic link\n",
      "\n",
      "/sbin/ldconfig.real: /usr/local/lib/libumf.so.0 is not a symbolic link\n",
      "\n",
      "/sbin/ldconfig.real: /usr/local/lib/libtbbbind_2_0.so.3 is not a symbolic link\n",
      "\n",
      "/sbin/ldconfig.real: /usr/local/lib/libtcm.so.1 is not a symbolic link\n",
      "\n",
      "/sbin/ldconfig.real: /usr/local/lib/libhwloc.so.15 is not a symbolic link\n",
      "\n",
      "/sbin/ldconfig.real: /usr/local/lib/libtcm_debug.so.1 is not a symbolic link\n",
      "\n",
      "/sbin/ldconfig.real: /usr/local/lib/libur_adapter_level_zero.so.0 is not a symbolic link\n",
      "\n",
      "/sbin/ldconfig.real: /usr/local/lib/libtbbbind.so.3 is not a symbolic link\n",
      "\n"
     ]
    }
   ],
   "source": [
    "!apt-get install hisat2"
   ]
  },
  {
   "cell_type": "code",
   "execution_count": 5,
   "metadata": {
    "colab": {
     "base_uri": "https://localhost:8080/"
    },
    "id": "6-Eyz3aD3m8-",
    "outputId": "c6c3d4be-b24c-4773-b900-88315e640d83"
   },
   "outputs": [
    {
     "name": "stdout",
     "output_type": "stream",
     "text": [
      "/usr/bin/hisat2-align-s version 2.2.1\n",
      "64-bit\n",
      "Built on Debian\n",
      "28 September 2021\n",
      "Compiler: gcc version 11.2.0 (Ubuntu 11.2.0-7ubuntu2) \n",
      "Options: -O3   -funroll-loops -g3 -Wdate-time -D_FORTIFY_SOURCE=2 -std=c++11\n",
      "Sizeof {int, long, long long, void*, size_t, off_t}: {4, 8, 8, 8, 8, 8}\n"
     ]
    }
   ],
   "source": [
    "!hisat2 --version"
   ]
  },
  {
   "cell_type": "markdown",
   "metadata": {
    "id": "0fTXUIiw2WGQ"
   },
   "source": [
    "## Install sra-toolkit to download .fastq files from NCBI"
   ]
  },
  {
   "cell_type": "code",
   "execution_count": 6,
   "metadata": {
    "colab": {
     "base_uri": "https://localhost:8080/"
    },
    "id": "5m-7wf_x2Yue",
    "outputId": "0494c1dc-2e1d-45ab-9fa7-37f5135a68a4"
   },
   "outputs": [
    {
     "name": "stdout",
     "output_type": "stream",
     "text": [
      "Reading package lists... Done\n",
      "Building dependency tree... Done\n",
      "Reading state information... Done\n",
      "The following additional packages will be installed:\n",
      "  blends-common libkdf5-2 libncbi-vdb2 libncbi-wvdb2 med-config menu\n",
      "Suggested packages:\n",
      "  blends-doc menu-l10n gksu | kde-runtime | ktsuss\n",
      "The following NEW packages will be installed:\n",
      "  blends-common libkdf5-2 libncbi-vdb2 libncbi-wvdb2 med-config menu sra-toolkit\n",
      "0 upgraded, 7 newly installed, 0 to remove and 55 not upgraded.\n",
      "Need to get 8,290 kB of archives.\n",
      "After this operation, 23.0 MB of additional disk space will be used.\n",
      "Get:1 http://archive.ubuntu.com/ubuntu jammy/universe amd64 menu amd64 2.1.47ubuntu4 [354 kB]\n",
      "Get:2 http://archive.ubuntu.com/ubuntu jammy/universe amd64 blends-common all 0.7.4ubuntu1 [15.9 kB]\n",
      "Get:3 http://archive.ubuntu.com/ubuntu jammy/universe amd64 libkdf5-2 amd64 2.11.2+dfsg-4build2 [14.7 kB]\n",
      "Get:4 http://archive.ubuntu.com/ubuntu jammy/universe amd64 libncbi-vdb2 amd64 2.11.2+dfsg-4build2 [1,364 kB]\n",
      "Get:5 http://archive.ubuntu.com/ubuntu jammy/universe amd64 libncbi-wvdb2 amd64 2.11.2+dfsg-4build2 [1,252 kB]\n",
      "Get:6 http://archive.ubuntu.com/ubuntu jammy/universe amd64 sra-toolkit amd64 2.11.3+dfsg-1ubuntu1 [5,277 kB]\n",
      "Get:7 http://archive.ubuntu.com/ubuntu jammy/universe amd64 med-config all 3.7.1 [11.6 kB]\n",
      "Fetched 8,290 kB in 0s (23.1 MB/s)\n",
      "Preconfiguring packages ...\n",
      "Selecting previously unselected package menu.\n",
      "(Reading database ... 123829 files and directories currently installed.)\n",
      "Preparing to unpack .../0-menu_2.1.47ubuntu4_amd64.deb ...\n",
      "Unpacking menu (2.1.47ubuntu4) ...\n",
      "Selecting previously unselected package blends-common.\n",
      "Preparing to unpack .../1-blends-common_0.7.4ubuntu1_all.deb ...\n",
      "Unpacking blends-common (0.7.4ubuntu1) ...\n",
      "Selecting previously unselected package libkdf5-2.\n",
      "Preparing to unpack .../2-libkdf5-2_2.11.2+dfsg-4build2_amd64.deb ...\n",
      "Unpacking libkdf5-2 (2.11.2+dfsg-4build2) ...\n",
      "Selecting previously unselected package libncbi-vdb2.\n",
      "Preparing to unpack .../3-libncbi-vdb2_2.11.2+dfsg-4build2_amd64.deb ...\n",
      "Unpacking libncbi-vdb2 (2.11.2+dfsg-4build2) ...\n",
      "Selecting previously unselected package libncbi-wvdb2.\n",
      "Preparing to unpack .../4-libncbi-wvdb2_2.11.2+dfsg-4build2_amd64.deb ...\n",
      "Unpacking libncbi-wvdb2 (2.11.2+dfsg-4build2) ...\n",
      "Selecting previously unselected package sra-toolkit.\n",
      "Preparing to unpack .../5-sra-toolkit_2.11.3+dfsg-1ubuntu1_amd64.deb ...\n",
      "Unpacking sra-toolkit (2.11.3+dfsg-1ubuntu1) ...\n",
      "Selecting previously unselected package med-config.\n",
      "Preparing to unpack .../6-med-config_3.7.1_all.deb ...\n",
      "Unpacking med-config (3.7.1) ...\n",
      "Setting up libncbi-vdb2 (2.11.2+dfsg-4build2) ...\n",
      "Setting up libkdf5-2 (2.11.2+dfsg-4build2) ...\n",
      "Setting up libncbi-wvdb2 (2.11.2+dfsg-4build2) ...\n",
      "Setting up menu (2.1.47ubuntu4) ...\n",
      "Setting up blends-common (0.7.4ubuntu1) ...\n",
      "Setting up sra-toolkit (2.11.3+dfsg-1ubuntu1) ...\n",
      "Setting up med-config (3.7.1) ...\n",
      "Adding group `med' (GID 107) ...\n",
      "Done.\n",
      "Processing triggers for man-db (2.10.2-1) ...\n",
      "Processing triggers for libc-bin (2.35-0ubuntu3.4) ...\n",
      "/sbin/ldconfig.real: /usr/local/lib/libtbbbind_2_5.so.3 is not a symbolic link\n",
      "\n",
      "/sbin/ldconfig.real: /usr/local/lib/libtbbmalloc.so.2 is not a symbolic link\n",
      "\n",
      "/sbin/ldconfig.real: /usr/local/lib/libtbb.so.12 is not a symbolic link\n",
      "\n",
      "/sbin/ldconfig.real: /usr/local/lib/libtbbmalloc_proxy.so.2 is not a symbolic link\n",
      "\n",
      "/sbin/ldconfig.real: /usr/local/lib/libur_adapter_opencl.so.0 is not a symbolic link\n",
      "\n",
      "/sbin/ldconfig.real: /usr/local/lib/libur_loader.so.0 is not a symbolic link\n",
      "\n",
      "/sbin/ldconfig.real: /usr/local/lib/libumf.so.0 is not a symbolic link\n",
      "\n",
      "/sbin/ldconfig.real: /usr/local/lib/libtbbbind_2_0.so.3 is not a symbolic link\n",
      "\n",
      "/sbin/ldconfig.real: /usr/local/lib/libtcm.so.1 is not a symbolic link\n",
      "\n",
      "/sbin/ldconfig.real: /usr/local/lib/libhwloc.so.15 is not a symbolic link\n",
      "\n",
      "/sbin/ldconfig.real: /usr/local/lib/libtcm_debug.so.1 is not a symbolic link\n",
      "\n",
      "/sbin/ldconfig.real: /usr/local/lib/libur_adapter_level_zero.so.0 is not a symbolic link\n",
      "\n",
      "/sbin/ldconfig.real: /usr/local/lib/libtbbbind.so.3 is not a symbolic link\n",
      "\n",
      "Processing triggers for menu (2.1.47ubuntu4) ...\n"
     ]
    }
   ],
   "source": [
    "!apt-get install sra-toolkit"
   ]
  },
  {
   "cell_type": "markdown",
   "metadata": {
    "id": "XiVlP4mfy74q"
   },
   "source": [
    "## Install FastQC"
   ]
  },
  {
   "cell_type": "code",
   "execution_count": 7,
   "metadata": {
    "colab": {
     "base_uri": "https://localhost:8080/"
    },
    "id": "62l1Q2ymbENA",
    "outputId": "9735070f-02a9-4f0a-b80d-3016d7149f9d"
   },
   "outputs": [
    {
     "name": "stdout",
     "output_type": "stream",
     "text": [
      "openjdk version \"11.0.25\" 2024-10-15\n",
      "OpenJDK Runtime Environment (build 11.0.25+9-post-Ubuntu-1ubuntu122.04)\n",
      "OpenJDK 64-Bit Server VM (build 11.0.25+9-post-Ubuntu-1ubuntu122.04, mixed mode, sharing)\n"
     ]
    }
   ],
   "source": [
    "!java -version"
   ]
  },
  {
   "cell_type": "code",
   "execution_count": 8,
   "metadata": {
    "colab": {
     "base_uri": "https://localhost:8080/"
    },
    "id": "8bpgwFgcbgRd",
    "outputId": "66307c82-9b93-4c56-daf6-9397a2c380b3"
   },
   "outputs": [
    {
     "name": "stdout",
     "output_type": "stream",
     "text": [
      "--2024-11-16 06:39:03--  https://www.bioinformatics.babraham.ac.uk/projects/fastqc/fastqc_v0.11.9.zip\n",
      "Resolving www.bioinformatics.babraham.ac.uk (www.bioinformatics.babraham.ac.uk)... 149.155.133.4\n",
      "Connecting to www.bioinformatics.babraham.ac.uk (www.bioinformatics.babraham.ac.uk)|149.155.133.4|:443... connected.\n",
      "HTTP request sent, awaiting response... 200 OK\n",
      "Length: 10249221 (9.8M) [application/zip]\n",
      "Saving to: ‘fastqc_v0.11.9.zip’\n",
      "\n",
      "fastqc_v0.11.9.zip  100%[===================>]   9.77M  10.3MB/s    in 0.9s    \n",
      "\n",
      "2024-11-16 06:39:04 (10.3 MB/s) - ‘fastqc_v0.11.9.zip’ saved [10249221/10249221]\n",
      "\n"
     ]
    }
   ],
   "source": [
    "!wget https://www.bioinformatics.babraham.ac.uk/projects/fastqc/fastqc_v0.11.9.zip"
   ]
  },
  {
   "cell_type": "code",
   "execution_count": 9,
   "metadata": {
    "colab": {
     "base_uri": "https://localhost:8080/"
    },
    "id": "yTcTjOTJblcm",
    "outputId": "bf9706d5-d2e7-4c43-f528-af23cbefbd44"
   },
   "outputs": [
    {
     "name": "stdout",
     "output_type": "stream",
     "text": [
      "Archive:  fastqc_v0.11.9.zip\n",
      "  inflating: FastQC/cisd-jhdf5.jar   \n",
      "   creating: FastQC/Configuration/\n",
      "  inflating: FastQC/Configuration/adapter_list.txt  \n",
      "  inflating: FastQC/Configuration/contaminant_list.txt  \n",
      "  inflating: FastQC/Configuration/limits.txt  \n",
      "  inflating: FastQC/fastqc           \n",
      "  inflating: FastQC/fastqc_icon.ico  \n",
      "   creating: FastQC/Help/\n",
      "   creating: FastQC/Help/1 Introduction/\n",
      "   creating: FastQC/Help/1 Introduction/.svn/\n",
      "  inflating: FastQC/Help/1 Introduction/.svn/entries  \n",
      "   creating: FastQC/Help/1 Introduction/.svn/props/\n",
      "   creating: FastQC/Help/1 Introduction/.svn/text-base/\n",
      "  inflating: FastQC/Help/1 Introduction/.svn/text-base/1.1 What is FastQC.html.svn-base  \n",
      "   creating: FastQC/Help/1 Introduction/.svn/tmp/\n",
      "   creating: FastQC/Help/1 Introduction/.svn/tmp/props/\n",
      "  inflating: FastQC/Help/1 Introduction/1.1 What is FastQC.html  \n",
      "   creating: FastQC/Help/2 Basic Operations/\n",
      "   creating: FastQC/Help/2 Basic Operations/.svn/\n",
      "  inflating: FastQC/Help/2 Basic Operations/.svn/entries  \n",
      "   creating: FastQC/Help/2 Basic Operations/.svn/props/\n",
      "   creating: FastQC/Help/2 Basic Operations/.svn/text-base/\n",
      "  inflating: FastQC/Help/2 Basic Operations/.svn/text-base/2.1 Opening a sequence file.html.svn-base  \n",
      "  inflating: FastQC/Help/2 Basic Operations/.svn/text-base/2.2 Evaluating Results.html.svn-base  \n",
      "  inflating: FastQC/Help/2 Basic Operations/.svn/text-base/2.3 Saving a Report.html.svn-base  \n",
      "   creating: FastQC/Help/2 Basic Operations/.svn/tmp/\n",
      "   creating: FastQC/Help/2 Basic Operations/.svn/tmp/props/\n",
      "  inflating: FastQC/Help/2 Basic Operations/2.1 Opening a sequence file.html  \n",
      "  inflating: FastQC/Help/2 Basic Operations/2.2 Evaluating Results.html  \n",
      "  inflating: FastQC/Help/2 Basic Operations/2.3 Saving a Report.html  \n",
      "   creating: FastQC/Help/3 Analysis Modules/\n",
      "   creating: FastQC/Help/3 Analysis Modules/.svn/\n",
      "  inflating: FastQC/Help/3 Analysis Modules/.svn/entries  \n",
      "   creating: FastQC/Help/3 Analysis Modules/.svn/prop-base/\n",
      " extracting: FastQC/Help/3 Analysis Modules/.svn/prop-base/duplication_levels.png.svn-base  \n",
      "  inflating: FastQC/Help/3 Analysis Modules/.svn/prop-base/kmer_profiles.png.svn-base  \n",
      " extracting: FastQC/Help/3 Analysis Modules/.svn/prop-base/per_base_gc_content.png.svn-base  \n",
      " extracting: FastQC/Help/3 Analysis Modules/.svn/prop-base/per_base_n_content.png.svn-base  \n",
      " extracting: FastQC/Help/3 Analysis Modules/.svn/prop-base/per_base_quality.png.svn-base  \n",
      " extracting: FastQC/Help/3 Analysis Modules/.svn/prop-base/per_base_sequence_content.png.svn-base  \n",
      " extracting: FastQC/Help/3 Analysis Modules/.svn/prop-base/per_sequence_gc_content.png.svn-base  \n",
      " extracting: FastQC/Help/3 Analysis Modules/.svn/prop-base/per_sequence_quality.png.svn-base  \n",
      " extracting: FastQC/Help/3 Analysis Modules/.svn/prop-base/per_tile_quality.png.svn-base  \n",
      " extracting: FastQC/Help/3 Analysis Modules/.svn/prop-base/sequence_length_distribution.png.svn-base  \n",
      "   creating: FastQC/Help/3 Analysis Modules/.svn/props/\n",
      "   creating: FastQC/Help/3 Analysis Modules/.svn/text-base/\n",
      "  inflating: FastQC/Help/3 Analysis Modules/.svn/text-base/1 Basic Statistics.html.svn-base  \n",
      "  inflating: FastQC/Help/3 Analysis Modules/.svn/text-base/10 Adapter Content.html.svn-base  \n",
      "  inflating: FastQC/Help/3 Analysis Modules/.svn/text-base/11 Kmer Content.html.svn-base  \n",
      "  inflating: FastQC/Help/3 Analysis Modules/.svn/text-base/12 Per Tile Sequence Quality.html.svn-base  \n",
      "  inflating: FastQC/Help/3 Analysis Modules/.svn/text-base/2 Per Base Sequence Quality.html.svn-base  \n",
      "  inflating: FastQC/Help/3 Analysis Modules/.svn/text-base/3 Per Sequence Quality Scores.html.svn-base  \n",
      "  inflating: FastQC/Help/3 Analysis Modules/.svn/text-base/4 Per Base Sequence Content.html.svn-base  \n",
      "  inflating: FastQC/Help/3 Analysis Modules/.svn/text-base/5 Per Sequence GC Content.html.svn-base  \n",
      "  inflating: FastQC/Help/3 Analysis Modules/.svn/text-base/6 Per Base N Content.html.svn-base  \n",
      "  inflating: FastQC/Help/3 Analysis Modules/.svn/text-base/7 Sequence Length Distribution.html.svn-base  \n",
      "  inflating: FastQC/Help/3 Analysis Modules/.svn/text-base/8 Duplicate Sequences.html.svn-base  \n",
      "  inflating: FastQC/Help/3 Analysis Modules/.svn/text-base/9 Overrepresented Sequences.html.svn-base  \n",
      "  inflating: FastQC/Help/3 Analysis Modules/.svn/text-base/duplication_levels.png.svn-base  \n",
      "  inflating: FastQC/Help/3 Analysis Modules/.svn/text-base/kmer_profiles.png.svn-base  \n",
      "  inflating: FastQC/Help/3 Analysis Modules/.svn/text-base/per_base_gc_content.png.svn-base  \n",
      "  inflating: FastQC/Help/3 Analysis Modules/.svn/text-base/per_base_n_content.png.svn-base  \n",
      "  inflating: FastQC/Help/3 Analysis Modules/.svn/text-base/per_base_quality.png.svn-base  \n",
      "  inflating: FastQC/Help/3 Analysis Modules/.svn/text-base/per_base_sequence_content.png.svn-base  \n",
      "  inflating: FastQC/Help/3 Analysis Modules/.svn/text-base/per_sequence_gc_content.png.svn-base  \n",
      "  inflating: FastQC/Help/3 Analysis Modules/.svn/text-base/per_sequence_quality.png.svn-base  \n",
      "  inflating: FastQC/Help/3 Analysis Modules/.svn/text-base/per_tile_quality.png.svn-base  \n",
      "  inflating: FastQC/Help/3 Analysis Modules/.svn/text-base/sequence_length_distribution.png.svn-base  \n",
      "   creating: FastQC/Help/3 Analysis Modules/.svn/tmp/\n",
      "   creating: FastQC/Help/3 Analysis Modules/.svn/tmp/props/\n",
      "  inflating: FastQC/Help/3 Analysis Modules/1 Basic Statistics.html  \n",
      "  inflating: FastQC/Help/3 Analysis Modules/10 Adapter Content.html  \n",
      "  inflating: FastQC/Help/3 Analysis Modules/11 Kmer Content.html  \n",
      "  inflating: FastQC/Help/3 Analysis Modules/12 Per Tile Sequence Quality.html  \n",
      "  inflating: FastQC/Help/3 Analysis Modules/2 Per Base Sequence Quality.html  \n",
      "  inflating: FastQC/Help/3 Analysis Modules/3 Per Sequence Quality Scores.html  \n",
      "  inflating: FastQC/Help/3 Analysis Modules/4 Per Base Sequence Content.html  \n",
      "  inflating: FastQC/Help/3 Analysis Modules/5 Per Sequence GC Content.html  \n",
      "  inflating: FastQC/Help/3 Analysis Modules/6 Per Base N Content.html  \n",
      "  inflating: FastQC/Help/3 Analysis Modules/7 Sequence Length Distribution.html  \n",
      "  inflating: FastQC/Help/3 Analysis Modules/8 Duplicate Sequences.html  \n",
      "  inflating: FastQC/Help/3 Analysis Modules/9 Overrepresented Sequences.html  \n",
      "  inflating: FastQC/Help/3 Analysis Modules/duplication_levels.png  \n",
      "  inflating: FastQC/Help/3 Analysis Modules/kmer_profiles.png  \n",
      "  inflating: FastQC/Help/3 Analysis Modules/per_base_gc_content.png  \n",
      "  inflating: FastQC/Help/3 Analysis Modules/per_base_n_content.png  \n",
      "  inflating: FastQC/Help/3 Analysis Modules/per_base_quality.png  \n",
      "  inflating: FastQC/Help/3 Analysis Modules/per_base_sequence_content.png  \n",
      "  inflating: FastQC/Help/3 Analysis Modules/per_sequence_gc_content.png  \n",
      "  inflating: FastQC/Help/3 Analysis Modules/per_sequence_quality.png  \n",
      "  inflating: FastQC/Help/3 Analysis Modules/per_tile_quality.png  \n",
      "  inflating: FastQC/Help/3 Analysis Modules/sequence_length_distribution.png  \n",
      "  inflating: FastQC/INSTALL.txt      \n",
      "  inflating: FastQC/jbzip2-0.9.jar   \n",
      "  inflating: FastQC/LICENSE          \n",
      "  inflating: FastQC/LICENSE.txt      \n",
      "  inflating: FastQC/LICENSE_JHDF5.txt  \n",
      "   creating: FastQC/net/\n",
      "   creating: FastQC/net/sourceforge/\n",
      "   creating: FastQC/net/sourceforge/iharder/\n",
      "   creating: FastQC/net/sourceforge/iharder/base64/\n",
      "  inflating: FastQC/net/sourceforge/iharder/base64/Base64$1.class  \n",
      "  inflating: FastQC/net/sourceforge/iharder/base64/Base64$InputStream.class  \n",
      "  inflating: FastQC/net/sourceforge/iharder/base64/Base64$OutputStream.class  \n",
      "  inflating: FastQC/net/sourceforge/iharder/base64/Base64.class  \n",
      "   creating: FastQC/org/\n",
      "   creating: FastQC/org/apache/\n",
      "   creating: FastQC/org/apache/commons/\n",
      "   creating: FastQC/org/apache/commons/math3/\n",
      "   creating: FastQC/org/apache/commons/math3/analysis/\n",
      "   creating: FastQC/org/apache/commons/math3/analysis/solvers/\n",
      "  inflating: FastQC/org/apache/commons/math3/analysis/solvers/AbstractUnivariateSolver.class  \n",
      "  inflating: FastQC/org/apache/commons/math3/analysis/solvers/AllowedSolution.class  \n",
      "  inflating: FastQC/org/apache/commons/math3/analysis/solvers/BaseAbstractUnivariateSolver.class  \n",
      "  inflating: FastQC/org/apache/commons/math3/analysis/solvers/BaseUnivariateSolver.class  \n",
      "  inflating: FastQC/org/apache/commons/math3/analysis/solvers/BracketedUnivariateSolver.class  \n",
      "  inflating: FastQC/org/apache/commons/math3/analysis/solvers/BrentSolver.class  \n",
      "  inflating: FastQC/org/apache/commons/math3/analysis/solvers/UnivariateSolver.class  \n",
      "  inflating: FastQC/org/apache/commons/math3/analysis/solvers/UnivariateSolverUtils.class  \n",
      "  inflating: FastQC/org/apache/commons/math3/analysis/UnivariateFunction.class  \n",
      "   creating: FastQC/org/apache/commons/math3/distribution/\n",
      "  inflating: FastQC/org/apache/commons/math3/distribution/AbstractIntegerDistribution.class  \n",
      "  inflating: FastQC/org/apache/commons/math3/distribution/AbstractRealDistribution$1.class  \n",
      "  inflating: FastQC/org/apache/commons/math3/distribution/AbstractRealDistribution.class  \n",
      "  inflating: FastQC/org/apache/commons/math3/distribution/BetaDistribution.class  \n",
      "  inflating: FastQC/org/apache/commons/math3/distribution/BinomialDistribution.class  \n",
      "  inflating: FastQC/org/apache/commons/math3/distribution/CauchyDistribution.class  \n",
      "  inflating: FastQC/org/apache/commons/math3/distribution/ChiSquaredDistribution.class  \n",
      "  inflating: FastQC/org/apache/commons/math3/distribution/FDistribution.class  \n",
      "  inflating: FastQC/org/apache/commons/math3/distribution/GammaDistribution.class  \n",
      "  inflating: FastQC/org/apache/commons/math3/distribution/HypergeometricDistribution.class  \n",
      "  inflating: FastQC/org/apache/commons/math3/distribution/IntegerDistribution.class  \n",
      "  inflating: FastQC/org/apache/commons/math3/distribution/NormalDistribution.class  \n",
      "  inflating: FastQC/org/apache/commons/math3/distribution/PascalDistribution.class  \n",
      "  inflating: FastQC/org/apache/commons/math3/distribution/PoissonDistribution.class  \n",
      "  inflating: FastQC/org/apache/commons/math3/distribution/RealDistribution.class  \n",
      "  inflating: FastQC/org/apache/commons/math3/distribution/SaddlePointExpansion.class  \n",
      "  inflating: FastQC/org/apache/commons/math3/distribution/TDistribution.class  \n",
      "  inflating: FastQC/org/apache/commons/math3/distribution/WeibullDistribution.class  \n",
      "  inflating: FastQC/org/apache/commons/math3/distribution/ZipfDistribution.class  \n",
      "   creating: FastQC/org/apache/commons/math3/exception/\n",
      "  inflating: FastQC/org/apache/commons/math3/exception/ConvergenceException.class  \n",
      "  inflating: FastQC/org/apache/commons/math3/exception/DimensionMismatchException.class  \n",
      "  inflating: FastQC/org/apache/commons/math3/exception/MathArithmeticException.class  \n",
      "  inflating: FastQC/org/apache/commons/math3/exception/MathIllegalArgumentException.class  \n",
      "  inflating: FastQC/org/apache/commons/math3/exception/MathIllegalNumberException.class  \n",
      "  inflating: FastQC/org/apache/commons/math3/exception/MathIllegalStateException.class  \n",
      "  inflating: FastQC/org/apache/commons/math3/exception/MathInternalError.class  \n",
      "  inflating: FastQC/org/apache/commons/math3/exception/MaxCountExceededException.class  \n",
      "  inflating: FastQC/org/apache/commons/math3/exception/NoBracketingException.class  \n",
      "  inflating: FastQC/org/apache/commons/math3/exception/NotFiniteNumberException.class  \n",
      "  inflating: FastQC/org/apache/commons/math3/exception/NotPositiveException.class  \n",
      "  inflating: FastQC/org/apache/commons/math3/exception/NotStrictlyPositiveException.class  \n",
      "  inflating: FastQC/org/apache/commons/math3/exception/NullArgumentException.class  \n",
      "  inflating: FastQC/org/apache/commons/math3/exception/NumberIsTooLargeException.class  \n",
      "  inflating: FastQC/org/apache/commons/math3/exception/NumberIsTooSmallException.class  \n",
      "  inflating: FastQC/org/apache/commons/math3/exception/OutOfRangeException.class  \n",
      "  inflating: FastQC/org/apache/commons/math3/exception/TooManyEvaluationsException.class  \n",
      "   creating: FastQC/org/apache/commons/math3/exception/util/\n",
      "  inflating: FastQC/org/apache/commons/math3/exception/util/ArgUtils.class  \n",
      "  inflating: FastQC/org/apache/commons/math3/exception/util/ExceptionContext.class  \n",
      "  inflating: FastQC/org/apache/commons/math3/exception/util/ExceptionContextProvider.class  \n",
      "  inflating: FastQC/org/apache/commons/math3/exception/util/Localizable.class  \n",
      "  inflating: FastQC/org/apache/commons/math3/exception/util/LocalizedFormats.class  \n",
      "   creating: FastQC/org/apache/commons/math3/random/\n",
      "  inflating: FastQC/org/apache/commons/math3/random/AbstractWell.class  \n",
      "  inflating: FastQC/org/apache/commons/math3/random/BitsStreamGenerator.class  \n",
      "  inflating: FastQC/org/apache/commons/math3/random/RandomData.class  \n",
      "  inflating: FastQC/org/apache/commons/math3/random/RandomDataImpl.class  \n",
      "  inflating: FastQC/org/apache/commons/math3/random/RandomGenerator.class  \n",
      "  inflating: FastQC/org/apache/commons/math3/random/Well19937c.class  \n",
      "   creating: FastQC/org/apache/commons/math3/special/\n",
      "  inflating: FastQC/org/apache/commons/math3/special/Beta$1.class  \n",
      "  inflating: FastQC/org/apache/commons/math3/special/Beta.class  \n",
      "  inflating: FastQC/org/apache/commons/math3/special/Erf.class  \n",
      "  inflating: FastQC/org/apache/commons/math3/special/Gamma$1.class  \n",
      "  inflating: FastQC/org/apache/commons/math3/special/Gamma.class  \n",
      "   creating: FastQC/org/apache/commons/math3/util/\n",
      "  inflating: FastQC/org/apache/commons/math3/util/ArithmeticUtils.class  \n",
      "  inflating: FastQC/org/apache/commons/math3/util/ContinuedFraction.class  \n",
      "  inflating: FastQC/org/apache/commons/math3/util/DoubleArray.class  \n",
      "  inflating: FastQC/org/apache/commons/math3/util/FastMath$ExpFracTable.class  \n",
      "  inflating: FastQC/org/apache/commons/math3/util/FastMath$ExpIntTable.class  \n",
      "  inflating: FastQC/org/apache/commons/math3/util/FastMath$lnMant.class  \n",
      "  inflating: FastQC/org/apache/commons/math3/util/FastMath.class  \n",
      "  inflating: FastQC/org/apache/commons/math3/util/FastMathCalc.class  \n",
      "  inflating: FastQC/org/apache/commons/math3/util/FastMathLiteralArrays.class  \n",
      "  inflating: FastQC/org/apache/commons/math3/util/Incrementor$1.class  \n",
      "  inflating: FastQC/org/apache/commons/math3/util/Incrementor$MaxCountExceededCallback.class  \n",
      "  inflating: FastQC/org/apache/commons/math3/util/Incrementor.class  \n",
      "  inflating: FastQC/org/apache/commons/math3/util/MathUtils.class  \n",
      "  inflating: FastQC/org/apache/commons/math3/util/Precision.class  \n",
      "  inflating: FastQC/org/apache/commons/math3/util/ResizableDoubleArray.class  \n",
      "  inflating: FastQC/README.md        \n",
      "  inflating: FastQC/README.txt       \n",
      "  inflating: FastQC/RELEASE_NOTES.txt  \n",
      "  inflating: FastQC/run_fastqc.bat   \n",
      "  inflating: FastQC/sam-1.103.jar    \n",
      "   creating: FastQC/Templates/\n",
      "  inflating: FastQC/Templates/fastqc2fo.xsl  \n",
      "  inflating: FastQC/Templates/header_template.html  \n",
      "   creating: FastQC/Templates/Icons/\n",
      " extracting: FastQC/Templates/Icons/error.png  \n",
      " extracting: FastQC/Templates/Icons/fastqc_icon.png  \n",
      " extracting: FastQC/Templates/Icons/tick.png  \n",
      " extracting: FastQC/Templates/Icons/warning.png  \n",
      "   creating: FastQC/uk/\n",
      "   creating: FastQC/uk/ac/\n",
      "   creating: FastQC/uk/ac/babraham/\n",
      "   creating: FastQC/uk/ac/babraham/FastQC/\n",
      "   creating: FastQC/uk/ac/babraham/FastQC/Analysis/\n",
      "  inflating: FastQC/uk/ac/babraham/FastQC/Analysis/AnalysisListener.class  \n",
      "  inflating: FastQC/uk/ac/babraham/FastQC/Analysis/AnalysisQueue.class  \n",
      "  inflating: FastQC/uk/ac/babraham/FastQC/Analysis/AnalysisRunner.class  \n",
      "  inflating: FastQC/uk/ac/babraham/FastQC/Analysis/OfflineRunner.class  \n",
      "   creating: FastQC/uk/ac/babraham/FastQC/Dialogs/\n",
      "  inflating: FastQC/uk/ac/babraham/FastQC/Dialogs/AboutDialog$1.class  \n",
      "  inflating: FastQC/uk/ac/babraham/FastQC/Dialogs/AboutDialog.class  \n",
      "  inflating: FastQC/uk/ac/babraham/FastQC/Dialogs/FastQCTitlePanel$SmoothJLabel.class  \n",
      "  inflating: FastQC/uk/ac/babraham/FastQC/Dialogs/FastQCTitlePanel.class  \n",
      "  inflating: FastQC/uk/ac/babraham/FastQC/Dialogs/WelcomePanel.class  \n",
      "  inflating: FastQC/uk/ac/babraham/FastQC/FastQCApplication$1.class  \n",
      "  inflating: FastQC/uk/ac/babraham/FastQC/FastQCApplication.class  \n",
      "  inflating: FastQC/uk/ac/babraham/FastQC/FastQCConfig.class  \n",
      "  inflating: FastQC/uk/ac/babraham/FastQC/FastQCMenuBar.class  \n",
      "   creating: FastQC/uk/ac/babraham/FastQC/FileFilters/\n",
      "  inflating: FastQC/uk/ac/babraham/FastQC/FileFilters/BAMFileFilter.class  \n",
      "  inflating: FastQC/uk/ac/babraham/FastQC/FileFilters/CasavaFastQFileFilter.class  \n",
      "  inflating: FastQC/uk/ac/babraham/FastQC/FileFilters/FastQFileFilter.class  \n",
      "  inflating: FastQC/uk/ac/babraham/FastQC/FileFilters/GobyFileFilter.class  \n",
      "  inflating: FastQC/uk/ac/babraham/FastQC/FileFilters/MappedBAMFileFilter.class  \n",
      "  inflating: FastQC/uk/ac/babraham/FastQC/FileFilters/SequenceFileFilter.class  \n",
      "   creating: FastQC/uk/ac/babraham/FastQC/Graphs/\n",
      "  inflating: FastQC/uk/ac/babraham/FastQC/Graphs/BaseGroup.class  \n",
      "  inflating: FastQC/uk/ac/babraham/FastQC/Graphs/LineGraph.class  \n",
      "  inflating: FastQC/uk/ac/babraham/FastQC/Graphs/QualityBoxPlot.class  \n",
      "  inflating: FastQC/uk/ac/babraham/FastQC/Graphs/TileGraph.class  \n",
      "   creating: FastQC/uk/ac/babraham/FastQC/Help/\n",
      "  inflating: FastQC/uk/ac/babraham/FastQC/Help/HelpDialog.class  \n",
      "  inflating: FastQC/uk/ac/babraham/FastQC/Help/HelpIndexRoot$FileSorter.class  \n",
      "  inflating: FastQC/uk/ac/babraham/FastQC/Help/HelpIndexRoot.class  \n",
      "  inflating: FastQC/uk/ac/babraham/FastQC/Help/HelpPage.class  \n",
      "  inflating: FastQC/uk/ac/babraham/FastQC/Help/HelpPageDisplay$HelpEditor.class  \n",
      "  inflating: FastQC/uk/ac/babraham/FastQC/Help/HelpPageDisplay.class  \n",
      "  inflating: FastQC/uk/ac/babraham/FastQC/Help/HelpSearchPanel.class  \n",
      "   creating: FastQC/uk/ac/babraham/FastQC/Modules/\n",
      "  inflating: FastQC/uk/ac/babraham/FastQC/Modules/AbstractQCModule.class  \n",
      "  inflating: FastQC/uk/ac/babraham/FastQC/Modules/AdapterContent$Adapter.class  \n",
      "  inflating: FastQC/uk/ac/babraham/FastQC/Modules/AdapterContent$ResultsTable.class  \n",
      "  inflating: FastQC/uk/ac/babraham/FastQC/Modules/AdapterContent.class  \n",
      "  inflating: FastQC/uk/ac/babraham/FastQC/Modules/BasicStats$ResultsTable.class  \n",
      "  inflating: FastQC/uk/ac/babraham/FastQC/Modules/BasicStats.class  \n",
      "  inflating: FastQC/uk/ac/babraham/FastQC/Modules/DuplicationLevel.class  \n",
      "   creating: FastQC/uk/ac/babraham/FastQC/Modules/GCModel/\n",
      "  inflating: FastQC/uk/ac/babraham/FastQC/Modules/GCModel/GCModel.class  \n",
      "  inflating: FastQC/uk/ac/babraham/FastQC/Modules/GCModel/GCModelValue.class  \n",
      "  inflating: FastQC/uk/ac/babraham/FastQC/Modules/KmerContent$Kmer.class  \n",
      "  inflating: FastQC/uk/ac/babraham/FastQC/Modules/KmerContent$ResultsTable.class  \n",
      "  inflating: FastQC/uk/ac/babraham/FastQC/Modules/KmerContent.class  \n",
      "  inflating: FastQC/uk/ac/babraham/FastQC/Modules/ModuleConfig.class  \n",
      "  inflating: FastQC/uk/ac/babraham/FastQC/Modules/ModuleFactory.class  \n",
      "  inflating: FastQC/uk/ac/babraham/FastQC/Modules/NContent.class  \n",
      "  inflating: FastQC/uk/ac/babraham/FastQC/Modules/OverRepresentedSeqs$OverrepresentedSeq.class  \n",
      "  inflating: FastQC/uk/ac/babraham/FastQC/Modules/OverRepresentedSeqs$ResultsTable.class  \n",
      "  inflating: FastQC/uk/ac/babraham/FastQC/Modules/OverRepresentedSeqs.class  \n",
      "  inflating: FastQC/uk/ac/babraham/FastQC/Modules/PerBaseQualityScores.class  \n",
      "  inflating: FastQC/uk/ac/babraham/FastQC/Modules/PerBaseSequenceContent.class  \n",
      "  inflating: FastQC/uk/ac/babraham/FastQC/Modules/PerSequenceGCContent.class  \n",
      "  inflating: FastQC/uk/ac/babraham/FastQC/Modules/PerSequenceQualityScores.class  \n",
      "  inflating: FastQC/uk/ac/babraham/FastQC/Modules/PerTileQualityScores.class  \n",
      "  inflating: FastQC/uk/ac/babraham/FastQC/Modules/QCModule.class  \n",
      "  inflating: FastQC/uk/ac/babraham/FastQC/Modules/SequenceLengthDistribution.class  \n",
      "   creating: FastQC/uk/ac/babraham/FastQC/Report/\n",
      "  inflating: FastQC/uk/ac/babraham/FastQC/Report/HTMLReportArchive.class  \n",
      "  inflating: FastQC/uk/ac/babraham/FastQC/Report/stylesheet.txt  \n",
      "   creating: FastQC/uk/ac/babraham/FastQC/Resources/\n",
      " extracting: FastQC/uk/ac/babraham/FastQC/Resources/error.png  \n",
      " extracting: FastQC/uk/ac/babraham/FastQC/Resources/fastqc_icon.png  \n",
      "  inflating: FastQC/uk/ac/babraham/FastQC/Resources/fastqc_icon.svg  \n",
      " extracting: FastQC/uk/ac/babraham/FastQC/Resources/fastqc_icon_100.png  \n",
      " extracting: FastQC/uk/ac/babraham/FastQC/Resources/tick.png  \n",
      " extracting: FastQC/uk/ac/babraham/FastQC/Resources/warning.png  \n",
      "   creating: FastQC/uk/ac/babraham/FastQC/Results/\n",
      "  inflating: FastQC/uk/ac/babraham/FastQC/Results/ResultsPanel$ModuleRenderer.class  \n",
      "  inflating: FastQC/uk/ac/babraham/FastQC/Results/ResultsPanel.class  \n",
      "   creating: FastQC/uk/ac/babraham/FastQC/Sequence/\n",
      "  inflating: FastQC/uk/ac/babraham/FastQC/Sequence/BAMFile.class  \n",
      "   creating: FastQC/uk/ac/babraham/FastQC/Sequence/Contaminant/\n",
      "  inflating: FastQC/uk/ac/babraham/FastQC/Sequence/Contaminant/Contaminant.class  \n",
      "  inflating: FastQC/uk/ac/babraham/FastQC/Sequence/Contaminant/ContaminantHit.class  \n",
      "  inflating: FastQC/uk/ac/babraham/FastQC/Sequence/Contaminant/ContaminentFinder.class  \n",
      "  inflating: FastQC/uk/ac/babraham/FastQC/Sequence/Fast5File.class  \n",
      "  inflating: FastQC/uk/ac/babraham/FastQC/Sequence/FastQFile.class  \n",
      "   creating: FastQC/uk/ac/babraham/FastQC/Sequence/QualityEncoding/\n",
      "  inflating: FastQC/uk/ac/babraham/FastQC/Sequence/QualityEncoding/PhredEncoding.class  \n",
      "  inflating: FastQC/uk/ac/babraham/FastQC/Sequence/Sequence.class  \n",
      "  inflating: FastQC/uk/ac/babraham/FastQC/Sequence/SequenceFactory.class  \n",
      "  inflating: FastQC/uk/ac/babraham/FastQC/Sequence/SequenceFile.class  \n",
      "  inflating: FastQC/uk/ac/babraham/FastQC/Sequence/SequenceFileGroup.class  \n",
      "  inflating: FastQC/uk/ac/babraham/FastQC/Sequence/SequenceFormatException.class  \n",
      "   creating: FastQC/uk/ac/babraham/FastQC/Statistics/\n",
      "  inflating: FastQC/uk/ac/babraham/FastQC/Statistics/NormalDistribution.class  \n",
      "  inflating: FastQC/uk/ac/babraham/FastQC/Statistics/PearsonCorrelation.class  \n",
      "   creating: FastQC/uk/ac/babraham/FastQC/Utilities/\n",
      "  inflating: FastQC/uk/ac/babraham/FastQC/Utilities/CasavaBasename.class  \n",
      "  inflating: FastQC/uk/ac/babraham/FastQC/Utilities/HotColdColourGradient.class  \n",
      "  inflating: FastQC/uk/ac/babraham/FastQC/Utilities/ImageToBase64.class  \n",
      "  inflating: FastQC/uk/ac/babraham/FastQC/Utilities/MultiMemberGZIPInputStream.class  \n",
      "  inflating: FastQC/uk/ac/babraham/FastQC/Utilities/NameFormatException.class  \n",
      "  inflating: FastQC/uk/ac/babraham/FastQC/Utilities/NanoporeBasename.class  \n",
      "  inflating: FastQC/uk/ac/babraham/FastQC/Utilities/QualityCount.class  \n",
      "  inflating: FastQC/uk/ac/babraham/FastQC/Utilities/RGB.class  \n"
     ]
    }
   ],
   "source": [
    "!unzip fastqc_v0.11.9.zip"
   ]
  },
  {
   "cell_type": "code",
   "execution_count": 10,
   "metadata": {
    "id": "S79LH0aXbvLx"
   },
   "outputs": [],
   "source": [
    "!chmod a+x FastQC/fastqc"
   ]
  },
  {
   "cell_type": "code",
   "execution_count": 11,
   "metadata": {
    "colab": {
     "base_uri": "https://localhost:8080/"
    },
    "id": "PsLuZDt4b7jT",
    "outputId": "883dd371-2c58-4c08-bc03-068c79d0879a"
   },
   "outputs": [
    {
     "name": "stdout",
     "output_type": "stream",
     "text": [
      "\n",
      "            FastQC - A high throughput sequence QC analysis tool\n",
      "\n",
      "SYNOPSIS\n",
      "\n",
      "\tfastqc seqfile1 seqfile2 .. seqfileN\n",
      "\n",
      "    fastqc [-o output dir] [--(no)extract] [-f fastq|bam|sam] \n",
      "           [-c contaminant file] seqfile1 .. seqfileN\n",
      "\n",
      "DESCRIPTION\n",
      "\n",
      "    FastQC reads a set of sequence files and produces from each one a quality\n",
      "    control report consisting of a number of different modules, each one of \n",
      "    which will help to identify a different potential type of problem in your\n",
      "    data.\n",
      "    \n",
      "    If no files to process are specified on the command line then the program\n",
      "    will start as an interactive graphical application.  If files are provided\n",
      "    on the command line then the program will run with no user interaction\n",
      "    required.  In this mode it is suitable for inclusion into a standardised\n",
      "    analysis pipeline.\n",
      "    \n",
      "    The options for the program as as follows:\n",
      "    \n",
      "    -h --help       Print this help file and exit\n",
      "    \n",
      "    -v --version    Print the version of the program and exit\n",
      "    \n",
      "    -o --outdir     Create all output files in the specified output directory.\n",
      "                    Please note that this directory must exist as the program\n",
      "                    will not create it.  If this option is not set then the \n",
      "                    output file for each sequence file is created in the same\n",
      "                    directory as the sequence file which was processed.\n",
      "                    \n",
      "    --casava        Files come from raw casava output. Files in the same sample\n",
      "                    group (differing only by the group number) will be analysed\n",
      "                    as a set rather than individually. Sequences with the filter\n",
      "                    flag set in the header will be excluded from the analysis.\n",
      "                    Files must have the same names given to them by casava\n",
      "                    (including being gzipped and ending with .gz) otherwise they\n",
      "                    won't be grouped together correctly.\n",
      "                    \n",
      "    --nano          Files come from nanopore sequences and are in fast5 format. In\n",
      "                    this mode you can pass in directories to process and the program\n",
      "                    will take in all fast5 files within those directories and produce\n",
      "                    a single output file from the sequences found in all files.                    \n",
      "                    \n",
      "    --nofilter      If running with --casava then don't remove read flagged by\n",
      "                    casava as poor quality when performing the QC analysis.\n",
      "                   \n",
      "    --extract       If set then the zipped output file will be uncompressed in\n",
      "                    the same directory after it has been created.  By default\n",
      "                    this option will be set if fastqc is run in non-interactive\n",
      "                    mode.\n",
      "                    \n",
      "    -j --java       Provides the full path to the java binary you want to use to\n",
      "                    launch fastqc. If not supplied then java is assumed to be in\n",
      "                    your path.\n",
      "                   \n",
      "    --noextract     Do not uncompress the output file after creating it.  You\n",
      "                    should set this option if you do not wish to uncompress\n",
      "                    the output when running in non-interactive mode.\n",
      "                    \n",
      "    --nogroup       Disable grouping of bases for reads >50bp. All reports will\n",
      "                    show data for every base in the read.  WARNING: Using this\n",
      "                    option will cause fastqc to crash and burn if you use it on\n",
      "                    really long reads, and your plots may end up a ridiculous size.\n",
      "                    You have been warned!\n",
      "                    \n",
      "    --min_length    Sets an artificial lower limit on the length of the sequence\n",
      "                    to be shown in the report.  As long as you set this to a value\n",
      "                    greater or equal to your longest read length then this will be\n",
      "                    the sequence length used to create your read groups.  This can\n",
      "                    be useful for making directly comaparable statistics from \n",
      "                    datasets with somewhat variable read lengths.\n",
      "                    \n",
      "    -f --format     Bypasses the normal sequence file format detection and\n",
      "                    forces the program to use the specified format.  Valid\n",
      "                    formats are bam,sam,bam_mapped,sam_mapped and fastq\n",
      "                    \n",
      "    -t --threads    Specifies the number of files which can be processed\n",
      "                    simultaneously.  Each thread will be allocated 250MB of\n",
      "                    memory so you shouldn't run more threads than your\n",
      "                    available memory will cope with, and not more than\n",
      "                    6 threads on a 32 bit machine\n",
      "                  \n",
      "    -c              Specifies a non-default file which contains the list of\n",
      "    --contaminants  contaminants to screen overrepresented sequences against.\n",
      "                    The file must contain sets of named contaminants in the\n",
      "                    form name[tab]sequence.  Lines prefixed with a hash will\n",
      "                    be ignored.\n",
      "\n",
      "    -a              Specifies a non-default file which contains the list of\n",
      "    --adapters      adapter sequences which will be explicity searched against\n",
      "                    the library. The file must contain sets of named adapters\n",
      "                    in the form name[tab]sequence.  Lines prefixed with a hash\n",
      "                    will be ignored.\n",
      "                    \n",
      "    -l              Specifies a non-default file which contains a set of criteria\n",
      "    --limits        which will be used to determine the warn/error limits for the\n",
      "                    various modules.  This file can also be used to selectively \n",
      "                    remove some modules from the output all together.  The format\n",
      "                    needs to mirror the default limits.txt file found in the\n",
      "                    Configuration folder.\n",
      "                    \n",
      "   -k --kmers       Specifies the length of Kmer to look for in the Kmer content\n",
      "                    module. Specified Kmer length must be between 2 and 10. Default\n",
      "                    length is 7 if not specified.\n",
      "                    \n",
      "   -q --quiet       Supress all progress messages on stdout and only report errors.\n",
      "   \n",
      "   -d --dir         Selects a directory to be used for temporary files written when\n",
      "                    generating report images. Defaults to system temp directory if\n",
      "                    not specified.\n",
      "                    \n",
      "BUGS\n",
      "\n",
      "    Any bugs in fastqc should be reported either to simon.andrews@babraham.ac.uk\n",
      "    or in www.bioinformatics.babraham.ac.uk/bugzilla/\n",
      "                   \n",
      "    \n"
     ]
    }
   ],
   "source": [
    "!./FastQC/fastqc --help"
   ]
  },
  {
   "cell_type": "markdown",
   "metadata": {
    "id": "3dqWpZZ_0_V-"
   },
   "source": [
    "## Install HTSeq-count"
   ]
  },
  {
   "cell_type": "code",
   "execution_count": 12,
   "metadata": {
    "colab": {
     "base_uri": "https://localhost:8080/"
    },
    "id": "1_yqggdMhMfj",
    "outputId": "eb4a15c2-2367-4bba-f653-4820c9de5149"
   },
   "outputs": [
    {
     "name": "stdout",
     "output_type": "stream",
     "text": [
      "Collecting HTSeq\n",
      "  Downloading HTSeq-2.0.9-cp310-cp310-manylinux_2_24_x86_64.manylinux_2_28_x86_64.whl.metadata (3.8 kB)\n",
      "Requirement already satisfied: numpy in /usr/local/lib/python3.10/dist-packages (from HTSeq) (1.26.4)\n",
      "Collecting pysam (from HTSeq)\n",
      "  Downloading pysam-0.22.1-cp310-cp310-manylinux_2_28_x86_64.whl.metadata (1.5 kB)\n",
      "Downloading HTSeq-2.0.9-cp310-cp310-manylinux_2_24_x86_64.manylinux_2_28_x86_64.whl (2.0 MB)\n",
      "\u001b[2K   \u001b[90m━━━━━━━━━━━━━━━━━━━━━━━━━━━━━━━━━━━━━━━━\u001b[0m \u001b[32m2.0/2.0 MB\u001b[0m \u001b[31m18.0 MB/s\u001b[0m eta \u001b[36m0:00:00\u001b[0m\n",
      "\u001b[?25hDownloading pysam-0.22.1-cp310-cp310-manylinux_2_28_x86_64.whl (22.0 MB)\n",
      "\u001b[2K   \u001b[90m━━━━━━━━━━━━━━━━━━━━━━━━━━━━━━━━━━━━━━━━\u001b[0m \u001b[32m22.0/22.0 MB\u001b[0m \u001b[31m47.9 MB/s\u001b[0m eta \u001b[36m0:00:00\u001b[0m\n",
      "\u001b[?25hInstalling collected packages: pysam, HTSeq\n",
      "Successfully installed HTSeq-2.0.9 pysam-0.22.1\n"
     ]
    }
   ],
   "source": [
    "!pip install HTSeq"
   ]
  },
  {
   "cell_type": "code",
   "execution_count": 13,
   "metadata": {
    "colab": {
     "base_uri": "https://localhost:8080/"
    },
    "id": "L7W0Ep2nhT_d",
    "outputId": "47d1ab20-22fa-471f-9fff-2b9d6274a2ed"
   },
   "outputs": [
    {
     "name": "stdout",
     "output_type": "stream",
     "text": [
      "2.0.9\n"
     ]
    }
   ],
   "source": [
    "!htseq-count --version"
   ]
  },
  {
   "cell_type": "markdown",
   "metadata": {
    "id": "I6MhDf5N2tQ3"
   },
   "source": [
    "## Download RNA-seq data"
   ]
  },
  {
   "cell_type": "markdown",
   "metadata": {
    "id": "LicIlxo028wE"
   },
   "source": [
    "* Reprogrammed samples: \tSRR3414629, SRR3414630, SRR3414631\n",
    "* Control samples:\t\tSRR3414635, SRR3414636, SRR3414637\n",
    "\n"
   ]
  },
  {
   "cell_type": "code",
   "execution_count": 12,
   "metadata": {
    "colab": {
     "base_uri": "https://localhost:8080/"
    },
    "id": "c7-OCZli2z38",
    "outputId": "3e311042-a1df-4de2-a9da-7fa077ffa68a"
   },
   "outputs": [
    {
     "name": "stdout",
     "output_type": "stream",
     "text": [
      "Read 20307147 spots for SRR3414636\n",
      "Written 20307147 spots for SRR3414636\n",
      "\n",
      "real\t5m6.397s\n",
      "user\t3m48.074s\n",
      "sys\t0m11.066s\n"
     ]
    }
   ],
   "source": [
    "!time  fastq-dump  --split-files  SRR3414636"
   ]
  },
  {
   "cell_type": "code",
   "execution_count": 29,
   "metadata": {
    "colab": {
     "base_uri": "https://localhost:8080/"
    },
    "id": "PktGVnryzQeF",
    "outputId": "4dab683f-8d37-4197-cd7f-a45cc83c04c1"
   },
   "outputs": [
    {
     "name": "stdout",
     "output_type": "stream",
     "text": [
      "Read 20956475 spots for SRR3414635\n",
      "Written 20956475 spots for SRR3414635\n",
      "\n",
      "real\t6m33.031s\n",
      "user\t4m35.361s\n",
      "sys\t0m15.939s\n"
     ]
    }
   ],
   "source": [
    "!time  fastq-dump  --split-files  SRR3414635"
   ]
  },
  {
   "cell_type": "code",
   "execution_count": 39,
   "metadata": {
    "colab": {
     "base_uri": "https://localhost:8080/"
    },
    "id": "sCaX7dRvzX59",
    "outputId": "763603b4-bff6-4e26-b23e-b3faa8008ed2"
   },
   "outputs": [
    {
     "name": "stdout",
     "output_type": "stream",
     "text": [
      "Read 20385570 spots for SRR3414637\n",
      "Written 20385570 spots for SRR3414637\n",
      "\n",
      "real\t5m37.614s\n",
      "user\t3m50.422s\n",
      "sys\t0m15.004s\n"
     ]
    }
   ],
   "source": [
    "!time fastq-dump --split-files SRR3414637"
   ]
  },
  {
   "cell_type": "code",
   "execution_count": 14,
   "metadata": {
    "colab": {
     "base_uri": "https://localhost:8080/"
    },
    "id": "eHjDZNp7zhck",
    "outputId": "5e92aaef-57cb-4152-9f07-166819f0ea5e"
   },
   "outputs": [
    {
     "name": "stdout",
     "output_type": "stream",
     "text": [
      "Read 21106089 spots for SRR3414629\n",
      "Written 21106089 spots for SRR3414629\n",
      "\n",
      "real\t5m58.094s\n",
      "user\t4m7.410s\n",
      "sys\t0m16.328s\n"
     ]
    }
   ],
   "source": [
    "!time fastq-dump --split-files SRR3414629"
   ]
  },
  {
   "cell_type": "code",
   "execution_count": 40,
   "metadata": {
    "colab": {
     "base_uri": "https://localhost:8080/"
    },
    "id": "buqqH5Nfzqtp",
    "outputId": "8de43580-4170-448f-fcbb-b2408774129c"
   },
   "outputs": [
    {
     "name": "stdout",
     "output_type": "stream",
     "text": [
      "Read 15244711 spots for SRR3414630\n",
      "Written 15244711 spots for SRR3414630\n",
      "\n",
      "real\t4m8.114s\n",
      "user\t2m49.124s\n",
      "sys\t0m10.910s\n"
     ]
    }
   ],
   "source": [
    "!time fastq-dump --split-files SRR3414630"
   ]
  },
  {
   "cell_type": "code",
   "execution_count": 41,
   "metadata": {
    "colab": {
     "base_uri": "https://localhost:8080/"
    },
    "id": "ghU0i947zu4w",
    "outputId": "e8c19d9b-2e81-4949-e4fb-9701d3040608"
   },
   "outputs": [
    {
     "name": "stdout",
     "output_type": "stream",
     "text": [
      "Read 24244069 spots for SRR3414631\n",
      "Written 24244069 spots for SRR3414631\n",
      "\n",
      "real\t6m43.521s\n",
      "user\t4m32.741s\n",
      "sys\t0m17.867s\n"
     ]
    }
   ],
   "source": [
    "!time fastq-dump --split-files SRR3414631"
   ]
  },
  {
   "cell_type": "markdown",
   "metadata": {
    "id": "HAn1rivS0BME"
   },
   "source": [
    "## Download mouse genome mm10 (indexed for HISAT2)"
   ]
  },
  {
   "cell_type": "code",
   "execution_count": 15,
   "metadata": {
    "colab": {
     "base_uri": "https://localhost:8080/"
    },
    "id": "wWfSQMGZ03Ch",
    "outputId": "1b380c7c-d05d-45a3-c5e3-8377690e6df7"
   },
   "outputs": [
    {
     "name": "stdout",
     "output_type": "stream",
     "text": [
      "--2024-11-16 06:45:42--  https://genome-idx.s3.amazonaws.com/hisat/mm10_genome.tar.gz\n",
      "Resolving genome-idx.s3.amazonaws.com (genome-idx.s3.amazonaws.com)... 54.231.129.177, 3.5.17.171, 54.231.164.65, ...\n",
      "Connecting to genome-idx.s3.amazonaws.com (genome-idx.s3.amazonaws.com)|54.231.129.177|:443... connected.\n",
      "HTTP request sent, awaiting response... 200 OK\n",
      "Length: 3804366597 (3.5G) [binary/octet-stream]\n",
      "Saving to: ‘mm10_genome.tar.gz’\n",
      "\n",
      "mm10_genome.tar.gz  100%[===================>]   3.54G  23.1MB/s    in 2m 33s  \n",
      "\n",
      "2024-11-16 06:48:15 (23.7 MB/s) - ‘mm10_genome.tar.gz’ saved [3804366597/3804366597]\n",
      "\n"
     ]
    }
   ],
   "source": [
    "!wget https://genome-idx.s3.amazonaws.com/hisat/mm10_genome.tar.gz"
   ]
  },
  {
   "cell_type": "code",
   "execution_count": 17,
   "metadata": {
    "colab": {
     "base_uri": "https://localhost:8080/"
    },
    "id": "9IKaXKp7eLjq",
    "outputId": "cbd184cf-24c1-42ca-8d3c-e21cb8dc9104"
   },
   "outputs": [
    {
     "name": "stdout",
     "output_type": "stream",
     "text": [
      "mm10/\n",
      "mm10/genome.8.ht2\n",
      "mm10/genome.5.ht2\n",
      "mm10/make_mm10.sh\n",
      "mm10/genome.7.ht2\n",
      "mm10/genome.6.ht2\n",
      "mm10/genome.4.ht2\n",
      "mm10/genome.3.ht2\n",
      "mm10/genome.1.ht2\n",
      "mm10/genome.2.ht2\n"
     ]
    }
   ],
   "source": [
    "!tar -xzvf mm10_genome.tar.gz"
   ]
  },
  {
   "cell_type": "markdown",
   "metadata": {
    "id": "sGULD5P70tvT"
   },
   "source": [
    "## Download GENCODE genome annotation for mouse genome mm10"
   ]
  },
  {
   "cell_type": "code",
   "execution_count": 16,
   "metadata": {
    "colab": {
     "base_uri": "https://localhost:8080/"
    },
    "id": "P8SxMZMC3Aw-",
    "outputId": "e6103ab4-0700-444e-a21f-a6b1999b7760"
   },
   "outputs": [
    {
     "name": "stdout",
     "output_type": "stream",
     "text": [
      "--2024-11-16 06:48:16--  http://ftp.ebi.ac.uk/pub/databases/gencode/Gencode_mouse/release_M25/gencode.vM25.annotation.gtf.gz\n",
      "Resolving ftp.ebi.ac.uk (ftp.ebi.ac.uk)... 193.62.193.165\n",
      "Connecting to ftp.ebi.ac.uk (ftp.ebi.ac.uk)|193.62.193.165|:80... connected.\n",
      "HTTP request sent, awaiting response... 200 OK\n",
      "Length: 28542432 (27M) [application/x-gzip]\n",
      "Saving to: ‘gencode.vM25.annotation.gtf.gz’\n",
      "\n",
      "gencode.vM25.annota 100%[===================>]  27.22M  20.7MB/s    in 1.3s    \n",
      "\n",
      "2024-11-16 06:48:17 (20.7 MB/s) - ‘gencode.vM25.annotation.gtf.gz’ saved [28542432/28542432]\n",
      "\n"
     ]
    }
   ],
   "source": [
    "!wget http://ftp.ebi.ac.uk/pub/databases/gencode/Gencode_mouse/release_M25/gencode.vM25.annotation.gtf.gz"
   ]
  },
  {
   "cell_type": "code",
   "execution_count": 18,
   "metadata": {
    "id": "K9RerBtX8iFF"
   },
   "outputs": [],
   "source": [
    "!gzip -d gencode.vM25.annotation.gtf.gz"
   ]
  },
  {
   "cell_type": "markdown",
   "metadata": {
    "id": "zzucvMQkzzs9"
   },
   "source": [
    "# Read alignment"
   ]
  },
  {
   "cell_type": "markdown",
   "metadata": {
    "id": "TRBfl7NL3xgN"
   },
   "source": [
    "* Quality control with FastQC (optionally we can use MultiQC here)\n"
   ]
  },
  {
   "cell_type": "code",
   "execution_count": 22,
   "metadata": {
    "colab": {
     "base_uri": "https://localhost:8080/"
    },
    "id": "ABkz3YC8cjhD",
    "outputId": "c32b4d3c-45fc-429d-ac8b-63febd93dea1"
   },
   "outputs": [
    {
     "name": "stdout",
     "output_type": "stream",
     "text": [
      "Started analysis of SRR3414636_1.fastq\n",
      "Approx 5% complete for SRR3414636_1.fastq\n",
      "Approx 10% complete for SRR3414636_1.fastq\n",
      "Approx 15% complete for SRR3414636_1.fastq\n",
      "Approx 20% complete for SRR3414636_1.fastq\n",
      "Approx 25% complete for SRR3414636_1.fastq\n",
      "Approx 30% complete for SRR3414636_1.fastq\n",
      "Approx 35% complete for SRR3414636_1.fastq\n",
      "Approx 40% complete for SRR3414636_1.fastq\n",
      "Approx 45% complete for SRR3414636_1.fastq\n",
      "Approx 50% complete for SRR3414636_1.fastq\n",
      "Approx 55% complete for SRR3414636_1.fastq\n",
      "Approx 60% complete for SRR3414636_1.fastq\n",
      "Approx 65% complete for SRR3414636_1.fastq\n",
      "Approx 70% complete for SRR3414636_1.fastq\n",
      "Approx 75% complete for SRR3414636_1.fastq\n",
      "Approx 80% complete for SRR3414636_1.fastq\n",
      "Approx 85% complete for SRR3414636_1.fastq\n",
      "Approx 90% complete for SRR3414636_1.fastq\n",
      "Approx 95% complete for SRR3414636_1.fastq\n",
      "Analysis complete for SRR3414636_1.fastq\n"
     ]
    }
   ],
   "source": [
    "!./FastQC/fastqc  /content/SRR3414636_1.fastq"
   ]
  },
  {
   "cell_type": "code",
   "execution_count": 19,
   "metadata": {
    "colab": {
     "base_uri": "https://localhost:8080/"
    },
    "id": "a_CMm9LvId2F",
    "outputId": "24f05c4b-ed6e-466b-be3b-fa151540ee9a"
   },
   "outputs": [
    {
     "name": "stdout",
     "output_type": "stream",
     "text": [
      "Started analysis of SRR3414629_1.fastq\n",
      "Approx 5% complete for SRR3414629_1.fastq\n",
      "Approx 10% complete for SRR3414629_1.fastq\n",
      "Approx 15% complete for SRR3414629_1.fastq\n",
      "Approx 20% complete for SRR3414629_1.fastq\n",
      "Approx 25% complete for SRR3414629_1.fastq\n",
      "Approx 30% complete for SRR3414629_1.fastq\n",
      "Approx 35% complete for SRR3414629_1.fastq\n",
      "Approx 40% complete for SRR3414629_1.fastq\n",
      "Approx 45% complete for SRR3414629_1.fastq\n",
      "Approx 50% complete for SRR3414629_1.fastq\n",
      "Approx 55% complete for SRR3414629_1.fastq\n",
      "Approx 60% complete for SRR3414629_1.fastq\n",
      "Approx 65% complete for SRR3414629_1.fastq\n",
      "Approx 70% complete for SRR3414629_1.fastq\n",
      "Approx 75% complete for SRR3414629_1.fastq\n",
      "Approx 80% complete for SRR3414629_1.fastq\n",
      "Approx 85% complete for SRR3414629_1.fastq\n",
      "Approx 90% complete for SRR3414629_1.fastq\n",
      "Approx 95% complete for SRR3414629_1.fastq\n",
      "Analysis complete for SRR3414629_1.fastq\n"
     ]
    }
   ],
   "source": [
    "!./FastQC/fastqc  /content/SRR3414629_1.fastq\n"
   ]
  },
  {
   "cell_type": "code",
   "execution_count": 30,
   "metadata": {
    "colab": {
     "base_uri": "https://localhost:8080/"
    },
    "id": "bw6NrwRL7f0A",
    "outputId": "cf4f1b54-a8b5-450e-e133-07bf397a0855"
   },
   "outputs": [
    {
     "name": "stdout",
     "output_type": "stream",
     "text": [
      "Started analysis of SRR3414635_1.fastq\n",
      "Approx 5% complete for SRR3414635_1.fastq\n",
      "Approx 10% complete for SRR3414635_1.fastq\n",
      "Approx 15% complete for SRR3414635_1.fastq\n",
      "Approx 20% complete for SRR3414635_1.fastq\n",
      "Approx 25% complete for SRR3414635_1.fastq\n",
      "Approx 30% complete for SRR3414635_1.fastq\n",
      "Approx 35% complete for SRR3414635_1.fastq\n",
      "Approx 40% complete for SRR3414635_1.fastq\n",
      "Approx 45% complete for SRR3414635_1.fastq\n",
      "Approx 50% complete for SRR3414635_1.fastq\n",
      "Approx 55% complete for SRR3414635_1.fastq\n",
      "Approx 60% complete for SRR3414635_1.fastq\n",
      "Approx 65% complete for SRR3414635_1.fastq\n",
      "Approx 70% complete for SRR3414635_1.fastq\n",
      "Approx 75% complete for SRR3414635_1.fastq\n",
      "Approx 80% complete for SRR3414635_1.fastq\n",
      "Approx 85% complete for SRR3414635_1.fastq\n",
      "Approx 90% complete for SRR3414635_1.fastq\n",
      "Approx 95% complete for SRR3414635_1.fastq\n",
      "Analysis complete for SRR3414635_1.fastq\n"
     ]
    }
   ],
   "source": [
    "!./FastQC/fastqc  /content/SRR3414635_1.fastq\n"
   ]
  },
  {
   "cell_type": "code",
   "execution_count": 42,
   "metadata": {
    "colab": {
     "base_uri": "https://localhost:8080/"
    },
    "id": "inhrFE5FOCdi",
    "outputId": "0a30218a-f593-4d03-e387-f8e7ac63b14f"
   },
   "outputs": [
    {
     "name": "stdout",
     "output_type": "stream",
     "text": [
      "Started analysis of SRR3414637_1.fastq\n",
      "Approx 5% complete for SRR3414637_1.fastq\n",
      "Approx 10% complete for SRR3414637_1.fastq\n",
      "Approx 15% complete for SRR3414637_1.fastq\n",
      "Approx 20% complete for SRR3414637_1.fastq\n",
      "Approx 25% complete for SRR3414637_1.fastq\n",
      "Approx 30% complete for SRR3414637_1.fastq\n",
      "Approx 35% complete for SRR3414637_1.fastq\n",
      "Approx 40% complete for SRR3414637_1.fastq\n",
      "Approx 45% complete for SRR3414637_1.fastq\n",
      "Approx 50% complete for SRR3414637_1.fastq\n",
      "Approx 55% complete for SRR3414637_1.fastq\n",
      "Approx 60% complete for SRR3414637_1.fastq\n",
      "Approx 65% complete for SRR3414637_1.fastq\n",
      "Approx 70% complete for SRR3414637_1.fastq\n",
      "Approx 75% complete for SRR3414637_1.fastq\n",
      "Approx 80% complete for SRR3414637_1.fastq\n",
      "Approx 85% complete for SRR3414637_1.fastq\n",
      "Approx 90% complete for SRR3414637_1.fastq\n",
      "Approx 95% complete for SRR3414637_1.fastq\n",
      "Analysis complete for SRR3414637_1.fastq\n"
     ]
    }
   ],
   "source": [
    "!./FastQC/fastqc  /content/SRR3414637_1.fastq\n"
   ]
  },
  {
   "cell_type": "code",
   "execution_count": 51,
   "metadata": {
    "colab": {
     "base_uri": "https://localhost:8080/"
    },
    "id": "hRTtxiMhYsV7",
    "outputId": "f06c7ca3-1cbe-4ce6-8943-5a341d4d78e8"
   },
   "outputs": [
    {
     "name": "stdout",
     "output_type": "stream",
     "text": [
      "Started analysis of SRR3414630_1.fastq\n",
      "Approx 5% complete for SRR3414630_1.fastq\n",
      "Approx 10% complete for SRR3414630_1.fastq\n",
      "Approx 15% complete for SRR3414630_1.fastq\n",
      "Approx 20% complete for SRR3414630_1.fastq\n",
      "Approx 25% complete for SRR3414630_1.fastq\n",
      "Approx 30% complete for SRR3414630_1.fastq\n",
      "Approx 35% complete for SRR3414630_1.fastq\n",
      "Approx 40% complete for SRR3414630_1.fastq\n",
      "Approx 45% complete for SRR3414630_1.fastq\n",
      "Approx 50% complete for SRR3414630_1.fastq\n",
      "Approx 55% complete for SRR3414630_1.fastq\n",
      "Approx 60% complete for SRR3414630_1.fastq\n",
      "Approx 65% complete for SRR3414630_1.fastq\n",
      "Approx 70% complete for SRR3414630_1.fastq\n",
      "Approx 75% complete for SRR3414630_1.fastq\n",
      "Approx 80% complete for SRR3414630_1.fastq\n",
      "Approx 85% complete for SRR3414630_1.fastq\n",
      "Approx 90% complete for SRR3414630_1.fastq\n",
      "Approx 95% complete for SRR3414630_1.fastq\n",
      "Analysis complete for SRR3414630_1.fastq\n"
     ]
    }
   ],
   "source": [
    "!./FastQC/fastqc  /content/SRR3414630_1.fastq\n"
   ]
  },
  {
   "cell_type": "code",
   "execution_count": 52,
   "metadata": {
    "colab": {
     "base_uri": "https://localhost:8080/"
    },
    "id": "urAJyAPnYtzo",
    "outputId": "c69c0e8b-96e9-437a-ac67-1105a8523471"
   },
   "outputs": [
    {
     "name": "stdout",
     "output_type": "stream",
     "text": [
      "Started analysis of SRR3414631_1.fastq\n",
      "Approx 5% complete for SRR3414631_1.fastq\n",
      "Approx 10% complete for SRR3414631_1.fastq\n",
      "Approx 15% complete for SRR3414631_1.fastq\n",
      "Approx 20% complete for SRR3414631_1.fastq\n",
      "Approx 25% complete for SRR3414631_1.fastq\n",
      "Approx 30% complete for SRR3414631_1.fastq\n",
      "Approx 35% complete for SRR3414631_1.fastq\n",
      "Approx 40% complete for SRR3414631_1.fastq\n",
      "Approx 45% complete for SRR3414631_1.fastq\n",
      "Approx 50% complete for SRR3414631_1.fastq\n",
      "Approx 55% complete for SRR3414631_1.fastq\n",
      "Approx 60% complete for SRR3414631_1.fastq\n",
      "Approx 65% complete for SRR3414631_1.fastq\n",
      "Approx 70% complete for SRR3414631_1.fastq\n",
      "Approx 75% complete for SRR3414631_1.fastq\n",
      "Approx 80% complete for SRR3414631_1.fastq\n",
      "Approx 85% complete for SRR3414631_1.fastq\n",
      "Approx 90% complete for SRR3414631_1.fastq\n",
      "Approx 95% complete for SRR3414631_1.fastq\n",
      "Analysis complete for SRR3414631_1.fastq\n"
     ]
    }
   ],
   "source": [
    "!./FastQC/fastqc  /content/SRR3414631_1.fastq\n"
   ]
  },
  {
   "cell_type": "markdown",
   "metadata": {
    "id": "b23N89JW4Eeg"
   },
   "source": [
    "* Mapping reads to genome using HISAT2"
   ]
  },
  {
   "cell_type": "code",
   "execution_count": 23,
   "metadata": {
    "colab": {
     "base_uri": "https://localhost:8080/"
    },
    "id": "us6WSL8Ge6U_",
    "outputId": "3a5ff4bb-8f7e-482b-aee6-a5cca5a1e7ee"
   },
   "outputs": [
    {
     "name": "stdout",
     "output_type": "stream",
     "text": [
      "\n",
      "real\t17m9.731s\n",
      "user\t20m22.525s\n",
      "sys\t1m41.667s\n"
     ]
    }
   ],
   "source": [
    "!time hisat2 -p 3 -x mm10/genome -U SRR3414636_1.fastq -S SRR3414636_1.sam  2>  SRR3414636.hisat"
   ]
  },
  {
   "cell_type": "code",
   "execution_count": 20,
   "metadata": {
    "colab": {
     "base_uri": "https://localhost:8080/"
    },
    "id": "RlsAIh8VIwdD",
    "outputId": "6aa1b408-2cf2-4b08-9466-a96a09a99835"
   },
   "outputs": [
    {
     "name": "stdout",
     "output_type": "stream",
     "text": [
      "\n",
      "real\t20m0.471s\n",
      "user\t25m32.438s\n",
      "sys\t2m8.567s\n"
     ]
    }
   ],
   "source": [
    "!time hisat2 -p 3 -x mm10/genome -U SRR3414629_1.fastq -S SRR3414629_1.sam  2>  SRR3414629.hisat"
   ]
  },
  {
   "cell_type": "code",
   "execution_count": 31,
   "metadata": {
    "colab": {
     "base_uri": "https://localhost:8080/"
    },
    "id": "h40e8XBN7kJd",
    "outputId": "7ce0ab48-44e4-49ea-bff7-a51f3cc35777"
   },
   "outputs": [
    {
     "name": "stdout",
     "output_type": "stream",
     "text": [
      "\n",
      "real\t19m29.788s\n",
      "user\t24m49.337s\n",
      "sys\t2m7.884s\n"
     ]
    }
   ],
   "source": [
    "!time hisat2 -p 3 -x mm10/genome -U SRR3414635_1.fastq -S SRR3414635_1.sam  2>  SRR3414635.hisat"
   ]
  },
  {
   "cell_type": "code",
   "execution_count": 43,
   "metadata": {
    "colab": {
     "base_uri": "https://localhost:8080/"
    },
    "id": "qLVq3ZGFOGuB",
    "outputId": "c215b937-bd58-49c3-bd5b-96bae24a91ba"
   },
   "outputs": [
    {
     "name": "stdout",
     "output_type": "stream",
     "text": [
      "\n",
      "real\t18m42.619s\n",
      "user\t24m4.511s\n",
      "sys\t2m8.107s\n"
     ]
    }
   ],
   "source": [
    "!time hisat2 -p 3 -x mm10/genome -U SRR3414637_1.fastq -S SRR3414637_1.sam  2>  SRR3414637.hisat"
   ]
  },
  {
   "cell_type": "code",
   "execution_count": 53,
   "metadata": {
    "colab": {
     "base_uri": "https://localhost:8080/"
    },
    "id": "tWFjGb9dYza4",
    "outputId": "b2b7b829-678d-42cd-e210-0d1043159d46"
   },
   "outputs": [
    {
     "name": "stdout",
     "output_type": "stream",
     "text": [
      "\n",
      "real\t14m25.510s\n",
      "user\t18m31.591s\n",
      "sys\t1m37.701s\n"
     ]
    }
   ],
   "source": [
    "!time hisat2 -p 3 -x mm10/genome -U SRR3414630_1.fastq -S SRR3414630_1.sam  2>  SRR3414630.hisat"
   ]
  },
  {
   "cell_type": "code",
   "execution_count": 54,
   "metadata": {
    "colab": {
     "base_uri": "https://localhost:8080/"
    },
    "id": "3tpG7fjNY0EP",
    "outputId": "2b12cb98-f2be-4f8c-c90e-d38426ecabff"
   },
   "outputs": [
    {
     "name": "stdout",
     "output_type": "stream",
     "text": [
      "\n",
      "real\t23m36.864s\n",
      "user\t30m27.526s\n",
      "sys\t2m42.932s\n"
     ]
    }
   ],
   "source": [
    "!time hisat2 -p 3 -x mm10/genome -U SRR3414631_1.fastq -S SRR3414631_1.sam  2>  SRR3414631.hisat"
   ]
  },
  {
   "cell_type": "code",
   "execution_count": 24,
   "metadata": {
    "colab": {
     "base_uri": "https://localhost:8080/"
    },
    "id": "IMvdwqr0_BA1",
    "outputId": "5bb90f32-954e-420e-9007-8129ac953abb"
   },
   "outputs": [
    {
     "name": "stdout",
     "output_type": "stream",
     "text": [
      "20307147 reads; of these:\n",
      "  20307147 (100.00%) were unpaired; of these:\n",
      "    233551 (1.15%) aligned 0 times\n",
      "    18032679 (88.80%) aligned exactly 1 time\n",
      "    2040917 (10.05%) aligned >1 times\n",
      "98.85% overall alignment rate\n"
     ]
    }
   ],
   "source": [
    "!cat SRR3414636.hisat"
   ]
  },
  {
   "cell_type": "code",
   "execution_count": 21,
   "metadata": {
    "colab": {
     "base_uri": "https://localhost:8080/"
    },
    "id": "d2UCZyz6NRpv",
    "outputId": "a68daad0-aa02-4451-848c-a926792a831e"
   },
   "outputs": [
    {
     "name": "stdout",
     "output_type": "stream",
     "text": [
      "21106089 reads; of these:\n",
      "  21106089 (100.00%) were unpaired; of these:\n",
      "    241118 (1.14%) aligned 0 times\n",
      "    18573565 (88.00%) aligned exactly 1 time\n",
      "    2291406 (10.86%) aligned >1 times\n",
      "98.86% overall alignment rate\n"
     ]
    }
   ],
   "source": [
    "!cat SRR3414629.hisat"
   ]
  },
  {
   "cell_type": "code",
   "execution_count": 32,
   "metadata": {
    "colab": {
     "base_uri": "https://localhost:8080/"
    },
    "id": "101OKmSc8XHi",
    "outputId": "9ceff1a8-0f59-4e83-a33e-add23fce79ed"
   },
   "outputs": [
    {
     "name": "stdout",
     "output_type": "stream",
     "text": [
      "20956475 reads; of these:\n",
      "  20956475 (100.00%) were unpaired; of these:\n",
      "    242044 (1.15%) aligned 0 times\n",
      "    18637053 (88.93%) aligned exactly 1 time\n",
      "    2077378 (9.91%) aligned >1 times\n",
      "98.85% overall alignment rate\n"
     ]
    }
   ],
   "source": [
    "!cat SRR3414635.hisat"
   ]
  },
  {
   "cell_type": "code",
   "execution_count": 44,
   "metadata": {
    "colab": {
     "base_uri": "https://localhost:8080/"
    },
    "id": "BFFPi8NCV8fo",
    "outputId": "640548e7-a8ae-44e9-eb1c-463dd1dd9bb7"
   },
   "outputs": [
    {
     "name": "stdout",
     "output_type": "stream",
     "text": [
      "20385570 reads; of these:\n",
      "  20385570 (100.00%) were unpaired; of these:\n",
      "    236895 (1.16%) aligned 0 times\n",
      "    18043406 (88.51%) aligned exactly 1 time\n",
      "    2105269 (10.33%) aligned >1 times\n",
      "98.84% overall alignment rate\n"
     ]
    }
   ],
   "source": [
    "!cat SRR3414637.hisat"
   ]
  },
  {
   "cell_type": "code",
   "execution_count": 55,
   "metadata": {
    "colab": {
     "base_uri": "https://localhost:8080/"
    },
    "id": "q_Ai8o6CY63x",
    "outputId": "e7064f95-9ad4-4f70-da1d-a4f68d95a14c"
   },
   "outputs": [
    {
     "name": "stdout",
     "output_type": "stream",
     "text": [
      "15244711 reads; of these:\n",
      "  15244711 (100.00%) were unpaired; of these:\n",
      "    168274 (1.10%) aligned 0 times\n",
      "    13320505 (87.38%) aligned exactly 1 time\n",
      "    1755932 (11.52%) aligned >1 times\n",
      "98.90% overall alignment rate\n"
     ]
    }
   ],
   "source": [
    "!cat SRR3414630.hisat"
   ]
  },
  {
   "cell_type": "code",
   "execution_count": 56,
   "metadata": {
    "colab": {
     "base_uri": "https://localhost:8080/"
    },
    "id": "dpND37iOY8Pk",
    "outputId": "979878e9-3ca6-4503-82e0-563990842baa"
   },
   "outputs": [
    {
     "name": "stdout",
     "output_type": "stream",
     "text": [
      "24244069 reads; of these:\n",
      "  24244069 (100.00%) were unpaired; of these:\n",
      "    279694 (1.15%) aligned 0 times\n",
      "    21159606 (87.28%) aligned exactly 1 time\n",
      "    2804769 (11.57%) aligned >1 times\n",
      "98.85% overall alignment rate\n"
     ]
    }
   ],
   "source": [
    "!cat SRR3414631.hisat"
   ]
  },
  {
   "cell_type": "markdown",
   "metadata": {
    "id": "f7NUQXYU8C3w"
   },
   "source": [
    "* Filter uniquely mapped reads (using the following flag NH:i:1):"
   ]
  },
  {
   "cell_type": "code",
   "execution_count": 25,
   "metadata": {
    "id": "0scVvWyz8Gjk"
   },
   "outputs": [],
   "source": [
    "!grep -P '^@|NH:i:1$' SRR3414636_1.sam > SRR3414636.uniq.sam"
   ]
  },
  {
   "cell_type": "code",
   "execution_count": 22,
   "metadata": {
    "id": "jlIVteJ-NZhF"
   },
   "outputs": [],
   "source": [
    "!grep -P '^@|NH:i:1$' SRR3414629_1.sam > SRR3414629.uniq.sam"
   ]
  },
  {
   "cell_type": "code",
   "execution_count": 33,
   "metadata": {
    "id": "KxlJyK7z8crp"
   },
   "outputs": [],
   "source": [
    "!grep -P '^@|NH:i:1$' SRR3414635_1.sam > SRR3414635.uniq.sam"
   ]
  },
  {
   "cell_type": "code",
   "execution_count": 45,
   "metadata": {
    "id": "Pq7HfkDZWAKW"
   },
   "outputs": [],
   "source": [
    "!grep -P '^@|NH:i:1$' SRR3414637_1.sam > SRR3414637.uniq.sam"
   ]
  },
  {
   "cell_type": "code",
   "execution_count": 57,
   "metadata": {
    "id": "gEaktL4GY-Ot"
   },
   "outputs": [],
   "source": [
    "!grep -P '^@|NH:i:1$' SRR3414630_1.sam > SRR3414630.uniq.sam"
   ]
  },
  {
   "cell_type": "code",
   "execution_count": 58,
   "metadata": {
    "id": "XLe73USNZAmb"
   },
   "outputs": [],
   "source": [
    "!grep -P '^@|NH:i:1$' SRR3414631_1.sam > SRR3414631.uniq.sam"
   ]
  },
  {
   "cell_type": "code",
   "execution_count": 27,
   "metadata": {
    "colab": {
     "base_uri": "https://localhost:8080/"
    },
    "id": "CHL0L7bvHJ8Z",
    "outputId": "5e8f65b4-3b5a-4a96-d638-6d0c8d01ee2f"
   },
   "outputs": [
    {
     "name": "stdout",
     "output_type": "stream",
     "text": [
      "removed 'SRR3414636_1.sam'\n"
     ]
    }
   ],
   "source": [
    "!rm -v SRR3414636_1.sam"
   ]
  },
  {
   "cell_type": "code",
   "execution_count": 24,
   "metadata": {
    "colab": {
     "base_uri": "https://localhost:8080/"
    },
    "id": "w73mgLpryiuH",
    "outputId": "de95920c-405d-4541-bd88-175c3b7fea91"
   },
   "outputs": [
    {
     "name": "stdout",
     "output_type": "stream",
     "text": [
      "removed 'SRR3414629_1.sam'\n"
     ]
    }
   ],
   "source": [
    "!rm -v SRR3414629_1.sam"
   ]
  },
  {
   "cell_type": "code",
   "execution_count": 35,
   "metadata": {
    "colab": {
     "base_uri": "https://localhost:8080/"
    },
    "id": "t5hxc3hs8kse",
    "outputId": "8e8efe1a-6e0a-411b-cfbe-d54ee7f9e6c6"
   },
   "outputs": [
    {
     "name": "stdout",
     "output_type": "stream",
     "text": [
      "removed 'SRR3414635_1.sam'\n"
     ]
    }
   ],
   "source": [
    "!rm -v SRR3414635_1.sam"
   ]
  },
  {
   "cell_type": "code",
   "execution_count": 47,
   "metadata": {
    "colab": {
     "base_uri": "https://localhost:8080/"
    },
    "id": "V7MsdxjNWLKq",
    "outputId": "7e1d558c-ac0b-4bf9-f79a-402e74951df7"
   },
   "outputs": [
    {
     "name": "stdout",
     "output_type": "stream",
     "text": [
      "removed 'SRR3414637_1.sam'\n"
     ]
    }
   ],
   "source": [
    "!rm -v SRR3414637_1.sam"
   ]
  },
  {
   "cell_type": "code",
   "execution_count": 61,
   "metadata": {
    "colab": {
     "base_uri": "https://localhost:8080/"
    },
    "id": "UDm1ZHcAZDtQ",
    "outputId": "23a0e6a1-5fd1-46d4-fb50-aa13490b5ad6"
   },
   "outputs": [
    {
     "name": "stdout",
     "output_type": "stream",
     "text": [
      "removed 'SRR3414630_1.sam'\n"
     ]
    }
   ],
   "source": [
    "!rm -v SRR3414630_1.sam"
   ]
  },
  {
   "cell_type": "code",
   "execution_count": 62,
   "metadata": {
    "colab": {
     "base_uri": "https://localhost:8080/"
    },
    "id": "lbKVRoXVZFOl",
    "outputId": "501ff5ac-f052-4d1f-ddcf-7230c11f6d96"
   },
   "outputs": [
    {
     "name": "stdout",
     "output_type": "stream",
     "text": [
      "removed 'SRR3414631_1.sam'\n"
     ]
    }
   ],
   "source": [
    "!rm -v SRR3414631_1.sam"
   ]
  },
  {
   "cell_type": "markdown",
   "metadata": {
    "id": "SeH868YM8RKT"
   },
   "source": [
    "* Let's count uniquely mapped reads"
   ]
  },
  {
   "cell_type": "code",
   "execution_count": 26,
   "metadata": {
    "colab": {
     "base_uri": "https://localhost:8080/"
    },
    "id": "XBdA-OAz_nvx",
    "outputId": "34a3e2b9-8391-43f1-f0a3-c9233c853ad7"
   },
   "outputs": [
    {
     "name": "stdout",
     "output_type": "stream",
     "text": [
      "18032679\n"
     ]
    }
   ],
   "source": [
    "!grep -v '^@' SRR3414636.uniq.sam | wc -l"
   ]
  },
  {
   "cell_type": "code",
   "execution_count": 23,
   "metadata": {
    "colab": {
     "base_uri": "https://localhost:8080/"
    },
    "id": "xcTJHg7sNfWG",
    "outputId": "44807ced-da5e-4504-917c-b199f2c4bb4a"
   },
   "outputs": [
    {
     "name": "stdout",
     "output_type": "stream",
     "text": [
      "18573565\n"
     ]
    }
   ],
   "source": [
    "!grep -v '^@' SRR3414629.uniq.sam | wc -l"
   ]
  },
  {
   "cell_type": "code",
   "execution_count": 34,
   "metadata": {
    "colab": {
     "base_uri": "https://localhost:8080/"
    },
    "id": "MSyaBuUw8oVn",
    "outputId": "979d7b3b-6d13-4c8b-ccae-c8bcfe9ec308"
   },
   "outputs": [
    {
     "name": "stdout",
     "output_type": "stream",
     "text": [
      "18637053\n"
     ]
    }
   ],
   "source": [
    "!grep -v '^@' SRR3414635.uniq.sam | wc -l"
   ]
  },
  {
   "cell_type": "code",
   "execution_count": 46,
   "metadata": {
    "colab": {
     "base_uri": "https://localhost:8080/"
    },
    "id": "457pUBsJWEpM",
    "outputId": "5584e00e-61e5-4569-d5c6-56c3105e25a0"
   },
   "outputs": [
    {
     "name": "stdout",
     "output_type": "stream",
     "text": [
      "18043406\n"
     ]
    }
   ],
   "source": [
    "!grep -v '^@' SRR3414637.uniq.sam | wc -l"
   ]
  },
  {
   "cell_type": "code",
   "execution_count": 59,
   "metadata": {
    "colab": {
     "base_uri": "https://localhost:8080/"
    },
    "id": "4tPY1NEJZHSn",
    "outputId": "612e36b3-e7df-4c60-fee7-c5b797d6a895"
   },
   "outputs": [
    {
     "name": "stdout",
     "output_type": "stream",
     "text": [
      "13320505\n"
     ]
    }
   ],
   "source": [
    "!grep -v '^@' SRR3414630.uniq.sam | wc -l"
   ]
  },
  {
   "cell_type": "code",
   "execution_count": 60,
   "metadata": {
    "colab": {
     "base_uri": "https://localhost:8080/"
    },
    "id": "LE_lytwBZIav",
    "outputId": "ce785664-f2e1-4838-d396-879fe9bf023f"
   },
   "outputs": [
    {
     "name": "stdout",
     "output_type": "stream",
     "text": [
      "21159606\n"
     ]
    }
   ],
   "source": [
    "!grep -v '^@' SRR3414631.uniq.sam | wc -l"
   ]
  },
  {
   "cell_type": "markdown",
   "metadata": {
    "id": "_JqUV4J_8a8h"
   },
   "source": [
    "* Using `HTSeq` we can count the number of reads mapped to each gene:\n",
    "* We can find mouse genome annotation in the following file `gencode.vM25.annotation.gtf`\n"
   ]
  },
  {
   "cell_type": "code",
   "execution_count": 28,
   "metadata": {
    "colab": {
     "base_uri": "https://localhost:8080/"
    },
    "id": "p7IHTD5Ihorm",
    "outputId": "7ab2365a-20c8-4565-c602-b590ece6f178"
   },
   "outputs": [
    {
     "name": "stdout",
     "output_type": "stream",
     "text": [
      "100000 GFF lines processed.\n",
      "200000 GFF lines processed.\n",
      "300000 GFF lines processed.\n",
      "400000 GFF lines processed.\n",
      "500000 GFF lines processed.\n",
      "600000 GFF lines processed.\n",
      "700000 GFF lines processed.\n",
      "800000 GFF lines processed.\n",
      "900000 GFF lines processed.\n",
      "1000000 GFF lines processed.\n",
      "1100000 GFF lines processed.\n",
      "1200000 GFF lines processed.\n",
      "1300000 GFF lines processed.\n",
      "1400000 GFF lines processed.\n",
      "1500000 GFF lines processed.\n",
      "1600000 GFF lines processed.\n",
      "1700000 GFF lines processed.\n",
      "1800000 GFF lines processed.\n",
      "1872052 GFF lines processed.\n",
      "100000 alignment records processed.\n",
      "200000 alignment records processed.\n",
      "300000 alignment records processed.\n",
      "400000 alignment records processed.\n",
      "500000 alignment records processed.\n",
      "600000 alignment records processed.\n",
      "700000 alignment records processed.\n",
      "800000 alignment records processed.\n",
      "900000 alignment records processed.\n",
      "1000000 alignment records processed.\n",
      "1100000 alignment records processed.\n",
      "1200000 alignment records processed.\n",
      "1300000 alignment records processed.\n",
      "1400000 alignment records processed.\n",
      "1500000 alignment records processed.\n",
      "1600000 alignment records processed.\n",
      "1700000 alignment records processed.\n",
      "1800000 alignment records processed.\n",
      "1900000 alignment records processed.\n",
      "2000000 alignment records processed.\n",
      "2100000 alignment records processed.\n",
      "2200000 alignment records processed.\n",
      "2300000 alignment records processed.\n",
      "2400000 alignment records processed.\n",
      "2500000 alignment records processed.\n",
      "2600000 alignment records processed.\n",
      "2700000 alignment records processed.\n",
      "2800000 alignment records processed.\n",
      "2900000 alignment records processed.\n",
      "3000000 alignment records processed.\n",
      "3100000 alignment records processed.\n",
      "3200000 alignment records processed.\n",
      "3300000 alignment records processed.\n",
      "3400000 alignment records processed.\n",
      "3500000 alignment records processed.\n",
      "3600000 alignment records processed.\n",
      "3700000 alignment records processed.\n",
      "3800000 alignment records processed.\n",
      "3900000 alignment records processed.\n",
      "4000000 alignment records processed.\n",
      "4100000 alignment records processed.\n",
      "4200000 alignment records processed.\n",
      "4300000 alignment records processed.\n",
      "4400000 alignment records processed.\n",
      "4500000 alignment records processed.\n",
      "4600000 alignment records processed.\n",
      "4700000 alignment records processed.\n",
      "4800000 alignment records processed.\n",
      "4900000 alignment records processed.\n",
      "5000000 alignment records processed.\n",
      "5100000 alignment records processed.\n",
      "5200000 alignment records processed.\n",
      "5300000 alignment records processed.\n",
      "5400000 alignment records processed.\n",
      "5500000 alignment records processed.\n",
      "5600000 alignment records processed.\n",
      "5700000 alignment records processed.\n",
      "5800000 alignment records processed.\n",
      "5900000 alignment records processed.\n",
      "6000000 alignment records processed.\n",
      "6100000 alignment records processed.\n",
      "6200000 alignment records processed.\n",
      "6300000 alignment records processed.\n",
      "6400000 alignment records processed.\n",
      "6500000 alignment records processed.\n",
      "6600000 alignment records processed.\n",
      "6700000 alignment records processed.\n",
      "6800000 alignment records processed.\n",
      "6900000 alignment records processed.\n",
      "7000000 alignment records processed.\n",
      "7100000 alignment records processed.\n",
      "7200000 alignment records processed.\n",
      "7300000 alignment records processed.\n",
      "7400000 alignment records processed.\n",
      "7500000 alignment records processed.\n",
      "7600000 alignment records processed.\n",
      "7700000 alignment records processed.\n",
      "7800000 alignment records processed.\n",
      "7900000 alignment records processed.\n",
      "8000000 alignment records processed.\n",
      "8100000 alignment records processed.\n",
      "8200000 alignment records processed.\n",
      "8300000 alignment records processed.\n",
      "8400000 alignment records processed.\n",
      "8500000 alignment records processed.\n",
      "8600000 alignment records processed.\n",
      "8700000 alignment records processed.\n",
      "8800000 alignment records processed.\n",
      "8900000 alignment records processed.\n",
      "9000000 alignment records processed.\n",
      "9100000 alignment records processed.\n",
      "9200000 alignment records processed.\n",
      "9300000 alignment records processed.\n",
      "9400000 alignment records processed.\n",
      "9500000 alignment records processed.\n",
      "9600000 alignment records processed.\n",
      "9700000 alignment records processed.\n",
      "9800000 alignment records processed.\n",
      "9900000 alignment records processed.\n",
      "10000000 alignment records processed.\n",
      "10100000 alignment records processed.\n",
      "10200000 alignment records processed.\n",
      "10300000 alignment records processed.\n",
      "10400000 alignment records processed.\n",
      "10500000 alignment records processed.\n",
      "10600000 alignment records processed.\n",
      "10700000 alignment records processed.\n",
      "10800000 alignment records processed.\n",
      "10900000 alignment records processed.\n",
      "11000000 alignment records processed.\n",
      "11100000 alignment records processed.\n",
      "11200000 alignment records processed.\n",
      "11300000 alignment records processed.\n",
      "11400000 alignment records processed.\n",
      "11500000 alignment records processed.\n",
      "11600000 alignment records processed.\n",
      "11700000 alignment records processed.\n",
      "11800000 alignment records processed.\n",
      "11900000 alignment records processed.\n",
      "12000000 alignment records processed.\n",
      "12100000 alignment records processed.\n",
      "12200000 alignment records processed.\n",
      "12300000 alignment records processed.\n",
      "12400000 alignment records processed.\n",
      "12500000 alignment records processed.\n",
      "12600000 alignment records processed.\n",
      "12700000 alignment records processed.\n",
      "12800000 alignment records processed.\n",
      "12900000 alignment records processed.\n",
      "13000000 alignment records processed.\n",
      "13100000 alignment records processed.\n",
      "13200000 alignment records processed.\n",
      "13300000 alignment records processed.\n",
      "13400000 alignment records processed.\n",
      "13500000 alignment records processed.\n",
      "13600000 alignment records processed.\n",
      "13700000 alignment records processed.\n",
      "13800000 alignment records processed.\n",
      "13900000 alignment records processed.\n",
      "14000000 alignment records processed.\n",
      "14100000 alignment records processed.\n",
      "14200000 alignment records processed.\n",
      "14300000 alignment records processed.\n",
      "14400000 alignment records processed.\n",
      "14500000 alignment records processed.\n",
      "14600000 alignment records processed.\n",
      "14700000 alignment records processed.\n",
      "14800000 alignment records processed.\n",
      "14900000 alignment records processed.\n",
      "15000000 alignment records processed.\n",
      "15100000 alignment records processed.\n",
      "15200000 alignment records processed.\n",
      "15300000 alignment records processed.\n",
      "15400000 alignment records processed.\n",
      "15500000 alignment records processed.\n",
      "15600000 alignment records processed.\n",
      "15700000 alignment records processed.\n",
      "15800000 alignment records processed.\n",
      "15900000 alignment records processed.\n",
      "16000000 alignment records processed.\n",
      "16100000 alignment records processed.\n",
      "16200000 alignment records processed.\n",
      "16300000 alignment records processed.\n",
      "16400000 alignment records processed.\n",
      "16500000 alignment records processed.\n",
      "16600000 alignment records processed.\n",
      "16700000 alignment records processed.\n",
      "16800000 alignment records processed.\n",
      "16900000 alignment records processed.\n",
      "17000000 alignment records processed.\n",
      "17100000 alignment records processed.\n",
      "17200000 alignment records processed.\n",
      "17300000 alignment records processed.\n",
      "17400000 alignment records processed.\n",
      "17500000 alignment records processed.\n",
      "17600000 alignment records processed.\n",
      "17700000 alignment records processed.\n",
      "17800000 alignment records processed.\n",
      "17900000 alignment records processed.\n",
      "18000000 alignment records processed.\n",
      "18032679 alignment records processed.\n",
      "\n",
      "real\t26m28.708s\n",
      "user\t25m36.774s\n",
      "sys\t0m26.023s\n"
     ]
    }
   ],
   "source": [
    "!time htseq-count --format=sam --stranded=no SRR3414636.uniq.sam  gencode.vM25.annotation.gtf > SRR3414636.counts"
   ]
  },
  {
   "cell_type": "code",
   "execution_count": 25,
   "metadata": {
    "colab": {
     "base_uri": "https://localhost:8080/"
    },
    "id": "fIQONnVrNum-",
    "outputId": "14ae5ac4-8568-47a7-8d9d-2d23240d7eaf"
   },
   "outputs": [
    {
     "name": "stdout",
     "output_type": "stream",
     "text": [
      "100000 GFF lines processed.\n",
      "200000 GFF lines processed.\n",
      "300000 GFF lines processed.\n",
      "400000 GFF lines processed.\n",
      "500000 GFF lines processed.\n",
      "600000 GFF lines processed.\n",
      "700000 GFF lines processed.\n",
      "800000 GFF lines processed.\n",
      "900000 GFF lines processed.\n",
      "1000000 GFF lines processed.\n",
      "1100000 GFF lines processed.\n",
      "1200000 GFF lines processed.\n",
      "1300000 GFF lines processed.\n",
      "1400000 GFF lines processed.\n",
      "1500000 GFF lines processed.\n",
      "1600000 GFF lines processed.\n",
      "1700000 GFF lines processed.\n",
      "1800000 GFF lines processed.\n",
      "1872052 GFF lines processed.\n",
      "100000 alignment records processed.\n",
      "200000 alignment records processed.\n",
      "300000 alignment records processed.\n",
      "400000 alignment records processed.\n",
      "500000 alignment records processed.\n",
      "600000 alignment records processed.\n",
      "700000 alignment records processed.\n",
      "800000 alignment records processed.\n",
      "900000 alignment records processed.\n",
      "1000000 alignment records processed.\n",
      "1100000 alignment records processed.\n",
      "1200000 alignment records processed.\n",
      "1300000 alignment records processed.\n",
      "1400000 alignment records processed.\n",
      "1500000 alignment records processed.\n",
      "1600000 alignment records processed.\n",
      "1700000 alignment records processed.\n",
      "1800000 alignment records processed.\n",
      "1900000 alignment records processed.\n",
      "2000000 alignment records processed.\n",
      "2100000 alignment records processed.\n",
      "2200000 alignment records processed.\n",
      "2300000 alignment records processed.\n",
      "2400000 alignment records processed.\n",
      "2500000 alignment records processed.\n",
      "2600000 alignment records processed.\n",
      "2700000 alignment records processed.\n",
      "2800000 alignment records processed.\n",
      "2900000 alignment records processed.\n",
      "3000000 alignment records processed.\n",
      "3100000 alignment records processed.\n",
      "3200000 alignment records processed.\n",
      "3300000 alignment records processed.\n",
      "3400000 alignment records processed.\n",
      "3500000 alignment records processed.\n",
      "3600000 alignment records processed.\n",
      "3700000 alignment records processed.\n",
      "3800000 alignment records processed.\n",
      "3900000 alignment records processed.\n",
      "4000000 alignment records processed.\n",
      "4100000 alignment records processed.\n",
      "4200000 alignment records processed.\n",
      "4300000 alignment records processed.\n",
      "4400000 alignment records processed.\n",
      "4500000 alignment records processed.\n",
      "4600000 alignment records processed.\n",
      "4700000 alignment records processed.\n",
      "4800000 alignment records processed.\n",
      "4900000 alignment records processed.\n",
      "5000000 alignment records processed.\n",
      "5100000 alignment records processed.\n",
      "5200000 alignment records processed.\n",
      "5300000 alignment records processed.\n",
      "5400000 alignment records processed.\n",
      "5500000 alignment records processed.\n",
      "5600000 alignment records processed.\n",
      "5700000 alignment records processed.\n",
      "5800000 alignment records processed.\n",
      "5900000 alignment records processed.\n",
      "6000000 alignment records processed.\n",
      "6100000 alignment records processed.\n",
      "6200000 alignment records processed.\n",
      "6300000 alignment records processed.\n",
      "6400000 alignment records processed.\n",
      "6500000 alignment records processed.\n",
      "6600000 alignment records processed.\n",
      "6700000 alignment records processed.\n",
      "6800000 alignment records processed.\n",
      "6900000 alignment records processed.\n",
      "7000000 alignment records processed.\n",
      "7100000 alignment records processed.\n",
      "7200000 alignment records processed.\n",
      "7300000 alignment records processed.\n",
      "7400000 alignment records processed.\n",
      "7500000 alignment records processed.\n",
      "7600000 alignment records processed.\n",
      "7700000 alignment records processed.\n",
      "7800000 alignment records processed.\n",
      "7900000 alignment records processed.\n",
      "8000000 alignment records processed.\n",
      "8100000 alignment records processed.\n",
      "8200000 alignment records processed.\n",
      "8300000 alignment records processed.\n",
      "8400000 alignment records processed.\n",
      "8500000 alignment records processed.\n",
      "8600000 alignment records processed.\n",
      "8700000 alignment records processed.\n",
      "8800000 alignment records processed.\n",
      "8900000 alignment records processed.\n",
      "9000000 alignment records processed.\n",
      "9100000 alignment records processed.\n",
      "9200000 alignment records processed.\n",
      "9300000 alignment records processed.\n",
      "9400000 alignment records processed.\n",
      "9500000 alignment records processed.\n",
      "9600000 alignment records processed.\n",
      "9700000 alignment records processed.\n",
      "9800000 alignment records processed.\n",
      "9900000 alignment records processed.\n",
      "10000000 alignment records processed.\n",
      "10100000 alignment records processed.\n",
      "10200000 alignment records processed.\n",
      "10300000 alignment records processed.\n",
      "10400000 alignment records processed.\n",
      "10500000 alignment records processed.\n",
      "10600000 alignment records processed.\n",
      "10700000 alignment records processed.\n",
      "10800000 alignment records processed.\n",
      "10900000 alignment records processed.\n",
      "11000000 alignment records processed.\n",
      "11100000 alignment records processed.\n",
      "11200000 alignment records processed.\n",
      "11300000 alignment records processed.\n",
      "11400000 alignment records processed.\n",
      "11500000 alignment records processed.\n",
      "11600000 alignment records processed.\n",
      "11700000 alignment records processed.\n",
      "11800000 alignment records processed.\n",
      "11900000 alignment records processed.\n",
      "12000000 alignment records processed.\n",
      "12100000 alignment records processed.\n",
      "12200000 alignment records processed.\n",
      "12300000 alignment records processed.\n",
      "12400000 alignment records processed.\n",
      "12500000 alignment records processed.\n",
      "12600000 alignment records processed.\n",
      "12700000 alignment records processed.\n",
      "12800000 alignment records processed.\n",
      "12900000 alignment records processed.\n",
      "13000000 alignment records processed.\n",
      "13100000 alignment records processed.\n",
      "13200000 alignment records processed.\n",
      "13300000 alignment records processed.\n",
      "13400000 alignment records processed.\n",
      "13500000 alignment records processed.\n",
      "13600000 alignment records processed.\n",
      "13700000 alignment records processed.\n",
      "13800000 alignment records processed.\n",
      "13900000 alignment records processed.\n",
      "14000000 alignment records processed.\n",
      "14100000 alignment records processed.\n",
      "14200000 alignment records processed.\n",
      "14300000 alignment records processed.\n",
      "14400000 alignment records processed.\n",
      "14500000 alignment records processed.\n",
      "14600000 alignment records processed.\n",
      "14700000 alignment records processed.\n",
      "14800000 alignment records processed.\n",
      "14900000 alignment records processed.\n",
      "15000000 alignment records processed.\n",
      "15100000 alignment records processed.\n",
      "15200000 alignment records processed.\n",
      "15300000 alignment records processed.\n",
      "15400000 alignment records processed.\n",
      "15500000 alignment records processed.\n",
      "15600000 alignment records processed.\n",
      "15700000 alignment records processed.\n",
      "15800000 alignment records processed.\n",
      "15900000 alignment records processed.\n",
      "16000000 alignment records processed.\n",
      "16100000 alignment records processed.\n",
      "16200000 alignment records processed.\n",
      "16300000 alignment records processed.\n",
      "16400000 alignment records processed.\n",
      "16500000 alignment records processed.\n",
      "16600000 alignment records processed.\n",
      "16700000 alignment records processed.\n",
      "16800000 alignment records processed.\n",
      "16900000 alignment records processed.\n",
      "17000000 alignment records processed.\n",
      "17100000 alignment records processed.\n",
      "17200000 alignment records processed.\n",
      "17300000 alignment records processed.\n",
      "17400000 alignment records processed.\n",
      "17500000 alignment records processed.\n",
      "17600000 alignment records processed.\n",
      "17700000 alignment records processed.\n",
      "17800000 alignment records processed.\n",
      "17900000 alignment records processed.\n",
      "18000000 alignment records processed.\n",
      "18100000 alignment records processed.\n",
      "18200000 alignment records processed.\n",
      "18300000 alignment records processed.\n",
      "18400000 alignment records processed.\n",
      "18500000 alignment records processed.\n",
      "18573565 alignment records processed.\n",
      "\n",
      "real\t28m22.343s\n",
      "user\t27m14.439s\n",
      "sys\t0m27.123s\n"
     ]
    }
   ],
   "source": [
    "!time htseq-count --format=sam --stranded=no SRR3414629.uniq.sam  gencode.vM25.annotation.gtf > SRR3414629.counts"
   ]
  },
  {
   "cell_type": "markdown",
   "metadata": {
    "id": "CHTMa6RlA_m4"
   },
   "source": [
    "* Let's look how many reads were not associated with any gene\n",
    "* `__no_feature ` – number of reads corresponding to segments of the genome where not a single exon was annotated\n",
    "* `__ambiguous ` – number of reads that can belong to different genes\n",
    "* More in docs of HTSeq-count - https://htseq.readthedocs.io/en/release_0.11.1/count.html\n",
    "* Let's find the total number of reads that map to at least one gene\n",
    "\n"
   ]
  },
  {
   "cell_type": "code",
   "execution_count": 36,
   "metadata": {
    "colab": {
     "base_uri": "https://localhost:8080/"
    },
    "id": "kHX1oVG08sVp",
    "outputId": "3c78be5d-0953-45de-a37e-bb740b2ab39f"
   },
   "outputs": [
    {
     "name": "stdout",
     "output_type": "stream",
     "text": [
      "100000 GFF lines processed.\n",
      "200000 GFF lines processed.\n",
      "300000 GFF lines processed.\n",
      "400000 GFF lines processed.\n",
      "500000 GFF lines processed.\n",
      "600000 GFF lines processed.\n",
      "700000 GFF lines processed.\n",
      "800000 GFF lines processed.\n",
      "900000 GFF lines processed.\n",
      "1000000 GFF lines processed.\n",
      "1100000 GFF lines processed.\n",
      "1200000 GFF lines processed.\n",
      "1300000 GFF lines processed.\n",
      "1400000 GFF lines processed.\n",
      "1500000 GFF lines processed.\n",
      "1600000 GFF lines processed.\n",
      "1700000 GFF lines processed.\n",
      "1800000 GFF lines processed.\n",
      "1872052 GFF lines processed.\n",
      "100000 alignment records processed.\n",
      "200000 alignment records processed.\n",
      "300000 alignment records processed.\n",
      "400000 alignment records processed.\n",
      "500000 alignment records processed.\n",
      "600000 alignment records processed.\n",
      "700000 alignment records processed.\n",
      "800000 alignment records processed.\n",
      "900000 alignment records processed.\n",
      "1000000 alignment records processed.\n",
      "1100000 alignment records processed.\n",
      "1200000 alignment records processed.\n",
      "1300000 alignment records processed.\n",
      "1400000 alignment records processed.\n",
      "1500000 alignment records processed.\n",
      "1600000 alignment records processed.\n",
      "1700000 alignment records processed.\n",
      "1800000 alignment records processed.\n",
      "1900000 alignment records processed.\n",
      "2000000 alignment records processed.\n",
      "2100000 alignment records processed.\n",
      "2200000 alignment records processed.\n",
      "2300000 alignment records processed.\n",
      "2400000 alignment records processed.\n",
      "2500000 alignment records processed.\n",
      "2600000 alignment records processed.\n",
      "2700000 alignment records processed.\n",
      "2800000 alignment records processed.\n",
      "2900000 alignment records processed.\n",
      "3000000 alignment records processed.\n",
      "3100000 alignment records processed.\n",
      "3200000 alignment records processed.\n",
      "3300000 alignment records processed.\n",
      "3400000 alignment records processed.\n",
      "3500000 alignment records processed.\n",
      "3600000 alignment records processed.\n",
      "3700000 alignment records processed.\n",
      "3800000 alignment records processed.\n",
      "3900000 alignment records processed.\n",
      "4000000 alignment records processed.\n",
      "4100000 alignment records processed.\n",
      "4200000 alignment records processed.\n",
      "4300000 alignment records processed.\n",
      "4400000 alignment records processed.\n",
      "4500000 alignment records processed.\n",
      "4600000 alignment records processed.\n",
      "4700000 alignment records processed.\n",
      "4800000 alignment records processed.\n",
      "4900000 alignment records processed.\n",
      "5000000 alignment records processed.\n",
      "5100000 alignment records processed.\n",
      "5200000 alignment records processed.\n",
      "5300000 alignment records processed.\n",
      "5400000 alignment records processed.\n",
      "5500000 alignment records processed.\n",
      "5600000 alignment records processed.\n",
      "5700000 alignment records processed.\n",
      "5800000 alignment records processed.\n",
      "5900000 alignment records processed.\n",
      "6000000 alignment records processed.\n",
      "6100000 alignment records processed.\n",
      "6200000 alignment records processed.\n",
      "6300000 alignment records processed.\n",
      "6400000 alignment records processed.\n",
      "6500000 alignment records processed.\n",
      "6600000 alignment records processed.\n",
      "6700000 alignment records processed.\n",
      "6800000 alignment records processed.\n",
      "6900000 alignment records processed.\n",
      "7000000 alignment records processed.\n",
      "7100000 alignment records processed.\n",
      "7200000 alignment records processed.\n",
      "7300000 alignment records processed.\n",
      "7400000 alignment records processed.\n",
      "7500000 alignment records processed.\n",
      "7600000 alignment records processed.\n",
      "7700000 alignment records processed.\n",
      "7800000 alignment records processed.\n",
      "7900000 alignment records processed.\n",
      "8000000 alignment records processed.\n",
      "8100000 alignment records processed.\n",
      "8200000 alignment records processed.\n",
      "8300000 alignment records processed.\n",
      "8400000 alignment records processed.\n",
      "8500000 alignment records processed.\n",
      "8600000 alignment records processed.\n",
      "8700000 alignment records processed.\n",
      "8800000 alignment records processed.\n",
      "8900000 alignment records processed.\n",
      "9000000 alignment records processed.\n",
      "9100000 alignment records processed.\n",
      "9200000 alignment records processed.\n",
      "9300000 alignment records processed.\n",
      "9400000 alignment records processed.\n",
      "9500000 alignment records processed.\n",
      "9600000 alignment records processed.\n",
      "9700000 alignment records processed.\n",
      "9800000 alignment records processed.\n",
      "9900000 alignment records processed.\n",
      "10000000 alignment records processed.\n",
      "10100000 alignment records processed.\n",
      "10200000 alignment records processed.\n",
      "10300000 alignment records processed.\n",
      "10400000 alignment records processed.\n",
      "10500000 alignment records processed.\n",
      "10600000 alignment records processed.\n",
      "10700000 alignment records processed.\n",
      "10800000 alignment records processed.\n",
      "10900000 alignment records processed.\n",
      "11000000 alignment records processed.\n",
      "11100000 alignment records processed.\n",
      "11200000 alignment records processed.\n",
      "11300000 alignment records processed.\n",
      "11400000 alignment records processed.\n",
      "11500000 alignment records processed.\n",
      "11600000 alignment records processed.\n",
      "11700000 alignment records processed.\n",
      "11800000 alignment records processed.\n",
      "11900000 alignment records processed.\n",
      "12000000 alignment records processed.\n",
      "12100000 alignment records processed.\n",
      "12200000 alignment records processed.\n",
      "12300000 alignment records processed.\n",
      "12400000 alignment records processed.\n",
      "12500000 alignment records processed.\n",
      "12600000 alignment records processed.\n",
      "12700000 alignment records processed.\n",
      "12800000 alignment records processed.\n",
      "12900000 alignment records processed.\n",
      "13000000 alignment records processed.\n",
      "13100000 alignment records processed.\n",
      "13200000 alignment records processed.\n",
      "13300000 alignment records processed.\n",
      "13400000 alignment records processed.\n",
      "13500000 alignment records processed.\n",
      "13600000 alignment records processed.\n",
      "13700000 alignment records processed.\n",
      "13800000 alignment records processed.\n",
      "13900000 alignment records processed.\n",
      "14000000 alignment records processed.\n",
      "14100000 alignment records processed.\n",
      "14200000 alignment records processed.\n",
      "14300000 alignment records processed.\n",
      "14400000 alignment records processed.\n",
      "14500000 alignment records processed.\n",
      "14600000 alignment records processed.\n",
      "14700000 alignment records processed.\n",
      "14800000 alignment records processed.\n",
      "14900000 alignment records processed.\n",
      "15000000 alignment records processed.\n",
      "15100000 alignment records processed.\n",
      "15200000 alignment records processed.\n",
      "15300000 alignment records processed.\n",
      "15400000 alignment records processed.\n",
      "15500000 alignment records processed.\n",
      "15600000 alignment records processed.\n",
      "15700000 alignment records processed.\n",
      "15800000 alignment records processed.\n",
      "15900000 alignment records processed.\n",
      "16000000 alignment records processed.\n",
      "16100000 alignment records processed.\n",
      "16200000 alignment records processed.\n",
      "16300000 alignment records processed.\n",
      "16400000 alignment records processed.\n",
      "16500000 alignment records processed.\n",
      "16600000 alignment records processed.\n",
      "16700000 alignment records processed.\n",
      "16800000 alignment records processed.\n",
      "16900000 alignment records processed.\n",
      "17000000 alignment records processed.\n",
      "17100000 alignment records processed.\n",
      "17200000 alignment records processed.\n",
      "17300000 alignment records processed.\n",
      "17400000 alignment records processed.\n",
      "17500000 alignment records processed.\n",
      "17600000 alignment records processed.\n",
      "17700000 alignment records processed.\n",
      "17800000 alignment records processed.\n",
      "17900000 alignment records processed.\n",
      "18000000 alignment records processed.\n",
      "18100000 alignment records processed.\n",
      "18200000 alignment records processed.\n",
      "18300000 alignment records processed.\n",
      "18400000 alignment records processed.\n",
      "18500000 alignment records processed.\n",
      "18600000 alignment records processed.\n",
      "18637053 alignment records processed.\n",
      "\n",
      "real\t28m20.100s\n",
      "user\t27m11.942s\n",
      "sys\t0m28.924s\n"
     ]
    }
   ],
   "source": [
    "!time htseq-count --format=sam --stranded=no SRR3414635.uniq.sam  gencode.vM25.annotation.gtf > SRR3414635.counts"
   ]
  },
  {
   "cell_type": "code",
   "execution_count": 48,
   "metadata": {
    "colab": {
     "base_uri": "https://localhost:8080/"
    },
    "id": "W8d2HmZDWf26",
    "outputId": "dffe7b80-459c-4496-d36b-f9ce8694f1be"
   },
   "outputs": [
    {
     "name": "stdout",
     "output_type": "stream",
     "text": [
      "100000 GFF lines processed.\n",
      "200000 GFF lines processed.\n",
      "300000 GFF lines processed.\n",
      "400000 GFF lines processed.\n",
      "500000 GFF lines processed.\n",
      "600000 GFF lines processed.\n",
      "700000 GFF lines processed.\n",
      "800000 GFF lines processed.\n",
      "900000 GFF lines processed.\n",
      "1000000 GFF lines processed.\n",
      "1100000 GFF lines processed.\n",
      "1200000 GFF lines processed.\n",
      "1300000 GFF lines processed.\n",
      "1400000 GFF lines processed.\n",
      "1500000 GFF lines processed.\n",
      "1600000 GFF lines processed.\n",
      "1700000 GFF lines processed.\n",
      "1800000 GFF lines processed.\n",
      "1872052 GFF lines processed.\n",
      "100000 alignment records processed.\n",
      "200000 alignment records processed.\n",
      "300000 alignment records processed.\n",
      "400000 alignment records processed.\n",
      "500000 alignment records processed.\n",
      "600000 alignment records processed.\n",
      "700000 alignment records processed.\n",
      "800000 alignment records processed.\n",
      "900000 alignment records processed.\n",
      "1000000 alignment records processed.\n",
      "1100000 alignment records processed.\n",
      "1200000 alignment records processed.\n",
      "1300000 alignment records processed.\n",
      "1400000 alignment records processed.\n",
      "1500000 alignment records processed.\n",
      "1600000 alignment records processed.\n",
      "1700000 alignment records processed.\n",
      "1800000 alignment records processed.\n",
      "1900000 alignment records processed.\n",
      "2000000 alignment records processed.\n",
      "2100000 alignment records processed.\n",
      "2200000 alignment records processed.\n",
      "2300000 alignment records processed.\n",
      "2400000 alignment records processed.\n",
      "2500000 alignment records processed.\n",
      "2600000 alignment records processed.\n",
      "2700000 alignment records processed.\n",
      "2800000 alignment records processed.\n",
      "2900000 alignment records processed.\n",
      "3000000 alignment records processed.\n",
      "3100000 alignment records processed.\n",
      "3200000 alignment records processed.\n",
      "3300000 alignment records processed.\n",
      "3400000 alignment records processed.\n",
      "3500000 alignment records processed.\n",
      "3600000 alignment records processed.\n",
      "3700000 alignment records processed.\n",
      "3800000 alignment records processed.\n",
      "3900000 alignment records processed.\n",
      "4000000 alignment records processed.\n",
      "4100000 alignment records processed.\n",
      "4200000 alignment records processed.\n",
      "4300000 alignment records processed.\n",
      "4400000 alignment records processed.\n",
      "4500000 alignment records processed.\n",
      "4600000 alignment records processed.\n",
      "4700000 alignment records processed.\n",
      "4800000 alignment records processed.\n",
      "4900000 alignment records processed.\n",
      "5000000 alignment records processed.\n",
      "5100000 alignment records processed.\n",
      "5200000 alignment records processed.\n",
      "5300000 alignment records processed.\n",
      "5400000 alignment records processed.\n",
      "5500000 alignment records processed.\n",
      "5600000 alignment records processed.\n",
      "5700000 alignment records processed.\n",
      "5800000 alignment records processed.\n",
      "5900000 alignment records processed.\n",
      "6000000 alignment records processed.\n",
      "6100000 alignment records processed.\n",
      "6200000 alignment records processed.\n",
      "6300000 alignment records processed.\n",
      "6400000 alignment records processed.\n",
      "6500000 alignment records processed.\n",
      "6600000 alignment records processed.\n",
      "6700000 alignment records processed.\n",
      "6800000 alignment records processed.\n",
      "6900000 alignment records processed.\n",
      "7000000 alignment records processed.\n",
      "7100000 alignment records processed.\n",
      "7200000 alignment records processed.\n",
      "7300000 alignment records processed.\n",
      "7400000 alignment records processed.\n",
      "7500000 alignment records processed.\n",
      "7600000 alignment records processed.\n",
      "7700000 alignment records processed.\n",
      "7800000 alignment records processed.\n",
      "7900000 alignment records processed.\n",
      "8000000 alignment records processed.\n",
      "8100000 alignment records processed.\n",
      "8200000 alignment records processed.\n",
      "8300000 alignment records processed.\n",
      "8400000 alignment records processed.\n",
      "8500000 alignment records processed.\n",
      "8600000 alignment records processed.\n",
      "8700000 alignment records processed.\n",
      "8800000 alignment records processed.\n",
      "8900000 alignment records processed.\n",
      "9000000 alignment records processed.\n",
      "9100000 alignment records processed.\n",
      "9200000 alignment records processed.\n",
      "9300000 alignment records processed.\n",
      "9400000 alignment records processed.\n",
      "9500000 alignment records processed.\n",
      "9600000 alignment records processed.\n",
      "9700000 alignment records processed.\n",
      "9800000 alignment records processed.\n",
      "9900000 alignment records processed.\n",
      "10000000 alignment records processed.\n",
      "10100000 alignment records processed.\n",
      "10200000 alignment records processed.\n",
      "10300000 alignment records processed.\n",
      "10400000 alignment records processed.\n",
      "10500000 alignment records processed.\n",
      "10600000 alignment records processed.\n",
      "10700000 alignment records processed.\n",
      "10800000 alignment records processed.\n",
      "10900000 alignment records processed.\n",
      "11000000 alignment records processed.\n",
      "11100000 alignment records processed.\n",
      "11200000 alignment records processed.\n",
      "11300000 alignment records processed.\n",
      "11400000 alignment records processed.\n",
      "11500000 alignment records processed.\n",
      "11600000 alignment records processed.\n",
      "11700000 alignment records processed.\n",
      "11800000 alignment records processed.\n",
      "11900000 alignment records processed.\n",
      "12000000 alignment records processed.\n",
      "12100000 alignment records processed.\n",
      "12200000 alignment records processed.\n",
      "12300000 alignment records processed.\n",
      "12400000 alignment records processed.\n",
      "12500000 alignment records processed.\n",
      "12600000 alignment records processed.\n",
      "12700000 alignment records processed.\n",
      "12800000 alignment records processed.\n",
      "12900000 alignment records processed.\n",
      "13000000 alignment records processed.\n",
      "13100000 alignment records processed.\n",
      "13200000 alignment records processed.\n",
      "13300000 alignment records processed.\n",
      "13400000 alignment records processed.\n",
      "13500000 alignment records processed.\n",
      "13600000 alignment records processed.\n",
      "13700000 alignment records processed.\n",
      "13800000 alignment records processed.\n",
      "13900000 alignment records processed.\n",
      "14000000 alignment records processed.\n",
      "14100000 alignment records processed.\n",
      "14200000 alignment records processed.\n",
      "14300000 alignment records processed.\n",
      "14400000 alignment records processed.\n",
      "14500000 alignment records processed.\n",
      "14600000 alignment records processed.\n",
      "14700000 alignment records processed.\n",
      "14800000 alignment records processed.\n",
      "14900000 alignment records processed.\n",
      "15000000 alignment records processed.\n",
      "15100000 alignment records processed.\n",
      "15200000 alignment records processed.\n",
      "15300000 alignment records processed.\n",
      "15400000 alignment records processed.\n",
      "15500000 alignment records processed.\n",
      "15600000 alignment records processed.\n",
      "15700000 alignment records processed.\n",
      "15800000 alignment records processed.\n",
      "15900000 alignment records processed.\n",
      "16000000 alignment records processed.\n",
      "16100000 alignment records processed.\n",
      "16200000 alignment records processed.\n",
      "16300000 alignment records processed.\n",
      "16400000 alignment records processed.\n",
      "16500000 alignment records processed.\n",
      "16600000 alignment records processed.\n",
      "16700000 alignment records processed.\n",
      "16800000 alignment records processed.\n",
      "16900000 alignment records processed.\n",
      "17000000 alignment records processed.\n",
      "17100000 alignment records processed.\n",
      "17200000 alignment records processed.\n",
      "17300000 alignment records processed.\n",
      "17400000 alignment records processed.\n",
      "17500000 alignment records processed.\n",
      "17600000 alignment records processed.\n",
      "17700000 alignment records processed.\n",
      "17800000 alignment records processed.\n",
      "17900000 alignment records processed.\n",
      "18000000 alignment records processed.\n",
      "18043406 alignment records processed.\n",
      "\n",
      "real\t28m4.795s\n",
      "user\t26m54.022s\n",
      "sys\t0m28.933s\n"
     ]
    }
   ],
   "source": [
    "!time htseq-count --format=sam --stranded=no SRR3414637.uniq.sam  gencode.vM25.annotation.gtf > SRR3414637.counts"
   ]
  },
  {
   "cell_type": "code",
   "execution_count": 26,
   "metadata": {
    "colab": {
     "base_uri": "https://localhost:8080/"
    },
    "id": "fvENnVBnisX1",
    "outputId": "5b68d797-ccff-4581-e05b-644df7f20c47"
   },
   "outputs": [
    {
     "name": "stdout",
     "output_type": "stream",
     "text": [
      "__no_feature\t1620359\n",
      "__ambiguous\t728893\n",
      "__too_low_aQual\t0\n",
      "__not_aligned\t0\n",
      "__alignment_not_unique\t0\n"
     ]
    }
   ],
   "source": [
    "! grep '^__' SRR3414629.counts"
   ]
  },
  {
   "cell_type": "code",
   "execution_count": 37,
   "metadata": {
    "colab": {
     "base_uri": "https://localhost:8080/"
    },
    "id": "Iy8i76E78zKa",
    "outputId": "0db66882-14f7-43ce-d3a3-e15f16cbb4cb"
   },
   "outputs": [
    {
     "name": "stdout",
     "output_type": "stream",
     "text": [
      "__no_feature\t1406679\n",
      "__ambiguous\t767361\n",
      "__too_low_aQual\t0\n",
      "__not_aligned\t0\n",
      "__alignment_not_unique\t0\n"
     ]
    }
   ],
   "source": [
    "! grep '^__' SRR3414635.counts"
   ]
  },
  {
   "cell_type": "code",
   "execution_count": 49,
   "metadata": {
    "colab": {
     "base_uri": "https://localhost:8080/"
    },
    "id": "9Y8vYZudWl1N",
    "outputId": "4ed6dd76-dac1-4438-f74b-6681b253fc54"
   },
   "outputs": [
    {
     "name": "stdout",
     "output_type": "stream",
     "text": [
      "__no_feature\t1411488\n",
      "__ambiguous\t717538\n",
      "__too_low_aQual\t0\n",
      "__not_aligned\t0\n",
      "__alignment_not_unique\t0\n"
     ]
    }
   ],
   "source": [
    "! grep '^__' SRR3414637.counts"
   ]
  },
  {
   "cell_type": "code",
   "execution_count": 63,
   "metadata": {
    "colab": {
     "base_uri": "https://localhost:8080/"
    },
    "id": "_FIraSIgZRs1",
    "outputId": "a47400a3-3aba-45ce-a8f4-498a62671228"
   },
   "outputs": [
    {
     "name": "stdout",
     "output_type": "stream",
     "text": [
      "100000 GFF lines processed.\n",
      "200000 GFF lines processed.\n",
      "300000 GFF lines processed.\n",
      "400000 GFF lines processed.\n",
      "500000 GFF lines processed.\n",
      "600000 GFF lines processed.\n",
      "700000 GFF lines processed.\n",
      "800000 GFF lines processed.\n",
      "900000 GFF lines processed.\n",
      "1000000 GFF lines processed.\n",
      "1100000 GFF lines processed.\n",
      "1200000 GFF lines processed.\n",
      "1300000 GFF lines processed.\n",
      "1400000 GFF lines processed.\n",
      "1500000 GFF lines processed.\n",
      "1600000 GFF lines processed.\n",
      "1700000 GFF lines processed.\n",
      "1800000 GFF lines processed.\n",
      "1872052 GFF lines processed.\n",
      "100000 alignment records processed.\n",
      "200000 alignment records processed.\n",
      "300000 alignment records processed.\n",
      "400000 alignment records processed.\n",
      "500000 alignment records processed.\n",
      "600000 alignment records processed.\n",
      "700000 alignment records processed.\n",
      "800000 alignment records processed.\n",
      "900000 alignment records processed.\n",
      "1000000 alignment records processed.\n",
      "1100000 alignment records processed.\n",
      "1200000 alignment records processed.\n",
      "1300000 alignment records processed.\n",
      "1400000 alignment records processed.\n",
      "1500000 alignment records processed.\n",
      "1600000 alignment records processed.\n",
      "1700000 alignment records processed.\n",
      "1800000 alignment records processed.\n",
      "1900000 alignment records processed.\n",
      "2000000 alignment records processed.\n",
      "2100000 alignment records processed.\n",
      "2200000 alignment records processed.\n",
      "2300000 alignment records processed.\n",
      "2400000 alignment records processed.\n",
      "2500000 alignment records processed.\n",
      "2600000 alignment records processed.\n",
      "2700000 alignment records processed.\n",
      "2800000 alignment records processed.\n",
      "2900000 alignment records processed.\n",
      "3000000 alignment records processed.\n",
      "3100000 alignment records processed.\n",
      "3200000 alignment records processed.\n",
      "3300000 alignment records processed.\n",
      "3400000 alignment records processed.\n",
      "3500000 alignment records processed.\n",
      "3600000 alignment records processed.\n",
      "3700000 alignment records processed.\n",
      "3800000 alignment records processed.\n",
      "3900000 alignment records processed.\n",
      "4000000 alignment records processed.\n",
      "4100000 alignment records processed.\n",
      "4200000 alignment records processed.\n",
      "4300000 alignment records processed.\n",
      "4400000 alignment records processed.\n",
      "4500000 alignment records processed.\n",
      "4600000 alignment records processed.\n",
      "4700000 alignment records processed.\n",
      "4800000 alignment records processed.\n",
      "4900000 alignment records processed.\n",
      "5000000 alignment records processed.\n",
      "5100000 alignment records processed.\n",
      "5200000 alignment records processed.\n",
      "5300000 alignment records processed.\n",
      "5400000 alignment records processed.\n",
      "5500000 alignment records processed.\n",
      "5600000 alignment records processed.\n",
      "5700000 alignment records processed.\n",
      "5800000 alignment records processed.\n",
      "5900000 alignment records processed.\n",
      "6000000 alignment records processed.\n",
      "6100000 alignment records processed.\n",
      "6200000 alignment records processed.\n",
      "6300000 alignment records processed.\n",
      "6400000 alignment records processed.\n",
      "6500000 alignment records processed.\n",
      "6600000 alignment records processed.\n",
      "6700000 alignment records processed.\n",
      "6800000 alignment records processed.\n",
      "6900000 alignment records processed.\n",
      "7000000 alignment records processed.\n",
      "7100000 alignment records processed.\n",
      "7200000 alignment records processed.\n",
      "7300000 alignment records processed.\n",
      "7400000 alignment records processed.\n",
      "7500000 alignment records processed.\n",
      "7600000 alignment records processed.\n",
      "7700000 alignment records processed.\n",
      "7800000 alignment records processed.\n",
      "7900000 alignment records processed.\n",
      "8000000 alignment records processed.\n",
      "8100000 alignment records processed.\n",
      "8200000 alignment records processed.\n",
      "8300000 alignment records processed.\n",
      "8400000 alignment records processed.\n",
      "8500000 alignment records processed.\n",
      "8600000 alignment records processed.\n",
      "8700000 alignment records processed.\n",
      "8800000 alignment records processed.\n",
      "8900000 alignment records processed.\n",
      "9000000 alignment records processed.\n",
      "9100000 alignment records processed.\n",
      "9200000 alignment records processed.\n",
      "9300000 alignment records processed.\n",
      "9400000 alignment records processed.\n",
      "9500000 alignment records processed.\n",
      "9600000 alignment records processed.\n",
      "9700000 alignment records processed.\n",
      "9800000 alignment records processed.\n",
      "9900000 alignment records processed.\n",
      "10000000 alignment records processed.\n",
      "10100000 alignment records processed.\n",
      "10200000 alignment records processed.\n",
      "10300000 alignment records processed.\n",
      "10400000 alignment records processed.\n",
      "10500000 alignment records processed.\n",
      "10600000 alignment records processed.\n",
      "10700000 alignment records processed.\n",
      "10800000 alignment records processed.\n",
      "10900000 alignment records processed.\n",
      "11000000 alignment records processed.\n",
      "11100000 alignment records processed.\n",
      "11200000 alignment records processed.\n",
      "11300000 alignment records processed.\n",
      "11400000 alignment records processed.\n",
      "11500000 alignment records processed.\n",
      "11600000 alignment records processed.\n",
      "11700000 alignment records processed.\n",
      "11800000 alignment records processed.\n",
      "11900000 alignment records processed.\n",
      "12000000 alignment records processed.\n",
      "12100000 alignment records processed.\n",
      "12200000 alignment records processed.\n",
      "12300000 alignment records processed.\n",
      "12400000 alignment records processed.\n",
      "12500000 alignment records processed.\n",
      "12600000 alignment records processed.\n",
      "12700000 alignment records processed.\n",
      "12800000 alignment records processed.\n",
      "12900000 alignment records processed.\n",
      "13000000 alignment records processed.\n",
      "13100000 alignment records processed.\n",
      "13200000 alignment records processed.\n",
      "13300000 alignment records processed.\n",
      "13320505 alignment records processed.\n",
      "\n",
      "real\t20m39.533s\n",
      "user\t19m52.119s\n",
      "sys\t0m21.342s\n"
     ]
    }
   ],
   "source": [
    "!time htseq-count --format=sam --stranded=no SRR3414630.uniq.sam  gencode.vM25.annotation.gtf > SRR3414630.counts"
   ]
  },
  {
   "cell_type": "code",
   "execution_count": 64,
   "metadata": {
    "colab": {
     "base_uri": "https://localhost:8080/"
    },
    "id": "HiOxzbn1ZYd1",
    "outputId": "8d97d6d5-d82f-4f89-c85c-e3e1b52704ec"
   },
   "outputs": [
    {
     "name": "stdout",
     "output_type": "stream",
     "text": [
      "__no_feature\t1251763\n",
      "__ambiguous\t484967\n",
      "__too_low_aQual\t0\n",
      "__not_aligned\t0\n",
      "__alignment_not_unique\t0\n"
     ]
    }
   ],
   "source": [
    "! grep '^__' SRR3414630.counts"
   ]
  },
  {
   "cell_type": "code",
   "execution_count": 66,
   "metadata": {
    "colab": {
     "base_uri": "https://localhost:8080/"
    },
    "id": "5O-zsLrFZUk-",
    "outputId": "25e6e337-6b2d-4d42-bcb0-b1048d9893b6"
   },
   "outputs": [
    {
     "name": "stdout",
     "output_type": "stream",
     "text": [
      "100000 GFF lines processed.\n",
      "200000 GFF lines processed.\n",
      "300000 GFF lines processed.\n",
      "400000 GFF lines processed.\n",
      "500000 GFF lines processed.\n",
      "600000 GFF lines processed.\n",
      "700000 GFF lines processed.\n",
      "800000 GFF lines processed.\n",
      "900000 GFF lines processed.\n",
      "1000000 GFF lines processed.\n",
      "1100000 GFF lines processed.\n",
      "1200000 GFF lines processed.\n",
      "1300000 GFF lines processed.\n",
      "1400000 GFF lines processed.\n",
      "1500000 GFF lines processed.\n",
      "1600000 GFF lines processed.\n",
      "1700000 GFF lines processed.\n",
      "1800000 GFF lines processed.\n",
      "1872052 GFF lines processed.\n",
      "100000 alignment records processed.\n",
      "200000 alignment records processed.\n",
      "300000 alignment records processed.\n",
      "400000 alignment records processed.\n",
      "500000 alignment records processed.\n",
      "600000 alignment records processed.\n",
      "700000 alignment records processed.\n",
      "800000 alignment records processed.\n",
      "900000 alignment records processed.\n",
      "1000000 alignment records processed.\n",
      "1100000 alignment records processed.\n",
      "1200000 alignment records processed.\n",
      "1300000 alignment records processed.\n",
      "1400000 alignment records processed.\n",
      "1500000 alignment records processed.\n",
      "1600000 alignment records processed.\n",
      "1700000 alignment records processed.\n",
      "1800000 alignment records processed.\n",
      "1900000 alignment records processed.\n",
      "2000000 alignment records processed.\n",
      "2100000 alignment records processed.\n",
      "2200000 alignment records processed.\n",
      "2300000 alignment records processed.\n",
      "2400000 alignment records processed.\n",
      "2500000 alignment records processed.\n",
      "2600000 alignment records processed.\n",
      "2700000 alignment records processed.\n",
      "2800000 alignment records processed.\n",
      "2900000 alignment records processed.\n",
      "3000000 alignment records processed.\n",
      "3100000 alignment records processed.\n",
      "3200000 alignment records processed.\n",
      "3300000 alignment records processed.\n",
      "3400000 alignment records processed.\n",
      "3500000 alignment records processed.\n",
      "3600000 alignment records processed.\n",
      "3700000 alignment records processed.\n",
      "3800000 alignment records processed.\n",
      "3900000 alignment records processed.\n",
      "4000000 alignment records processed.\n",
      "4100000 alignment records processed.\n",
      "4200000 alignment records processed.\n",
      "4300000 alignment records processed.\n",
      "4400000 alignment records processed.\n",
      "4500000 alignment records processed.\n",
      "4600000 alignment records processed.\n",
      "4700000 alignment records processed.\n",
      "4800000 alignment records processed.\n",
      "4900000 alignment records processed.\n",
      "5000000 alignment records processed.\n",
      "5100000 alignment records processed.\n",
      "5200000 alignment records processed.\n",
      "5300000 alignment records processed.\n",
      "5400000 alignment records processed.\n",
      "5500000 alignment records processed.\n",
      "5600000 alignment records processed.\n",
      "5700000 alignment records processed.\n",
      "5800000 alignment records processed.\n",
      "5900000 alignment records processed.\n",
      "6000000 alignment records processed.\n",
      "6100000 alignment records processed.\n",
      "6200000 alignment records processed.\n",
      "6300000 alignment records processed.\n",
      "6400000 alignment records processed.\n",
      "6500000 alignment records processed.\n",
      "6600000 alignment records processed.\n",
      "6700000 alignment records processed.\n",
      "6800000 alignment records processed.\n",
      "6900000 alignment records processed.\n",
      "7000000 alignment records processed.\n",
      "7100000 alignment records processed.\n",
      "7200000 alignment records processed.\n",
      "7300000 alignment records processed.\n",
      "7400000 alignment records processed.\n",
      "7500000 alignment records processed.\n",
      "7600000 alignment records processed.\n",
      "7700000 alignment records processed.\n",
      "7800000 alignment records processed.\n",
      "7900000 alignment records processed.\n",
      "8000000 alignment records processed.\n",
      "8100000 alignment records processed.\n",
      "8200000 alignment records processed.\n",
      "8300000 alignment records processed.\n",
      "8400000 alignment records processed.\n",
      "8500000 alignment records processed.\n",
      "8600000 alignment records processed.\n",
      "8700000 alignment records processed.\n",
      "8800000 alignment records processed.\n",
      "8900000 alignment records processed.\n",
      "9000000 alignment records processed.\n",
      "9100000 alignment records processed.\n",
      "9200000 alignment records processed.\n",
      "9300000 alignment records processed.\n",
      "9400000 alignment records processed.\n",
      "9500000 alignment records processed.\n",
      "9600000 alignment records processed.\n",
      "9700000 alignment records processed.\n",
      "9800000 alignment records processed.\n",
      "9900000 alignment records processed.\n",
      "10000000 alignment records processed.\n",
      "10100000 alignment records processed.\n",
      "10200000 alignment records processed.\n",
      "10300000 alignment records processed.\n",
      "10400000 alignment records processed.\n",
      "10500000 alignment records processed.\n",
      "10600000 alignment records processed.\n",
      "10700000 alignment records processed.\n",
      "10800000 alignment records processed.\n",
      "10900000 alignment records processed.\n",
      "11000000 alignment records processed.\n",
      "11100000 alignment records processed.\n",
      "11200000 alignment records processed.\n",
      "11300000 alignment records processed.\n",
      "11400000 alignment records processed.\n",
      "11500000 alignment records processed.\n",
      "11600000 alignment records processed.\n",
      "11700000 alignment records processed.\n",
      "11800000 alignment records processed.\n",
      "11900000 alignment records processed.\n",
      "12000000 alignment records processed.\n",
      "12100000 alignment records processed.\n",
      "12200000 alignment records processed.\n",
      "12300000 alignment records processed.\n",
      "12400000 alignment records processed.\n",
      "12500000 alignment records processed.\n",
      "12600000 alignment records processed.\n",
      "12700000 alignment records processed.\n",
      "12800000 alignment records processed.\n",
      "12900000 alignment records processed.\n",
      "13000000 alignment records processed.\n",
      "13100000 alignment records processed.\n",
      "13200000 alignment records processed.\n",
      "13300000 alignment records processed.\n",
      "13400000 alignment records processed.\n",
      "13500000 alignment records processed.\n",
      "13600000 alignment records processed.\n",
      "13700000 alignment records processed.\n",
      "13800000 alignment records processed.\n",
      "13900000 alignment records processed.\n",
      "14000000 alignment records processed.\n",
      "14100000 alignment records processed.\n",
      "14200000 alignment records processed.\n",
      "14300000 alignment records processed.\n",
      "14400000 alignment records processed.\n",
      "14500000 alignment records processed.\n",
      "14600000 alignment records processed.\n",
      "14700000 alignment records processed.\n",
      "14800000 alignment records processed.\n",
      "14900000 alignment records processed.\n",
      "15000000 alignment records processed.\n",
      "15100000 alignment records processed.\n",
      "15200000 alignment records processed.\n",
      "15300000 alignment records processed.\n",
      "15400000 alignment records processed.\n",
      "15500000 alignment records processed.\n",
      "15600000 alignment records processed.\n",
      "15700000 alignment records processed.\n",
      "15800000 alignment records processed.\n",
      "15900000 alignment records processed.\n",
      "16000000 alignment records processed.\n",
      "16100000 alignment records processed.\n",
      "16200000 alignment records processed.\n",
      "16300000 alignment records processed.\n",
      "16400000 alignment records processed.\n",
      "16500000 alignment records processed.\n",
      "16600000 alignment records processed.\n",
      "16700000 alignment records processed.\n",
      "16800000 alignment records processed.\n",
      "16900000 alignment records processed.\n",
      "17000000 alignment records processed.\n",
      "17100000 alignment records processed.\n",
      "17200000 alignment records processed.\n",
      "17300000 alignment records processed.\n",
      "17400000 alignment records processed.\n",
      "17500000 alignment records processed.\n",
      "17600000 alignment records processed.\n",
      "17700000 alignment records processed.\n",
      "17800000 alignment records processed.\n",
      "17900000 alignment records processed.\n",
      "18000000 alignment records processed.\n",
      "18100000 alignment records processed.\n",
      "18200000 alignment records processed.\n",
      "18300000 alignment records processed.\n",
      "18400000 alignment records processed.\n",
      "18500000 alignment records processed.\n",
      "18600000 alignment records processed.\n",
      "18700000 alignment records processed.\n",
      "18800000 alignment records processed.\n",
      "18900000 alignment records processed.\n",
      "19000000 alignment records processed.\n",
      "19100000 alignment records processed.\n",
      "19200000 alignment records processed.\n",
      "19300000 alignment records processed.\n",
      "19400000 alignment records processed.\n",
      "19500000 alignment records processed.\n",
      "19600000 alignment records processed.\n",
      "19700000 alignment records processed.\n",
      "19800000 alignment records processed.\n",
      "19900000 alignment records processed.\n",
      "20000000 alignment records processed.\n",
      "20100000 alignment records processed.\n",
      "20200000 alignment records processed.\n",
      "20300000 alignment records processed.\n",
      "20400000 alignment records processed.\n",
      "20500000 alignment records processed.\n",
      "20600000 alignment records processed.\n",
      "20700000 alignment records processed.\n",
      "20800000 alignment records processed.\n",
      "20900000 alignment records processed.\n",
      "21000000 alignment records processed.\n",
      "21100000 alignment records processed.\n",
      "21159606 alignment records processed.\n",
      "\n",
      "real\t31m21.954s\n",
      "user\t30m11.199s\n",
      "sys\t0m33.567s\n"
     ]
    }
   ],
   "source": [
    "!time htseq-count --format=sam --stranded=no SRR3414631.uniq.sam  gencode.vM25.annotation.gtf > SRR3414631.counts"
   ]
  },
  {
   "cell_type": "code",
   "execution_count": 67,
   "metadata": {
    "colab": {
     "base_uri": "https://localhost:8080/"
    },
    "id": "2iNNojkmZaGp",
    "outputId": "ef483454-9f2c-4be1-b18a-212c51a5f057"
   },
   "outputs": [
    {
     "name": "stdout",
     "output_type": "stream",
     "text": [
      "__no_feature\t1718354\n",
      "__ambiguous\t827751\n",
      "__too_low_aQual\t0\n",
      "__not_aligned\t0\n",
      "__alignment_not_unique\t0\n"
     ]
    }
   ],
   "source": [
    "! grep '^__' SRR3414631.counts"
   ]
  },
  {
   "cell_type": "markdown",
   "metadata": {
    "id": "lQ-ryqO0BiDp"
   },
   "source": [
    "* Unite all .counts file into a single `ALL.counts`."
   ]
  },
  {
   "cell_type": "code",
   "execution_count": 30,
   "metadata": {
    "id": "eadVzOESyHf0"
   },
   "outputs": [],
   "source": [
    "!rm SRR3414636.hisat SRR3414636_1.fastq"
   ]
  },
  {
   "cell_type": "code",
   "execution_count": 27,
   "metadata": {
    "id": "39WP8meK5iPd"
   },
   "outputs": [],
   "source": [
    "!rm SRR3414629.hisat SRR3414629_1.fastq"
   ]
  },
  {
   "cell_type": "code",
   "execution_count": 38,
   "metadata": {
    "id": "IWJNa3yey_sr"
   },
   "outputs": [],
   "source": [
    "!rm SRR3414635.hisat SRR3414635_1.fastq"
   ]
  },
  {
   "cell_type": "code",
   "execution_count": 50,
   "metadata": {
    "id": "U2uHOohnYhTf"
   },
   "outputs": [],
   "source": [
    "!rm SRR3414637.hisat SRR3414637_1.fastq"
   ]
  },
  {
   "cell_type": "code",
   "execution_count": 65,
   "metadata": {
    "id": "EN0DYupJZcZ1"
   },
   "outputs": [],
   "source": [
    "!rm SRR3414630.hisat SRR3414630_1.fastq"
   ]
  },
  {
   "cell_type": "code",
   "execution_count": 68,
   "metadata": {
    "id": "eWwWIjBDZekI"
   },
   "outputs": [],
   "source": [
    "!rm SRR3414631.hisat SRR3414631_1.fastq"
   ]
  },
  {
   "cell_type": "code",
   "execution_count": 71,
   "metadata": {
    "id": "MOp83VHA_2Eq"
   },
   "outputs": [],
   "source": [
    "import pandas as pd\n",
    "\n",
    "c1 = pd.read_csv('SRR3414635.counts', sep=\"\\t\",  names=['Gencode Gene', 'c1'])\n",
    "c2 = pd.read_csv('SRR3414636.counts', sep=\"\\t\",  names=['Gencode Gene', 'c2'])\n",
    "c3 = pd.read_csv('SRR3414637.counts', sep=\"\\t\",  names=['Gencode Gene', 'c3'])\n",
    "r1 = pd.read_csv('SRR3414629.counts', sep=\"\\t\",  names=['Gencode Gene', 'r1'])\n",
    "r2 = pd.read_csv('SRR3414630.counts', sep=\"\\t\",  names=['Gencode Gene', 'r2'])\n",
    "r3 = pd.read_csv('SRR3414631.counts', sep=\"\\t\",  names=['Gencode Gene', 'r3'])\n",
    "\n",
    "c1 = c1.merge(c2, how='left', on='Gencode Gene')\n",
    "c1 = c1.merge(c3, how='left', on='Gencode Gene')\n",
    "c1 = c1.merge(r1, how='left', on='Gencode Gene')\n",
    "c1 = c1.merge(r2, how='left', on='Gencode Gene')\n",
    "c1 = c1.merge(r3, how='left', on='Gencode Gene')"
   ]
  },
  {
   "cell_type": "code",
   "execution_count": 72,
   "metadata": {
    "colab": {
     "base_uri": "https://localhost:8080/",
     "height": 424
    },
    "id": "cLFvuyf0A-8h",
    "outputId": "3f62d2cb-007b-41c2-fd70-9786be538eba"
   },
   "outputs": [
    {
     "data": {
      "application/vnd.google.colaboratory.intrinsic+json": {
       "summary": "{\n  \"name\": \"c1\",\n  \"rows\": 55406,\n  \"fields\": [\n    {\n      \"column\": \"Gencode Gene\",\n      \"properties\": {\n        \"dtype\": \"string\",\n        \"num_unique_values\": 55406,\n        \"samples\": [\n          \"ENSMUSG00000100854.1\",\n          \"ENSMUSG00000111985.1\",\n          \"ENSMUSG00000023210.2\"\n        ],\n        \"semantic_type\": \"\",\n        \"description\": \"\"\n      }\n    },\n    {\n      \"column\": \"c1\",\n      \"properties\": {\n        \"dtype\": \"number\",\n        \"std\": 7230,\n        \"min\": 0,\n        \"max\": 1406679,\n        \"num_unique_values\": 3282,\n        \"samples\": [\n          1496,\n          424,\n          4450\n        ],\n        \"semantic_type\": \"\",\n        \"description\": \"\"\n      }\n    },\n    {\n      \"column\": \"c2\",\n      \"properties\": {\n        \"dtype\": \"number\",\n        \"std\": 6939,\n        \"min\": 0,\n        \"max\": 1347210,\n        \"num_unique_values\": 3231,\n        \"samples\": [\n          6324,\n          391,\n          3190\n        ],\n        \"semantic_type\": \"\",\n        \"description\": \"\"\n      }\n    },\n    {\n      \"column\": \"c3\",\n      \"properties\": {\n        \"dtype\": \"number\",\n        \"std\": 7078,\n        \"min\": 0,\n        \"max\": 1411488,\n        \"num_unique_values\": 3250,\n        \"samples\": [\n          1028,\n          427,\n          1642\n        ],\n        \"semantic_type\": \"\",\n        \"description\": \"\"\n      }\n    },\n    {\n      \"column\": \"r1\",\n      \"properties\": {\n        \"dtype\": \"number\",\n        \"std\": 7769,\n        \"min\": 0,\n        \"max\": 1620359,\n        \"num_unique_values\": 3332,\n        \"samples\": [\n          3153,\n          19127,\n          90\n        ],\n        \"semantic_type\": \"\",\n        \"description\": \"\"\n      }\n    },\n    {\n      \"column\": \"r2\",\n      \"properties\": {\n        \"dtype\": \"number\",\n        \"std\": 5830,\n        \"min\": 0,\n        \"max\": 1251763,\n        \"num_unique_values\": 2830,\n        \"samples\": [\n          834,\n          1001,\n          8254\n        ],\n        \"semantic_type\": \"\",\n        \"description\": \"\"\n      }\n    },\n    {\n      \"column\": \"r3\",\n      \"properties\": {\n        \"dtype\": \"number\",\n        \"std\": 8342,\n        \"min\": 0,\n        \"max\": 1718354,\n        \"num_unique_values\": 3665,\n        \"samples\": [\n          2169,\n          1962,\n          8682\n        ],\n        \"semantic_type\": \"\",\n        \"description\": \"\"\n      }\n    }\n  ]\n}",
       "type": "dataframe",
       "variable_name": "c1"
      },
      "text/html": [
       "\n",
       "  <div id=\"df-a1e3930b-6754-4a72-989c-04516ed744a8\" class=\"colab-df-container\">\n",
       "    <div>\n",
       "<style scoped>\n",
       "    .dataframe tbody tr th:only-of-type {\n",
       "        vertical-align: middle;\n",
       "    }\n",
       "\n",
       "    .dataframe tbody tr th {\n",
       "        vertical-align: top;\n",
       "    }\n",
       "\n",
       "    .dataframe thead th {\n",
       "        text-align: right;\n",
       "    }\n",
       "</style>\n",
       "<table border=\"1\" class=\"dataframe\">\n",
       "  <thead>\n",
       "    <tr style=\"text-align: right;\">\n",
       "      <th></th>\n",
       "      <th>Gencode Gene</th>\n",
       "      <th>c1</th>\n",
       "      <th>c2</th>\n",
       "      <th>c3</th>\n",
       "      <th>r1</th>\n",
       "      <th>r2</th>\n",
       "      <th>r3</th>\n",
       "    </tr>\n",
       "  </thead>\n",
       "  <tbody>\n",
       "    <tr>\n",
       "      <th>0</th>\n",
       "      <td>ENSMUSG00000000001.4</td>\n",
       "      <td>3466</td>\n",
       "      <td>3532</td>\n",
       "      <td>4078</td>\n",
       "      <td>4507</td>\n",
       "      <td>3964</td>\n",
       "      <td>5757</td>\n",
       "    </tr>\n",
       "    <tr>\n",
       "      <th>1</th>\n",
       "      <td>ENSMUSG00000000003.15</td>\n",
       "      <td>0</td>\n",
       "      <td>0</td>\n",
       "      <td>0</td>\n",
       "      <td>0</td>\n",
       "      <td>0</td>\n",
       "      <td>0</td>\n",
       "    </tr>\n",
       "    <tr>\n",
       "      <th>2</th>\n",
       "      <td>ENSMUSG00000000028.15</td>\n",
       "      <td>152</td>\n",
       "      <td>137</td>\n",
       "      <td>152</td>\n",
       "      <td>348</td>\n",
       "      <td>275</td>\n",
       "      <td>472</td>\n",
       "    </tr>\n",
       "    <tr>\n",
       "      <th>3</th>\n",
       "      <td>ENSMUSG00000000031.16</td>\n",
       "      <td>55721</td>\n",
       "      <td>48392</td>\n",
       "      <td>56187</td>\n",
       "      <td>64722</td>\n",
       "      <td>33333</td>\n",
       "      <td>65188</td>\n",
       "    </tr>\n",
       "    <tr>\n",
       "      <th>4</th>\n",
       "      <td>ENSMUSG00000000037.17</td>\n",
       "      <td>43</td>\n",
       "      <td>44</td>\n",
       "      <td>53</td>\n",
       "      <td>79</td>\n",
       "      <td>70</td>\n",
       "      <td>92</td>\n",
       "    </tr>\n",
       "    <tr>\n",
       "      <th>...</th>\n",
       "      <td>...</td>\n",
       "      <td>...</td>\n",
       "      <td>...</td>\n",
       "      <td>...</td>\n",
       "      <td>...</td>\n",
       "      <td>...</td>\n",
       "      <td>...</td>\n",
       "    </tr>\n",
       "    <tr>\n",
       "      <th>55401</th>\n",
       "      <td>__no_feature</td>\n",
       "      <td>1406679</td>\n",
       "      <td>1347210</td>\n",
       "      <td>1411488</td>\n",
       "      <td>1620359</td>\n",
       "      <td>1251763</td>\n",
       "      <td>1718354</td>\n",
       "    </tr>\n",
       "    <tr>\n",
       "      <th>55402</th>\n",
       "      <td>__ambiguous</td>\n",
       "      <td>767361</td>\n",
       "      <td>742802</td>\n",
       "      <td>717538</td>\n",
       "      <td>728893</td>\n",
       "      <td>484967</td>\n",
       "      <td>827751</td>\n",
       "    </tr>\n",
       "    <tr>\n",
       "      <th>55403</th>\n",
       "      <td>__too_low_aQual</td>\n",
       "      <td>0</td>\n",
       "      <td>0</td>\n",
       "      <td>0</td>\n",
       "      <td>0</td>\n",
       "      <td>0</td>\n",
       "      <td>0</td>\n",
       "    </tr>\n",
       "    <tr>\n",
       "      <th>55404</th>\n",
       "      <td>__not_aligned</td>\n",
       "      <td>0</td>\n",
       "      <td>0</td>\n",
       "      <td>0</td>\n",
       "      <td>0</td>\n",
       "      <td>0</td>\n",
       "      <td>0</td>\n",
       "    </tr>\n",
       "    <tr>\n",
       "      <th>55405</th>\n",
       "      <td>__alignment_not_unique</td>\n",
       "      <td>0</td>\n",
       "      <td>0</td>\n",
       "      <td>0</td>\n",
       "      <td>0</td>\n",
       "      <td>0</td>\n",
       "      <td>0</td>\n",
       "    </tr>\n",
       "  </tbody>\n",
       "</table>\n",
       "<p>55406 rows × 7 columns</p>\n",
       "</div>\n",
       "    <div class=\"colab-df-buttons\">\n",
       "\n",
       "  <div class=\"colab-df-container\">\n",
       "    <button class=\"colab-df-convert\" onclick=\"convertToInteractive('df-a1e3930b-6754-4a72-989c-04516ed744a8')\"\n",
       "            title=\"Convert this dataframe to an interactive table.\"\n",
       "            style=\"display:none;\">\n",
       "\n",
       "  <svg xmlns=\"http://www.w3.org/2000/svg\" height=\"24px\" viewBox=\"0 -960 960 960\">\n",
       "    <path d=\"M120-120v-720h720v720H120Zm60-500h600v-160H180v160Zm220 220h160v-160H400v160Zm0 220h160v-160H400v160ZM180-400h160v-160H180v160Zm440 0h160v-160H620v160ZM180-180h160v-160H180v160Zm440 0h160v-160H620v160Z\"/>\n",
       "  </svg>\n",
       "    </button>\n",
       "\n",
       "  <style>\n",
       "    .colab-df-container {\n",
       "      display:flex;\n",
       "      gap: 12px;\n",
       "    }\n",
       "\n",
       "    .colab-df-convert {\n",
       "      background-color: #E8F0FE;\n",
       "      border: none;\n",
       "      border-radius: 50%;\n",
       "      cursor: pointer;\n",
       "      display: none;\n",
       "      fill: #1967D2;\n",
       "      height: 32px;\n",
       "      padding: 0 0 0 0;\n",
       "      width: 32px;\n",
       "    }\n",
       "\n",
       "    .colab-df-convert:hover {\n",
       "      background-color: #E2EBFA;\n",
       "      box-shadow: 0px 1px 2px rgba(60, 64, 67, 0.3), 0px 1px 3px 1px rgba(60, 64, 67, 0.15);\n",
       "      fill: #174EA6;\n",
       "    }\n",
       "\n",
       "    .colab-df-buttons div {\n",
       "      margin-bottom: 4px;\n",
       "    }\n",
       "\n",
       "    [theme=dark] .colab-df-convert {\n",
       "      background-color: #3B4455;\n",
       "      fill: #D2E3FC;\n",
       "    }\n",
       "\n",
       "    [theme=dark] .colab-df-convert:hover {\n",
       "      background-color: #434B5C;\n",
       "      box-shadow: 0px 1px 3px 1px rgba(0, 0, 0, 0.15);\n",
       "      filter: drop-shadow(0px 1px 2px rgba(0, 0, 0, 0.3));\n",
       "      fill: #FFFFFF;\n",
       "    }\n",
       "  </style>\n",
       "\n",
       "    <script>\n",
       "      const buttonEl =\n",
       "        document.querySelector('#df-a1e3930b-6754-4a72-989c-04516ed744a8 button.colab-df-convert');\n",
       "      buttonEl.style.display =\n",
       "        google.colab.kernel.accessAllowed ? 'block' : 'none';\n",
       "\n",
       "      async function convertToInteractive(key) {\n",
       "        const element = document.querySelector('#df-a1e3930b-6754-4a72-989c-04516ed744a8');\n",
       "        const dataTable =\n",
       "          await google.colab.kernel.invokeFunction('convertToInteractive',\n",
       "                                                    [key], {});\n",
       "        if (!dataTable) return;\n",
       "\n",
       "        const docLinkHtml = 'Like what you see? Visit the ' +\n",
       "          '<a target=\"_blank\" href=https://colab.research.google.com/notebooks/data_table.ipynb>data table notebook</a>'\n",
       "          + ' to learn more about interactive tables.';\n",
       "        element.innerHTML = '';\n",
       "        dataTable['output_type'] = 'display_data';\n",
       "        await google.colab.output.renderOutput(dataTable, element);\n",
       "        const docLink = document.createElement('div');\n",
       "        docLink.innerHTML = docLinkHtml;\n",
       "        element.appendChild(docLink);\n",
       "      }\n",
       "    </script>\n",
       "  </div>\n",
       "\n",
       "\n",
       "<div id=\"df-237e3923-c0ba-4959-9c93-4767de318a39\">\n",
       "  <button class=\"colab-df-quickchart\" onclick=\"quickchart('df-237e3923-c0ba-4959-9c93-4767de318a39')\"\n",
       "            title=\"Suggest charts\"\n",
       "            style=\"display:none;\">\n",
       "\n",
       "<svg xmlns=\"http://www.w3.org/2000/svg\" height=\"24px\"viewBox=\"0 0 24 24\"\n",
       "     width=\"24px\">\n",
       "    <g>\n",
       "        <path d=\"M19 3H5c-1.1 0-2 .9-2 2v14c0 1.1.9 2 2 2h14c1.1 0 2-.9 2-2V5c0-1.1-.9-2-2-2zM9 17H7v-7h2v7zm4 0h-2V7h2v10zm4 0h-2v-4h2v4z\"/>\n",
       "    </g>\n",
       "</svg>\n",
       "  </button>\n",
       "\n",
       "<style>\n",
       "  .colab-df-quickchart {\n",
       "      --bg-color: #E8F0FE;\n",
       "      --fill-color: #1967D2;\n",
       "      --hover-bg-color: #E2EBFA;\n",
       "      --hover-fill-color: #174EA6;\n",
       "      --disabled-fill-color: #AAA;\n",
       "      --disabled-bg-color: #DDD;\n",
       "  }\n",
       "\n",
       "  [theme=dark] .colab-df-quickchart {\n",
       "      --bg-color: #3B4455;\n",
       "      --fill-color: #D2E3FC;\n",
       "      --hover-bg-color: #434B5C;\n",
       "      --hover-fill-color: #FFFFFF;\n",
       "      --disabled-bg-color: #3B4455;\n",
       "      --disabled-fill-color: #666;\n",
       "  }\n",
       "\n",
       "  .colab-df-quickchart {\n",
       "    background-color: var(--bg-color);\n",
       "    border: none;\n",
       "    border-radius: 50%;\n",
       "    cursor: pointer;\n",
       "    display: none;\n",
       "    fill: var(--fill-color);\n",
       "    height: 32px;\n",
       "    padding: 0;\n",
       "    width: 32px;\n",
       "  }\n",
       "\n",
       "  .colab-df-quickchart:hover {\n",
       "    background-color: var(--hover-bg-color);\n",
       "    box-shadow: 0 1px 2px rgba(60, 64, 67, 0.3), 0 1px 3px 1px rgba(60, 64, 67, 0.15);\n",
       "    fill: var(--button-hover-fill-color);\n",
       "  }\n",
       "\n",
       "  .colab-df-quickchart-complete:disabled,\n",
       "  .colab-df-quickchart-complete:disabled:hover {\n",
       "    background-color: var(--disabled-bg-color);\n",
       "    fill: var(--disabled-fill-color);\n",
       "    box-shadow: none;\n",
       "  }\n",
       "\n",
       "  .colab-df-spinner {\n",
       "    border: 2px solid var(--fill-color);\n",
       "    border-color: transparent;\n",
       "    border-bottom-color: var(--fill-color);\n",
       "    animation:\n",
       "      spin 1s steps(1) infinite;\n",
       "  }\n",
       "\n",
       "  @keyframes spin {\n",
       "    0% {\n",
       "      border-color: transparent;\n",
       "      border-bottom-color: var(--fill-color);\n",
       "      border-left-color: var(--fill-color);\n",
       "    }\n",
       "    20% {\n",
       "      border-color: transparent;\n",
       "      border-left-color: var(--fill-color);\n",
       "      border-top-color: var(--fill-color);\n",
       "    }\n",
       "    30% {\n",
       "      border-color: transparent;\n",
       "      border-left-color: var(--fill-color);\n",
       "      border-top-color: var(--fill-color);\n",
       "      border-right-color: var(--fill-color);\n",
       "    }\n",
       "    40% {\n",
       "      border-color: transparent;\n",
       "      border-right-color: var(--fill-color);\n",
       "      border-top-color: var(--fill-color);\n",
       "    }\n",
       "    60% {\n",
       "      border-color: transparent;\n",
       "      border-right-color: var(--fill-color);\n",
       "    }\n",
       "    80% {\n",
       "      border-color: transparent;\n",
       "      border-right-color: var(--fill-color);\n",
       "      border-bottom-color: var(--fill-color);\n",
       "    }\n",
       "    90% {\n",
       "      border-color: transparent;\n",
       "      border-bottom-color: var(--fill-color);\n",
       "    }\n",
       "  }\n",
       "</style>\n",
       "\n",
       "  <script>\n",
       "    async function quickchart(key) {\n",
       "      const quickchartButtonEl =\n",
       "        document.querySelector('#' + key + ' button');\n",
       "      quickchartButtonEl.disabled = true;  // To prevent multiple clicks.\n",
       "      quickchartButtonEl.classList.add('colab-df-spinner');\n",
       "      try {\n",
       "        const charts = await google.colab.kernel.invokeFunction(\n",
       "            'suggestCharts', [key], {});\n",
       "      } catch (error) {\n",
       "        console.error('Error during call to suggestCharts:', error);\n",
       "      }\n",
       "      quickchartButtonEl.classList.remove('colab-df-spinner');\n",
       "      quickchartButtonEl.classList.add('colab-df-quickchart-complete');\n",
       "    }\n",
       "    (() => {\n",
       "      let quickchartButtonEl =\n",
       "        document.querySelector('#df-237e3923-c0ba-4959-9c93-4767de318a39 button');\n",
       "      quickchartButtonEl.style.display =\n",
       "        google.colab.kernel.accessAllowed ? 'block' : 'none';\n",
       "    })();\n",
       "  </script>\n",
       "</div>\n",
       "    </div>\n",
       "  </div>\n"
      ],
      "text/plain": [
       "                 Gencode Gene       c1       c2       c3       r1       r2  \\\n",
       "0        ENSMUSG00000000001.4     3466     3532     4078     4507     3964   \n",
       "1       ENSMUSG00000000003.15        0        0        0        0        0   \n",
       "2       ENSMUSG00000000028.15      152      137      152      348      275   \n",
       "3       ENSMUSG00000000031.16    55721    48392    56187    64722    33333   \n",
       "4       ENSMUSG00000000037.17       43       44       53       79       70   \n",
       "...                       ...      ...      ...      ...      ...      ...   \n",
       "55401            __no_feature  1406679  1347210  1411488  1620359  1251763   \n",
       "55402             __ambiguous   767361   742802   717538   728893   484967   \n",
       "55403         __too_low_aQual        0        0        0        0        0   \n",
       "55404           __not_aligned        0        0        0        0        0   \n",
       "55405  __alignment_not_unique        0        0        0        0        0   \n",
       "\n",
       "            r3  \n",
       "0         5757  \n",
       "1            0  \n",
       "2          472  \n",
       "3        65188  \n",
       "4           92  \n",
       "...        ...  \n",
       "55401  1718354  \n",
       "55402   827751  \n",
       "55403        0  \n",
       "55404        0  \n",
       "55405        0  \n",
       "\n",
       "[55406 rows x 7 columns]"
      ]
     },
     "execution_count": 72,
     "metadata": {},
     "output_type": "execute_result"
    }
   ],
   "source": [
    "c1"
   ]
  },
  {
   "cell_type": "code",
   "execution_count": 74,
   "metadata": {
    "id": "aagPB1LHA_Yd"
   },
   "outputs": [],
   "source": [
    "ALL_counts=c1"
   ]
  },
  {
   "cell_type": "code",
   "execution_count": 75,
   "metadata": {
    "colab": {
     "base_uri": "https://localhost:8080/",
     "height": 424
    },
    "id": "6H9xLDoxBgOc",
    "outputId": "c0c17271-362c-4f6b-e4bf-a253f5fbf331"
   },
   "outputs": [
    {
     "data": {
      "application/vnd.google.colaboratory.intrinsic+json": {
       "summary": "{\n  \"name\": \"c1\",\n  \"rows\": 55406,\n  \"fields\": [\n    {\n      \"column\": \"Gencode Gene\",\n      \"properties\": {\n        \"dtype\": \"string\",\n        \"num_unique_values\": 55406,\n        \"samples\": [\n          \"ENSMUSG00000100854.1\",\n          \"ENSMUSG00000111985.1\",\n          \"ENSMUSG00000023210.2\"\n        ],\n        \"semantic_type\": \"\",\n        \"description\": \"\"\n      }\n    },\n    {\n      \"column\": \"c1\",\n      \"properties\": {\n        \"dtype\": \"number\",\n        \"std\": 7230,\n        \"min\": 0,\n        \"max\": 1406679,\n        \"num_unique_values\": 3282,\n        \"samples\": [\n          1496,\n          424,\n          4450\n        ],\n        \"semantic_type\": \"\",\n        \"description\": \"\"\n      }\n    },\n    {\n      \"column\": \"c2\",\n      \"properties\": {\n        \"dtype\": \"number\",\n        \"std\": 6939,\n        \"min\": 0,\n        \"max\": 1347210,\n        \"num_unique_values\": 3231,\n        \"samples\": [\n          6324,\n          391,\n          3190\n        ],\n        \"semantic_type\": \"\",\n        \"description\": \"\"\n      }\n    },\n    {\n      \"column\": \"c3\",\n      \"properties\": {\n        \"dtype\": \"number\",\n        \"std\": 7078,\n        \"min\": 0,\n        \"max\": 1411488,\n        \"num_unique_values\": 3250,\n        \"samples\": [\n          1028,\n          427,\n          1642\n        ],\n        \"semantic_type\": \"\",\n        \"description\": \"\"\n      }\n    },\n    {\n      \"column\": \"r1\",\n      \"properties\": {\n        \"dtype\": \"number\",\n        \"std\": 7769,\n        \"min\": 0,\n        \"max\": 1620359,\n        \"num_unique_values\": 3332,\n        \"samples\": [\n          3153,\n          19127,\n          90\n        ],\n        \"semantic_type\": \"\",\n        \"description\": \"\"\n      }\n    },\n    {\n      \"column\": \"r2\",\n      \"properties\": {\n        \"dtype\": \"number\",\n        \"std\": 5830,\n        \"min\": 0,\n        \"max\": 1251763,\n        \"num_unique_values\": 2830,\n        \"samples\": [\n          834,\n          1001,\n          8254\n        ],\n        \"semantic_type\": \"\",\n        \"description\": \"\"\n      }\n    },\n    {\n      \"column\": \"r3\",\n      \"properties\": {\n        \"dtype\": \"number\",\n        \"std\": 8342,\n        \"min\": 0,\n        \"max\": 1718354,\n        \"num_unique_values\": 3665,\n        \"samples\": [\n          2169,\n          1962,\n          8682\n        ],\n        \"semantic_type\": \"\",\n        \"description\": \"\"\n      }\n    }\n  ]\n}",
       "type": "dataframe",
       "variable_name": "c1"
      },
      "text/html": [
       "\n",
       "  <div id=\"df-dbbcd5ad-c9c4-421e-b458-276e99c17b92\" class=\"colab-df-container\">\n",
       "    <div>\n",
       "<style scoped>\n",
       "    .dataframe tbody tr th:only-of-type {\n",
       "        vertical-align: middle;\n",
       "    }\n",
       "\n",
       "    .dataframe tbody tr th {\n",
       "        vertical-align: top;\n",
       "    }\n",
       "\n",
       "    .dataframe thead th {\n",
       "        text-align: right;\n",
       "    }\n",
       "</style>\n",
       "<table border=\"1\" class=\"dataframe\">\n",
       "  <thead>\n",
       "    <tr style=\"text-align: right;\">\n",
       "      <th></th>\n",
       "      <th>Gencode Gene</th>\n",
       "      <th>c1</th>\n",
       "      <th>c2</th>\n",
       "      <th>c3</th>\n",
       "      <th>r1</th>\n",
       "      <th>r2</th>\n",
       "      <th>r3</th>\n",
       "    </tr>\n",
       "  </thead>\n",
       "  <tbody>\n",
       "    <tr>\n",
       "      <th>0</th>\n",
       "      <td>ENSMUSG00000000001.4</td>\n",
       "      <td>3466</td>\n",
       "      <td>3532</td>\n",
       "      <td>4078</td>\n",
       "      <td>4507</td>\n",
       "      <td>3964</td>\n",
       "      <td>5757</td>\n",
       "    </tr>\n",
       "    <tr>\n",
       "      <th>1</th>\n",
       "      <td>ENSMUSG00000000003.15</td>\n",
       "      <td>0</td>\n",
       "      <td>0</td>\n",
       "      <td>0</td>\n",
       "      <td>0</td>\n",
       "      <td>0</td>\n",
       "      <td>0</td>\n",
       "    </tr>\n",
       "    <tr>\n",
       "      <th>2</th>\n",
       "      <td>ENSMUSG00000000028.15</td>\n",
       "      <td>152</td>\n",
       "      <td>137</td>\n",
       "      <td>152</td>\n",
       "      <td>348</td>\n",
       "      <td>275</td>\n",
       "      <td>472</td>\n",
       "    </tr>\n",
       "    <tr>\n",
       "      <th>3</th>\n",
       "      <td>ENSMUSG00000000031.16</td>\n",
       "      <td>55721</td>\n",
       "      <td>48392</td>\n",
       "      <td>56187</td>\n",
       "      <td>64722</td>\n",
       "      <td>33333</td>\n",
       "      <td>65188</td>\n",
       "    </tr>\n",
       "    <tr>\n",
       "      <th>4</th>\n",
       "      <td>ENSMUSG00000000037.17</td>\n",
       "      <td>43</td>\n",
       "      <td>44</td>\n",
       "      <td>53</td>\n",
       "      <td>79</td>\n",
       "      <td>70</td>\n",
       "      <td>92</td>\n",
       "    </tr>\n",
       "    <tr>\n",
       "      <th>...</th>\n",
       "      <td>...</td>\n",
       "      <td>...</td>\n",
       "      <td>...</td>\n",
       "      <td>...</td>\n",
       "      <td>...</td>\n",
       "      <td>...</td>\n",
       "      <td>...</td>\n",
       "    </tr>\n",
       "    <tr>\n",
       "      <th>55401</th>\n",
       "      <td>__no_feature</td>\n",
       "      <td>1406679</td>\n",
       "      <td>1347210</td>\n",
       "      <td>1411488</td>\n",
       "      <td>1620359</td>\n",
       "      <td>1251763</td>\n",
       "      <td>1718354</td>\n",
       "    </tr>\n",
       "    <tr>\n",
       "      <th>55402</th>\n",
       "      <td>__ambiguous</td>\n",
       "      <td>767361</td>\n",
       "      <td>742802</td>\n",
       "      <td>717538</td>\n",
       "      <td>728893</td>\n",
       "      <td>484967</td>\n",
       "      <td>827751</td>\n",
       "    </tr>\n",
       "    <tr>\n",
       "      <th>55403</th>\n",
       "      <td>__too_low_aQual</td>\n",
       "      <td>0</td>\n",
       "      <td>0</td>\n",
       "      <td>0</td>\n",
       "      <td>0</td>\n",
       "      <td>0</td>\n",
       "      <td>0</td>\n",
       "    </tr>\n",
       "    <tr>\n",
       "      <th>55404</th>\n",
       "      <td>__not_aligned</td>\n",
       "      <td>0</td>\n",
       "      <td>0</td>\n",
       "      <td>0</td>\n",
       "      <td>0</td>\n",
       "      <td>0</td>\n",
       "      <td>0</td>\n",
       "    </tr>\n",
       "    <tr>\n",
       "      <th>55405</th>\n",
       "      <td>__alignment_not_unique</td>\n",
       "      <td>0</td>\n",
       "      <td>0</td>\n",
       "      <td>0</td>\n",
       "      <td>0</td>\n",
       "      <td>0</td>\n",
       "      <td>0</td>\n",
       "    </tr>\n",
       "  </tbody>\n",
       "</table>\n",
       "<p>55406 rows × 7 columns</p>\n",
       "</div>\n",
       "    <div class=\"colab-df-buttons\">\n",
       "\n",
       "  <div class=\"colab-df-container\">\n",
       "    <button class=\"colab-df-convert\" onclick=\"convertToInteractive('df-dbbcd5ad-c9c4-421e-b458-276e99c17b92')\"\n",
       "            title=\"Convert this dataframe to an interactive table.\"\n",
       "            style=\"display:none;\">\n",
       "\n",
       "  <svg xmlns=\"http://www.w3.org/2000/svg\" height=\"24px\" viewBox=\"0 -960 960 960\">\n",
       "    <path d=\"M120-120v-720h720v720H120Zm60-500h600v-160H180v160Zm220 220h160v-160H400v160Zm0 220h160v-160H400v160ZM180-400h160v-160H180v160Zm440 0h160v-160H620v160ZM180-180h160v-160H180v160Zm440 0h160v-160H620v160Z\"/>\n",
       "  </svg>\n",
       "    </button>\n",
       "\n",
       "  <style>\n",
       "    .colab-df-container {\n",
       "      display:flex;\n",
       "      gap: 12px;\n",
       "    }\n",
       "\n",
       "    .colab-df-convert {\n",
       "      background-color: #E8F0FE;\n",
       "      border: none;\n",
       "      border-radius: 50%;\n",
       "      cursor: pointer;\n",
       "      display: none;\n",
       "      fill: #1967D2;\n",
       "      height: 32px;\n",
       "      padding: 0 0 0 0;\n",
       "      width: 32px;\n",
       "    }\n",
       "\n",
       "    .colab-df-convert:hover {\n",
       "      background-color: #E2EBFA;\n",
       "      box-shadow: 0px 1px 2px rgba(60, 64, 67, 0.3), 0px 1px 3px 1px rgba(60, 64, 67, 0.15);\n",
       "      fill: #174EA6;\n",
       "    }\n",
       "\n",
       "    .colab-df-buttons div {\n",
       "      margin-bottom: 4px;\n",
       "    }\n",
       "\n",
       "    [theme=dark] .colab-df-convert {\n",
       "      background-color: #3B4455;\n",
       "      fill: #D2E3FC;\n",
       "    }\n",
       "\n",
       "    [theme=dark] .colab-df-convert:hover {\n",
       "      background-color: #434B5C;\n",
       "      box-shadow: 0px 1px 3px 1px rgba(0, 0, 0, 0.15);\n",
       "      filter: drop-shadow(0px 1px 2px rgba(0, 0, 0, 0.3));\n",
       "      fill: #FFFFFF;\n",
       "    }\n",
       "  </style>\n",
       "\n",
       "    <script>\n",
       "      const buttonEl =\n",
       "        document.querySelector('#df-dbbcd5ad-c9c4-421e-b458-276e99c17b92 button.colab-df-convert');\n",
       "      buttonEl.style.display =\n",
       "        google.colab.kernel.accessAllowed ? 'block' : 'none';\n",
       "\n",
       "      async function convertToInteractive(key) {\n",
       "        const element = document.querySelector('#df-dbbcd5ad-c9c4-421e-b458-276e99c17b92');\n",
       "        const dataTable =\n",
       "          await google.colab.kernel.invokeFunction('convertToInteractive',\n",
       "                                                    [key], {});\n",
       "        if (!dataTable) return;\n",
       "\n",
       "        const docLinkHtml = 'Like what you see? Visit the ' +\n",
       "          '<a target=\"_blank\" href=https://colab.research.google.com/notebooks/data_table.ipynb>data table notebook</a>'\n",
       "          + ' to learn more about interactive tables.';\n",
       "        element.innerHTML = '';\n",
       "        dataTable['output_type'] = 'display_data';\n",
       "        await google.colab.output.renderOutput(dataTable, element);\n",
       "        const docLink = document.createElement('div');\n",
       "        docLink.innerHTML = docLinkHtml;\n",
       "        element.appendChild(docLink);\n",
       "      }\n",
       "    </script>\n",
       "  </div>\n",
       "\n",
       "\n",
       "<div id=\"df-11060cf2-b936-46ca-a5e0-eecc8bb87523\">\n",
       "  <button class=\"colab-df-quickchart\" onclick=\"quickchart('df-11060cf2-b936-46ca-a5e0-eecc8bb87523')\"\n",
       "            title=\"Suggest charts\"\n",
       "            style=\"display:none;\">\n",
       "\n",
       "<svg xmlns=\"http://www.w3.org/2000/svg\" height=\"24px\"viewBox=\"0 0 24 24\"\n",
       "     width=\"24px\">\n",
       "    <g>\n",
       "        <path d=\"M19 3H5c-1.1 0-2 .9-2 2v14c0 1.1.9 2 2 2h14c1.1 0 2-.9 2-2V5c0-1.1-.9-2-2-2zM9 17H7v-7h2v7zm4 0h-2V7h2v10zm4 0h-2v-4h2v4z\"/>\n",
       "    </g>\n",
       "</svg>\n",
       "  </button>\n",
       "\n",
       "<style>\n",
       "  .colab-df-quickchart {\n",
       "      --bg-color: #E8F0FE;\n",
       "      --fill-color: #1967D2;\n",
       "      --hover-bg-color: #E2EBFA;\n",
       "      --hover-fill-color: #174EA6;\n",
       "      --disabled-fill-color: #AAA;\n",
       "      --disabled-bg-color: #DDD;\n",
       "  }\n",
       "\n",
       "  [theme=dark] .colab-df-quickchart {\n",
       "      --bg-color: #3B4455;\n",
       "      --fill-color: #D2E3FC;\n",
       "      --hover-bg-color: #434B5C;\n",
       "      --hover-fill-color: #FFFFFF;\n",
       "      --disabled-bg-color: #3B4455;\n",
       "      --disabled-fill-color: #666;\n",
       "  }\n",
       "\n",
       "  .colab-df-quickchart {\n",
       "    background-color: var(--bg-color);\n",
       "    border: none;\n",
       "    border-radius: 50%;\n",
       "    cursor: pointer;\n",
       "    display: none;\n",
       "    fill: var(--fill-color);\n",
       "    height: 32px;\n",
       "    padding: 0;\n",
       "    width: 32px;\n",
       "  }\n",
       "\n",
       "  .colab-df-quickchart:hover {\n",
       "    background-color: var(--hover-bg-color);\n",
       "    box-shadow: 0 1px 2px rgba(60, 64, 67, 0.3), 0 1px 3px 1px rgba(60, 64, 67, 0.15);\n",
       "    fill: var(--button-hover-fill-color);\n",
       "  }\n",
       "\n",
       "  .colab-df-quickchart-complete:disabled,\n",
       "  .colab-df-quickchart-complete:disabled:hover {\n",
       "    background-color: var(--disabled-bg-color);\n",
       "    fill: var(--disabled-fill-color);\n",
       "    box-shadow: none;\n",
       "  }\n",
       "\n",
       "  .colab-df-spinner {\n",
       "    border: 2px solid var(--fill-color);\n",
       "    border-color: transparent;\n",
       "    border-bottom-color: var(--fill-color);\n",
       "    animation:\n",
       "      spin 1s steps(1) infinite;\n",
       "  }\n",
       "\n",
       "  @keyframes spin {\n",
       "    0% {\n",
       "      border-color: transparent;\n",
       "      border-bottom-color: var(--fill-color);\n",
       "      border-left-color: var(--fill-color);\n",
       "    }\n",
       "    20% {\n",
       "      border-color: transparent;\n",
       "      border-left-color: var(--fill-color);\n",
       "      border-top-color: var(--fill-color);\n",
       "    }\n",
       "    30% {\n",
       "      border-color: transparent;\n",
       "      border-left-color: var(--fill-color);\n",
       "      border-top-color: var(--fill-color);\n",
       "      border-right-color: var(--fill-color);\n",
       "    }\n",
       "    40% {\n",
       "      border-color: transparent;\n",
       "      border-right-color: var(--fill-color);\n",
       "      border-top-color: var(--fill-color);\n",
       "    }\n",
       "    60% {\n",
       "      border-color: transparent;\n",
       "      border-right-color: var(--fill-color);\n",
       "    }\n",
       "    80% {\n",
       "      border-color: transparent;\n",
       "      border-right-color: var(--fill-color);\n",
       "      border-bottom-color: var(--fill-color);\n",
       "    }\n",
       "    90% {\n",
       "      border-color: transparent;\n",
       "      border-bottom-color: var(--fill-color);\n",
       "    }\n",
       "  }\n",
       "</style>\n",
       "\n",
       "  <script>\n",
       "    async function quickchart(key) {\n",
       "      const quickchartButtonEl =\n",
       "        document.querySelector('#' + key + ' button');\n",
       "      quickchartButtonEl.disabled = true;  // To prevent multiple clicks.\n",
       "      quickchartButtonEl.classList.add('colab-df-spinner');\n",
       "      try {\n",
       "        const charts = await google.colab.kernel.invokeFunction(\n",
       "            'suggestCharts', [key], {});\n",
       "      } catch (error) {\n",
       "        console.error('Error during call to suggestCharts:', error);\n",
       "      }\n",
       "      quickchartButtonEl.classList.remove('colab-df-spinner');\n",
       "      quickchartButtonEl.classList.add('colab-df-quickchart-complete');\n",
       "    }\n",
       "    (() => {\n",
       "      let quickchartButtonEl =\n",
       "        document.querySelector('#df-11060cf2-b936-46ca-a5e0-eecc8bb87523 button');\n",
       "      quickchartButtonEl.style.display =\n",
       "        google.colab.kernel.accessAllowed ? 'block' : 'none';\n",
       "    })();\n",
       "  </script>\n",
       "</div>\n",
       "    </div>\n",
       "  </div>\n"
      ],
      "text/plain": [
       "                 Gencode Gene       c1       c2       c3       r1       r2  \\\n",
       "0        ENSMUSG00000000001.4     3466     3532     4078     4507     3964   \n",
       "1       ENSMUSG00000000003.15        0        0        0        0        0   \n",
       "2       ENSMUSG00000000028.15      152      137      152      348      275   \n",
       "3       ENSMUSG00000000031.16    55721    48392    56187    64722    33333   \n",
       "4       ENSMUSG00000000037.17       43       44       53       79       70   \n",
       "...                       ...      ...      ...      ...      ...      ...   \n",
       "55401            __no_feature  1406679  1347210  1411488  1620359  1251763   \n",
       "55402             __ambiguous   767361   742802   717538   728893   484967   \n",
       "55403         __too_low_aQual        0        0        0        0        0   \n",
       "55404           __not_aligned        0        0        0        0        0   \n",
       "55405  __alignment_not_unique        0        0        0        0        0   \n",
       "\n",
       "            r3  \n",
       "0         5757  \n",
       "1            0  \n",
       "2          472  \n",
       "3        65188  \n",
       "4           92  \n",
       "...        ...  \n",
       "55401  1718354  \n",
       "55402   827751  \n",
       "55403        0  \n",
       "55404        0  \n",
       "55405        0  \n",
       "\n",
       "[55406 rows x 7 columns]"
      ]
     },
     "execution_count": 75,
     "metadata": {},
     "output_type": "execute_result"
    }
   ],
   "source": [
    "ALL_counts"
   ]
  },
  {
   "cell_type": "code",
   "execution_count": 76,
   "metadata": {
    "id": "_ugNhsKFB8lD"
   },
   "outputs": [],
   "source": [
    "ALL_counts.to_csv('ALL.counts')\n"
   ]
  },
  {
   "cell_type": "code",
   "execution_count": 77,
   "metadata": {
    "colab": {
     "base_uri": "https://localhost:8080/",
     "height": 238
    },
    "id": "6F0e9cR1CT15",
    "outputId": "3954e2f8-02bf-497c-d930-e31ff609eed7"
   },
   "outputs": [
    {
     "data": {
      "application/vnd.google.colaboratory.intrinsic+json": {
       "summary": "{\n  \"name\": \"ALL_info\",\n  \"rows\": 6,\n  \"fields\": [\n    {\n      \"column\": \"id\",\n      \"properties\": {\n        \"dtype\": \"string\",\n        \"num_unique_values\": 6,\n        \"samples\": [\n          \"SRR3414635\",\n          \"SRR3414636\",\n          \"SRR3414631\"\n        ],\n        \"semantic_type\": \"\",\n        \"description\": \"\"\n      }\n    },\n    {\n      \"column\": \"condition\",\n      \"properties\": {\n        \"dtype\": \"category\",\n        \"num_unique_values\": 2,\n        \"samples\": [\n          \"reprogramming\",\n          \"control\"\n        ],\n        \"semantic_type\": \"\",\n        \"description\": \"\"\n      }\n    }\n  ]\n}",
       "type": "dataframe",
       "variable_name": "ALL_info"
      },
      "text/html": [
       "\n",
       "  <div id=\"df-b118fc75-9626-4d98-a265-0c35bbed9dbe\" class=\"colab-df-container\">\n",
       "    <div>\n",
       "<style scoped>\n",
       "    .dataframe tbody tr th:only-of-type {\n",
       "        vertical-align: middle;\n",
       "    }\n",
       "\n",
       "    .dataframe tbody tr th {\n",
       "        vertical-align: top;\n",
       "    }\n",
       "\n",
       "    .dataframe thead th {\n",
       "        text-align: right;\n",
       "    }\n",
       "</style>\n",
       "<table border=\"1\" class=\"dataframe\">\n",
       "  <thead>\n",
       "    <tr style=\"text-align: right;\">\n",
       "      <th></th>\n",
       "      <th>id</th>\n",
       "      <th>condition</th>\n",
       "    </tr>\n",
       "  </thead>\n",
       "  <tbody>\n",
       "    <tr>\n",
       "      <th>c1</th>\n",
       "      <td>SRR3414635</td>\n",
       "      <td>control</td>\n",
       "    </tr>\n",
       "    <tr>\n",
       "      <th>c2</th>\n",
       "      <td>SRR3414636</td>\n",
       "      <td>control</td>\n",
       "    </tr>\n",
       "    <tr>\n",
       "      <th>c3</th>\n",
       "      <td>SRR3414637</td>\n",
       "      <td>control</td>\n",
       "    </tr>\n",
       "    <tr>\n",
       "      <th>r1</th>\n",
       "      <td>SRR3414629</td>\n",
       "      <td>reprogramming</td>\n",
       "    </tr>\n",
       "    <tr>\n",
       "      <th>r2</th>\n",
       "      <td>SRR3414630</td>\n",
       "      <td>reprogramming</td>\n",
       "    </tr>\n",
       "    <tr>\n",
       "      <th>r3</th>\n",
       "      <td>SRR3414631</td>\n",
       "      <td>reprogramming</td>\n",
       "    </tr>\n",
       "  </tbody>\n",
       "</table>\n",
       "</div>\n",
       "    <div class=\"colab-df-buttons\">\n",
       "\n",
       "  <div class=\"colab-df-container\">\n",
       "    <button class=\"colab-df-convert\" onclick=\"convertToInteractive('df-b118fc75-9626-4d98-a265-0c35bbed9dbe')\"\n",
       "            title=\"Convert this dataframe to an interactive table.\"\n",
       "            style=\"display:none;\">\n",
       "\n",
       "  <svg xmlns=\"http://www.w3.org/2000/svg\" height=\"24px\" viewBox=\"0 -960 960 960\">\n",
       "    <path d=\"M120-120v-720h720v720H120Zm60-500h600v-160H180v160Zm220 220h160v-160H400v160Zm0 220h160v-160H400v160ZM180-400h160v-160H180v160Zm440 0h160v-160H620v160ZM180-180h160v-160H180v160Zm440 0h160v-160H620v160Z\"/>\n",
       "  </svg>\n",
       "    </button>\n",
       "\n",
       "  <style>\n",
       "    .colab-df-container {\n",
       "      display:flex;\n",
       "      gap: 12px;\n",
       "    }\n",
       "\n",
       "    .colab-df-convert {\n",
       "      background-color: #E8F0FE;\n",
       "      border: none;\n",
       "      border-radius: 50%;\n",
       "      cursor: pointer;\n",
       "      display: none;\n",
       "      fill: #1967D2;\n",
       "      height: 32px;\n",
       "      padding: 0 0 0 0;\n",
       "      width: 32px;\n",
       "    }\n",
       "\n",
       "    .colab-df-convert:hover {\n",
       "      background-color: #E2EBFA;\n",
       "      box-shadow: 0px 1px 2px rgba(60, 64, 67, 0.3), 0px 1px 3px 1px rgba(60, 64, 67, 0.15);\n",
       "      fill: #174EA6;\n",
       "    }\n",
       "\n",
       "    .colab-df-buttons div {\n",
       "      margin-bottom: 4px;\n",
       "    }\n",
       "\n",
       "    [theme=dark] .colab-df-convert {\n",
       "      background-color: #3B4455;\n",
       "      fill: #D2E3FC;\n",
       "    }\n",
       "\n",
       "    [theme=dark] .colab-df-convert:hover {\n",
       "      background-color: #434B5C;\n",
       "      box-shadow: 0px 1px 3px 1px rgba(0, 0, 0, 0.15);\n",
       "      filter: drop-shadow(0px 1px 2px rgba(0, 0, 0, 0.3));\n",
       "      fill: #FFFFFF;\n",
       "    }\n",
       "  </style>\n",
       "\n",
       "    <script>\n",
       "      const buttonEl =\n",
       "        document.querySelector('#df-b118fc75-9626-4d98-a265-0c35bbed9dbe button.colab-df-convert');\n",
       "      buttonEl.style.display =\n",
       "        google.colab.kernel.accessAllowed ? 'block' : 'none';\n",
       "\n",
       "      async function convertToInteractive(key) {\n",
       "        const element = document.querySelector('#df-b118fc75-9626-4d98-a265-0c35bbed9dbe');\n",
       "        const dataTable =\n",
       "          await google.colab.kernel.invokeFunction('convertToInteractive',\n",
       "                                                    [key], {});\n",
       "        if (!dataTable) return;\n",
       "\n",
       "        const docLinkHtml = 'Like what you see? Visit the ' +\n",
       "          '<a target=\"_blank\" href=https://colab.research.google.com/notebooks/data_table.ipynb>data table notebook</a>'\n",
       "          + ' to learn more about interactive tables.';\n",
       "        element.innerHTML = '';\n",
       "        dataTable['output_type'] = 'display_data';\n",
       "        await google.colab.output.renderOutput(dataTable, element);\n",
       "        const docLink = document.createElement('div');\n",
       "        docLink.innerHTML = docLinkHtml;\n",
       "        element.appendChild(docLink);\n",
       "      }\n",
       "    </script>\n",
       "  </div>\n",
       "\n",
       "\n",
       "<div id=\"df-a9c4c053-79b3-47d0-aeb3-43e673b6838f\">\n",
       "  <button class=\"colab-df-quickchart\" onclick=\"quickchart('df-a9c4c053-79b3-47d0-aeb3-43e673b6838f')\"\n",
       "            title=\"Suggest charts\"\n",
       "            style=\"display:none;\">\n",
       "\n",
       "<svg xmlns=\"http://www.w3.org/2000/svg\" height=\"24px\"viewBox=\"0 0 24 24\"\n",
       "     width=\"24px\">\n",
       "    <g>\n",
       "        <path d=\"M19 3H5c-1.1 0-2 .9-2 2v14c0 1.1.9 2 2 2h14c1.1 0 2-.9 2-2V5c0-1.1-.9-2-2-2zM9 17H7v-7h2v7zm4 0h-2V7h2v10zm4 0h-2v-4h2v4z\"/>\n",
       "    </g>\n",
       "</svg>\n",
       "  </button>\n",
       "\n",
       "<style>\n",
       "  .colab-df-quickchart {\n",
       "      --bg-color: #E8F0FE;\n",
       "      --fill-color: #1967D2;\n",
       "      --hover-bg-color: #E2EBFA;\n",
       "      --hover-fill-color: #174EA6;\n",
       "      --disabled-fill-color: #AAA;\n",
       "      --disabled-bg-color: #DDD;\n",
       "  }\n",
       "\n",
       "  [theme=dark] .colab-df-quickchart {\n",
       "      --bg-color: #3B4455;\n",
       "      --fill-color: #D2E3FC;\n",
       "      --hover-bg-color: #434B5C;\n",
       "      --hover-fill-color: #FFFFFF;\n",
       "      --disabled-bg-color: #3B4455;\n",
       "      --disabled-fill-color: #666;\n",
       "  }\n",
       "\n",
       "  .colab-df-quickchart {\n",
       "    background-color: var(--bg-color);\n",
       "    border: none;\n",
       "    border-radius: 50%;\n",
       "    cursor: pointer;\n",
       "    display: none;\n",
       "    fill: var(--fill-color);\n",
       "    height: 32px;\n",
       "    padding: 0;\n",
       "    width: 32px;\n",
       "  }\n",
       "\n",
       "  .colab-df-quickchart:hover {\n",
       "    background-color: var(--hover-bg-color);\n",
       "    box-shadow: 0 1px 2px rgba(60, 64, 67, 0.3), 0 1px 3px 1px rgba(60, 64, 67, 0.15);\n",
       "    fill: var(--button-hover-fill-color);\n",
       "  }\n",
       "\n",
       "  .colab-df-quickchart-complete:disabled,\n",
       "  .colab-df-quickchart-complete:disabled:hover {\n",
       "    background-color: var(--disabled-bg-color);\n",
       "    fill: var(--disabled-fill-color);\n",
       "    box-shadow: none;\n",
       "  }\n",
       "\n",
       "  .colab-df-spinner {\n",
       "    border: 2px solid var(--fill-color);\n",
       "    border-color: transparent;\n",
       "    border-bottom-color: var(--fill-color);\n",
       "    animation:\n",
       "      spin 1s steps(1) infinite;\n",
       "  }\n",
       "\n",
       "  @keyframes spin {\n",
       "    0% {\n",
       "      border-color: transparent;\n",
       "      border-bottom-color: var(--fill-color);\n",
       "      border-left-color: var(--fill-color);\n",
       "    }\n",
       "    20% {\n",
       "      border-color: transparent;\n",
       "      border-left-color: var(--fill-color);\n",
       "      border-top-color: var(--fill-color);\n",
       "    }\n",
       "    30% {\n",
       "      border-color: transparent;\n",
       "      border-left-color: var(--fill-color);\n",
       "      border-top-color: var(--fill-color);\n",
       "      border-right-color: var(--fill-color);\n",
       "    }\n",
       "    40% {\n",
       "      border-color: transparent;\n",
       "      border-right-color: var(--fill-color);\n",
       "      border-top-color: var(--fill-color);\n",
       "    }\n",
       "    60% {\n",
       "      border-color: transparent;\n",
       "      border-right-color: var(--fill-color);\n",
       "    }\n",
       "    80% {\n",
       "      border-color: transparent;\n",
       "      border-right-color: var(--fill-color);\n",
       "      border-bottom-color: var(--fill-color);\n",
       "    }\n",
       "    90% {\n",
       "      border-color: transparent;\n",
       "      border-bottom-color: var(--fill-color);\n",
       "    }\n",
       "  }\n",
       "</style>\n",
       "\n",
       "  <script>\n",
       "    async function quickchart(key) {\n",
       "      const quickchartButtonEl =\n",
       "        document.querySelector('#' + key + ' button');\n",
       "      quickchartButtonEl.disabled = true;  // To prevent multiple clicks.\n",
       "      quickchartButtonEl.classList.add('colab-df-spinner');\n",
       "      try {\n",
       "        const charts = await google.colab.kernel.invokeFunction(\n",
       "            'suggestCharts', [key], {});\n",
       "      } catch (error) {\n",
       "        console.error('Error during call to suggestCharts:', error);\n",
       "      }\n",
       "      quickchartButtonEl.classList.remove('colab-df-spinner');\n",
       "      quickchartButtonEl.classList.add('colab-df-quickchart-complete');\n",
       "    }\n",
       "    (() => {\n",
       "      let quickchartButtonEl =\n",
       "        document.querySelector('#df-a9c4c053-79b3-47d0-aeb3-43e673b6838f button');\n",
       "      quickchartButtonEl.style.display =\n",
       "        google.colab.kernel.accessAllowed ? 'block' : 'none';\n",
       "    })();\n",
       "  </script>\n",
       "</div>\n",
       "    </div>\n",
       "  </div>\n"
      ],
      "text/plain": [
       "            id      condition\n",
       "c1  SRR3414635        control\n",
       "c2  SRR3414636        control\n",
       "c3  SRR3414637        control\n",
       "r1  SRR3414629  reprogramming\n",
       "r2  SRR3414630  reprogramming\n",
       "r3  SRR3414631  reprogramming"
      ]
     },
     "execution_count": 77,
     "metadata": {},
     "output_type": "execute_result"
    }
   ],
   "source": [
    "info = {'id':['SRR3414635', 'SRR3414636', 'SRR3414637', 'SRR3414629', 'SRR3414630', 'SRR3414631'], 'condition':['control', 'control', 'control', 'reprogramming', 'reprogramming', 'reprogramming']}\n",
    "ALL_info = pd.DataFrame(info, index =['c1', 'c2', 'c3', 'r1', 'r2', 'r3'])\n",
    "ALL_info"
   ]
  },
  {
   "cell_type": "code",
   "execution_count": 78,
   "metadata": {
    "id": "aWY7GGiaDC3L"
   },
   "outputs": [],
   "source": [
    "ALL_info.to_csv('ALL.info')\n"
   ]
  },
  {
   "cell_type": "code",
   "execution_count": null,
   "metadata": {
    "id": "CdcsHcYBDH0u"
   },
   "outputs": [],
   "source": []
  }
 ],
 "metadata": {
  "colab": {
   "provenance": []
  },
  "kernelspec": {
   "display_name": "Python 3 (ipykernel)",
   "language": "python",
   "name": "python3"
  },
  "language_info": {
   "codemirror_mode": {
    "name": "ipython",
    "version": 3
   },
   "file_extension": ".py",
   "mimetype": "text/x-python",
   "name": "python",
   "nbconvert_exporter": "python",
   "pygments_lexer": "ipython3",
   "version": "3.10.6"
  }
 },
 "nbformat": 4,
 "nbformat_minor": 4
}
